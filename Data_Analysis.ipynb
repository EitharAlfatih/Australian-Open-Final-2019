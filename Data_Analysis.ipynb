{
 "cells": [
  {
   "cell_type": "markdown",
   "metadata": {},
   "source": [
    "# Austrailan Open 2019 Final Analysis"
   ]
  },
  {
   "cell_type": "markdown",
   "metadata": {},
   "source": [
    "Score: [1] Djokovic def. [2] Nadal 6-3 6-2 6-3   \n",
    "Time of Match: 2 hours y 4 minutes"
   ]
  },
  {
   "cell_type": "markdown",
   "metadata": {},
   "source": [
    "### Motivation"
   ]
  },
  {
   "cell_type": "markdown",
   "metadata": {},
   "source": [
    "I am A loyal 8-year Rafael Nadal fan. I have always been intersetd to understand the statistics of Nadal matches. The goal of this analysis is to understand the different factors led to the supperising result of the match where Nadal lost to Djokovic in straight 3 sets."
   ]
  },
  {
   "cell_type": "code",
   "execution_count": 58,
   "metadata": {},
   "outputs": [],
   "source": [
    "# packages importing\n",
    "import numpy as np                \n",
    "import pandas as pd\n",
    "import altair as alt\n",
    "alt.renderers.enable('mimetype');"
   ]
  },
  {
   "cell_type": "markdown",
   "metadata": {},
   "source": [
    "## Data Exploration"
   ]
  },
  {
   "cell_type": "code",
   "execution_count": 2,
   "metadata": {},
   "outputs": [
    {
     "data": {
      "text/html": [
       "<div>\n",
       "<style scoped>\n",
       "    .dataframe tbody tr th:only-of-type {\n",
       "        vertical-align: middle;\n",
       "    }\n",
       "\n",
       "    .dataframe tbody tr th {\n",
       "        vertical-align: top;\n",
       "    }\n",
       "\n",
       "    .dataframe thead th {\n",
       "        text-align: right;\n",
       "    }\n",
       "</style>\n",
       "<table border=\"1\" class=\"dataframe\">\n",
       "  <thead>\n",
       "    <tr style=\"text-align: right;\">\n",
       "      <th></th>\n",
       "      <th>rallyid</th>\n",
       "      <th>frameid</th>\n",
       "      <th>strokeid</th>\n",
       "      <th>hitter</th>\n",
       "      <th>receiver</th>\n",
       "      <th>isserve</th>\n",
       "      <th>serve</th>\n",
       "      <th>type</th>\n",
       "      <th>stroke</th>\n",
       "      <th>hitter_x</th>\n",
       "      <th>hitter_y</th>\n",
       "      <th>receiver_x</th>\n",
       "      <th>receiver_y</th>\n",
       "      <th>time</th>\n",
       "    </tr>\n",
       "  </thead>\n",
       "  <tbody>\n",
       "    <tr>\n",
       "      <th>0</th>\n",
       "      <td>1</td>\n",
       "      <td>70877</td>\n",
       "      <td>1</td>\n",
       "      <td>Djokovic</td>\n",
       "      <td>Nadal</td>\n",
       "      <td>True</td>\n",
       "      <td>first</td>\n",
       "      <td>serve</td>\n",
       "      <td>forehand</td>\n",
       "      <td>6.50</td>\n",
       "      <td>-0.24</td>\n",
       "      <td>1.03</td>\n",
       "      <td>27.44</td>\n",
       "      <td>0.00</td>\n",
       "    </tr>\n",
       "    <tr>\n",
       "      <th>1</th>\n",
       "      <td>1</td>\n",
       "      <td>70900</td>\n",
       "      <td>2</td>\n",
       "      <td>Nadal</td>\n",
       "      <td>Djokovic</td>\n",
       "      <td>False</td>\n",
       "      <td>first</td>\n",
       "      <td>slice</td>\n",
       "      <td>backhand</td>\n",
       "      <td>0.05</td>\n",
       "      <td>25.59</td>\n",
       "      <td>6.17</td>\n",
       "      <td>1.11</td>\n",
       "      <td>0.92</td>\n",
       "    </tr>\n",
       "    <tr>\n",
       "      <th>2</th>\n",
       "      <td>1</td>\n",
       "      <td>70950</td>\n",
       "      <td>3</td>\n",
       "      <td>Djokovic</td>\n",
       "      <td>Nadal</td>\n",
       "      <td>False</td>\n",
       "      <td>first</td>\n",
       "      <td>topspin</td>\n",
       "      <td>forehand</td>\n",
       "      <td>1.42</td>\n",
       "      <td>2.33</td>\n",
       "      <td>4.75</td>\n",
       "      <td>26.45</td>\n",
       "      <td>2.92</td>\n",
       "    </tr>\n",
       "    <tr>\n",
       "      <th>3</th>\n",
       "      <td>2</td>\n",
       "      <td>71488</td>\n",
       "      <td>1</td>\n",
       "      <td>Djokovic</td>\n",
       "      <td>Nadal</td>\n",
       "      <td>True</td>\n",
       "      <td>first</td>\n",
       "      <td>serve</td>\n",
       "      <td>forehand</td>\n",
       "      <td>4.48</td>\n",
       "      <td>-0.01</td>\n",
       "      <td>7.90</td>\n",
       "      <td>26.83</td>\n",
       "      <td>24.44</td>\n",
       "    </tr>\n",
       "    <tr>\n",
       "      <th>4</th>\n",
       "      <td>3</td>\n",
       "      <td>71796</td>\n",
       "      <td>1</td>\n",
       "      <td>Djokovic</td>\n",
       "      <td>Nadal</td>\n",
       "      <td>True</td>\n",
       "      <td>second</td>\n",
       "      <td>serve</td>\n",
       "      <td>forehand</td>\n",
       "      <td>4.48</td>\n",
       "      <td>-0.37</td>\n",
       "      <td>7.88</td>\n",
       "      <td>26.47</td>\n",
       "      <td>36.76</td>\n",
       "    </tr>\n",
       "  </tbody>\n",
       "</table>\n",
       "</div>"
      ],
      "text/plain": [
       "   rallyid  frameid  strokeid    hitter  receiver  isserve   serve     type  \\\n",
       "0        1    70877         1  Djokovic     Nadal     True   first    serve   \n",
       "1        1    70900         2     Nadal  Djokovic    False   first    slice   \n",
       "2        1    70950         3  Djokovic     Nadal    False   first  topspin   \n",
       "3        2    71488         1  Djokovic     Nadal     True   first    serve   \n",
       "4        3    71796         1  Djokovic     Nadal     True  second    serve   \n",
       "\n",
       "     stroke  hitter_x  hitter_y  receiver_x  receiver_y   time  \n",
       "0  forehand      6.50     -0.24        1.03       27.44   0.00  \n",
       "1  backhand      0.05     25.59        6.17        1.11   0.92  \n",
       "2  forehand      1.42      2.33        4.75       26.45   2.92  \n",
       "3  forehand      4.48     -0.01        7.90       26.83  24.44  \n",
       "4  forehand      4.48     -0.37        7.88       26.47  36.76  "
      ]
     },
     "execution_count": 2,
     "metadata": {},
     "output_type": "execute_result"
    }
   ],
   "source": [
    "events =  pd.read_csv('Data/events.csv', index_col = 0)\n",
    "events.head()"
   ]
  },
  {
   "cell_type": "markdown",
   "metadata": {},
   "source": [
    "The events dataframe contains information about each point hit."
   ]
  },
  {
   "cell_type": "code",
   "execution_count": 3,
   "metadata": {},
   "outputs": [
    {
     "name": "stdout",
     "output_type": "stream",
     "text": [
      "<class 'pandas.core.frame.DataFrame'>\n",
      "Int64Index: 865 entries, 0 to 864\n",
      "Data columns (total 14 columns):\n",
      " #   Column      Non-Null Count  Dtype  \n",
      "---  ------      --------------  -----  \n",
      " 0   rallyid     865 non-null    int64  \n",
      " 1   frameid     865 non-null    int64  \n",
      " 2   strokeid    865 non-null    int64  \n",
      " 3   hitter      865 non-null    object \n",
      " 4   receiver    845 non-null    object \n",
      " 5   isserve     865 non-null    bool   \n",
      " 6   serve       865 non-null    object \n",
      " 7   type        865 non-null    object \n",
      " 8   stroke      865 non-null    object \n",
      " 9   hitter_x    865 non-null    float64\n",
      " 10  hitter_y    865 non-null    float64\n",
      " 11  receiver_x  845 non-null    float64\n",
      " 12  receiver_y  845 non-null    float64\n",
      " 13  time        865 non-null    float64\n",
      "dtypes: bool(1), float64(5), int64(3), object(5)\n",
      "memory usage: 95.5+ KB\n"
     ]
    }
   ],
   "source": [
    "events.info()"
   ]
  },
  {
   "cell_type": "code",
   "execution_count": 4,
   "metadata": {},
   "outputs": [
    {
     "data": {
      "text/html": [
       "<div>\n",
       "<style scoped>\n",
       "    .dataframe tbody tr th:only-of-type {\n",
       "        vertical-align: middle;\n",
       "    }\n",
       "\n",
       "    .dataframe tbody tr th {\n",
       "        vertical-align: top;\n",
       "    }\n",
       "\n",
       "    .dataframe thead th {\n",
       "        text-align: right;\n",
       "    }\n",
       "</style>\n",
       "<table border=\"1\" class=\"dataframe\">\n",
       "  <thead>\n",
       "    <tr style=\"text-align: right;\">\n",
       "      <th></th>\n",
       "      <th>rallyid</th>\n",
       "      <th>frameid</th>\n",
       "      <th>strokeid</th>\n",
       "      <th>hitter_x</th>\n",
       "      <th>hitter_y</th>\n",
       "      <th>receiver_x</th>\n",
       "      <th>receiver_y</th>\n",
       "      <th>time</th>\n",
       "    </tr>\n",
       "  </thead>\n",
       "  <tbody>\n",
       "    <tr>\n",
       "      <th>count</th>\n",
       "      <td>865.000000</td>\n",
       "      <td>865.000000</td>\n",
       "      <td>865.000000</td>\n",
       "      <td>865.000000</td>\n",
       "      <td>865.000000</td>\n",
       "      <td>845.000000</td>\n",
       "      <td>845.000000</td>\n",
       "      <td>865.000000</td>\n",
       "    </tr>\n",
       "    <tr>\n",
       "      <th>mean</th>\n",
       "      <td>104.494798</td>\n",
       "      <td>163773.654335</td>\n",
       "      <td>4.708671</td>\n",
       "      <td>4.789121</td>\n",
       "      <td>12.118277</td>\n",
       "      <td>4.758746</td>\n",
       "      <td>12.695479</td>\n",
       "      <td>3715.866173</td>\n",
       "    </tr>\n",
       "    <tr>\n",
       "      <th>std</th>\n",
       "      <td>58.939649</td>\n",
       "      <td>54779.332792</td>\n",
       "      <td>3.937678</td>\n",
       "      <td>2.569683</td>\n",
       "      <td>12.670941</td>\n",
       "      <td>2.307859</td>\n",
       "      <td>13.093199</td>\n",
       "      <td>2191.173312</td>\n",
       "    </tr>\n",
       "    <tr>\n",
       "      <th>min</th>\n",
       "      <td>1.000000</td>\n",
       "      <td>70877.000000</td>\n",
       "      <td>1.000000</td>\n",
       "      <td>-2.190000</td>\n",
       "      <td>-3.040000</td>\n",
       "      <td>-1.700000</td>\n",
       "      <td>-3.570000</td>\n",
       "      <td>0.000000</td>\n",
       "    </tr>\n",
       "    <tr>\n",
       "      <th>25%</th>\n",
       "      <td>54.000000</td>\n",
       "      <td>116235.000000</td>\n",
       "      <td>2.000000</td>\n",
       "      <td>2.900000</td>\n",
       "      <td>-0.390000</td>\n",
       "      <td>3.120000</td>\n",
       "      <td>-0.840000</td>\n",
       "      <td>1814.320000</td>\n",
       "    </tr>\n",
       "    <tr>\n",
       "      <th>50%</th>\n",
       "      <td>108.000000</td>\n",
       "      <td>164616.000000</td>\n",
       "      <td>3.000000</td>\n",
       "      <td>4.880000</td>\n",
       "      <td>6.540000</td>\n",
       "      <td>4.810000</td>\n",
       "      <td>17.520000</td>\n",
       "      <td>3749.560000</td>\n",
       "    </tr>\n",
       "    <tr>\n",
       "      <th>75%</th>\n",
       "      <td>155.000000</td>\n",
       "      <td>210254.000000</td>\n",
       "      <td>7.000000</td>\n",
       "      <td>6.640000</td>\n",
       "      <td>25.140000</td>\n",
       "      <td>6.280000</td>\n",
       "      <td>25.840000</td>\n",
       "      <td>5575.080000</td>\n",
       "    </tr>\n",
       "    <tr>\n",
       "      <th>max</th>\n",
       "      <td>206.000000</td>\n",
       "      <td>256892.000000</td>\n",
       "      <td>22.000000</td>\n",
       "      <td>11.360000</td>\n",
       "      <td>30.370000</td>\n",
       "      <td>10.080000</td>\n",
       "      <td>30.930000</td>\n",
       "      <td>7440.600000</td>\n",
       "    </tr>\n",
       "  </tbody>\n",
       "</table>\n",
       "</div>"
      ],
      "text/plain": [
       "          rallyid        frameid    strokeid    hitter_x    hitter_y  \\\n",
       "count  865.000000     865.000000  865.000000  865.000000  865.000000   \n",
       "mean   104.494798  163773.654335    4.708671    4.789121   12.118277   \n",
       "std     58.939649   54779.332792    3.937678    2.569683   12.670941   \n",
       "min      1.000000   70877.000000    1.000000   -2.190000   -3.040000   \n",
       "25%     54.000000  116235.000000    2.000000    2.900000   -0.390000   \n",
       "50%    108.000000  164616.000000    3.000000    4.880000    6.540000   \n",
       "75%    155.000000  210254.000000    7.000000    6.640000   25.140000   \n",
       "max    206.000000  256892.000000   22.000000   11.360000   30.370000   \n",
       "\n",
       "       receiver_x  receiver_y         time  \n",
       "count  845.000000  845.000000   865.000000  \n",
       "mean     4.758746   12.695479  3715.866173  \n",
       "std      2.307859   13.093199  2191.173312  \n",
       "min     -1.700000   -3.570000     0.000000  \n",
       "25%      3.120000   -0.840000  1814.320000  \n",
       "50%      4.810000   17.520000  3749.560000  \n",
       "75%      6.280000   25.840000  5575.080000  \n",
       "max     10.080000   30.930000  7440.600000  "
      ]
     },
     "execution_count": 4,
     "metadata": {},
     "output_type": "execute_result"
    }
   ],
   "source": [
    "events.describe()"
   ]
  },
  {
   "cell_type": "code",
   "execution_count": 5,
   "metadata": {},
   "outputs": [
    {
     "data": {
      "text/plain": [
       "rallyid        0\n",
       "frameid        0\n",
       "strokeid       0\n",
       "hitter         0\n",
       "receiver      20\n",
       "isserve        0\n",
       "serve          0\n",
       "type           0\n",
       "stroke         0\n",
       "hitter_x       0\n",
       "hitter_y       0\n",
       "receiver_x    20\n",
       "receiver_y    20\n",
       "time           0\n",
       "dtype: int64"
      ]
     },
     "execution_count": 5,
     "metadata": {},
     "output_type": "execute_result"
    }
   ],
   "source": [
    "events.isnull().sum()"
   ]
  },
  {
   "cell_type": "markdown",
   "metadata": {},
   "source": [
    "We have 20 reciever observations that are not available."
   ]
  },
  {
   "cell_type": "code",
   "execution_count": 6,
   "metadata": {},
   "outputs": [],
   "source": [
    "points =  pd.read_csv('Data/points.csv', index_col = 0)"
   ]
  },
  {
   "cell_type": "code",
   "execution_count": 7,
   "metadata": {},
   "outputs": [
    {
     "data": {
      "text/html": [
       "<div>\n",
       "<style scoped>\n",
       "    .dataframe tbody tr th:only-of-type {\n",
       "        vertical-align: middle;\n",
       "    }\n",
       "\n",
       "    .dataframe tbody tr th {\n",
       "        vertical-align: top;\n",
       "    }\n",
       "\n",
       "    .dataframe thead th {\n",
       "        text-align: right;\n",
       "    }\n",
       "</style>\n",
       "<table border=\"1\" class=\"dataframe\">\n",
       "  <thead>\n",
       "    <tr style=\"text-align: right;\">\n",
       "      <th></th>\n",
       "      <th>rallyid</th>\n",
       "      <th>server</th>\n",
       "      <th>returner</th>\n",
       "      <th>winner</th>\n",
       "      <th>reason</th>\n",
       "      <th>serve</th>\n",
       "      <th>strokes</th>\n",
       "      <th>totaltime</th>\n",
       "      <th>x</th>\n",
       "      <th>y</th>\n",
       "      <th>score</th>\n",
       "    </tr>\n",
       "  </thead>\n",
       "  <tbody>\n",
       "    <tr>\n",
       "      <th>0</th>\n",
       "      <td>1</td>\n",
       "      <td>Djokovic</td>\n",
       "      <td>Nadal</td>\n",
       "      <td>Djokovic</td>\n",
       "      <td>winner</td>\n",
       "      <td>first</td>\n",
       "      <td>3</td>\n",
       "      <td>0.92</td>\n",
       "      <td>1.92</td>\n",
       "      <td>21.96</td>\n",
       "      <td>0:0, 15:0</td>\n",
       "    </tr>\n",
       "    <tr>\n",
       "      <th>2</th>\n",
       "      <td>3</td>\n",
       "      <td>Djokovic</td>\n",
       "      <td>Nadal</td>\n",
       "      <td>Djokovic</td>\n",
       "      <td>out</td>\n",
       "      <td>second</td>\n",
       "      <td>4</td>\n",
       "      <td>4.16</td>\n",
       "      <td>3.33</td>\n",
       "      <td>-0.39</td>\n",
       "      <td>0:0, 30:0</td>\n",
       "    </tr>\n",
       "    <tr>\n",
       "      <th>4</th>\n",
       "      <td>5</td>\n",
       "      <td>Djokovic</td>\n",
       "      <td>Nadal</td>\n",
       "      <td>Djokovic</td>\n",
       "      <td>ace</td>\n",
       "      <td>second</td>\n",
       "      <td>2</td>\n",
       "      <td>0.40</td>\n",
       "      <td>1.62</td>\n",
       "      <td>17.18</td>\n",
       "      <td>0:0, 40:0</td>\n",
       "    </tr>\n",
       "    <tr>\n",
       "      <th>5</th>\n",
       "      <td>6</td>\n",
       "      <td>Djokovic</td>\n",
       "      <td>Nadal</td>\n",
       "      <td>Djokovic</td>\n",
       "      <td>net</td>\n",
       "      <td>first</td>\n",
       "      <td>10</td>\n",
       "      <td>10.40</td>\n",
       "      <td>6.41</td>\n",
       "      <td>12.78</td>\n",
       "      <td>1:0, 0:0</td>\n",
       "    </tr>\n",
       "    <tr>\n",
       "      <th>7</th>\n",
       "      <td>8</td>\n",
       "      <td>Nadal</td>\n",
       "      <td>Djokovic</td>\n",
       "      <td>Djokovic</td>\n",
       "      <td>out</td>\n",
       "      <td>second</td>\n",
       "      <td>7</td>\n",
       "      <td>7.20</td>\n",
       "      <td>0.50</td>\n",
       "      <td>18.67</td>\n",
       "      <td>1:0, 15:0</td>\n",
       "    </tr>\n",
       "  </tbody>\n",
       "</table>\n",
       "</div>"
      ],
      "text/plain": [
       "   rallyid    server  returner    winner  reason   serve  strokes  totaltime  \\\n",
       "0        1  Djokovic     Nadal  Djokovic  winner   first        3       0.92   \n",
       "2        3  Djokovic     Nadal  Djokovic     out  second        4       4.16   \n",
       "4        5  Djokovic     Nadal  Djokovic     ace  second        2       0.40   \n",
       "5        6  Djokovic     Nadal  Djokovic     net   first       10      10.40   \n",
       "7        8     Nadal  Djokovic  Djokovic     out  second        7       7.20   \n",
       "\n",
       "      x      y      score  \n",
       "0  1.92  21.96  0:0, 15:0  \n",
       "2  3.33  -0.39  0:0, 30:0  \n",
       "4  1.62  17.18  0:0, 40:0  \n",
       "5  6.41  12.78   1:0, 0:0  \n",
       "7  0.50  18.67  1:0, 15:0  "
      ]
     },
     "execution_count": 7,
     "metadata": {},
     "output_type": "execute_result"
    }
   ],
   "source": [
    "points.head()"
   ]
  },
  {
   "cell_type": "code",
   "execution_count": 8,
   "metadata": {},
   "outputs": [
    {
     "name": "stdout",
     "output_type": "stream",
     "text": [
      "<class 'pandas.core.frame.DataFrame'>\n",
      "Int64Index: 142 entries, 0 to 205\n",
      "Data columns (total 11 columns):\n",
      " #   Column     Non-Null Count  Dtype  \n",
      "---  ------     --------------  -----  \n",
      " 0   rallyid    142 non-null    int64  \n",
      " 1   server     142 non-null    object \n",
      " 2   returner   139 non-null    object \n",
      " 3   winner     142 non-null    object \n",
      " 4   reason     142 non-null    object \n",
      " 5   serve      142 non-null    object \n",
      " 6   strokes    142 non-null    int64  \n",
      " 7   totaltime  142 non-null    float64\n",
      " 8   x          142 non-null    float64\n",
      " 9   y          142 non-null    float64\n",
      " 10  score      142 non-null    object \n",
      "dtypes: float64(3), int64(2), object(6)\n",
      "memory usage: 13.3+ KB\n"
     ]
    }
   ],
   "source": [
    "points.info()"
   ]
  },
  {
   "cell_type": "code",
   "execution_count": 9,
   "metadata": {},
   "outputs": [
    {
     "data": {
      "text/html": [
       "<div>\n",
       "<style scoped>\n",
       "    .dataframe tbody tr th:only-of-type {\n",
       "        vertical-align: middle;\n",
       "    }\n",
       "\n",
       "    .dataframe tbody tr th {\n",
       "        vertical-align: top;\n",
       "    }\n",
       "\n",
       "    .dataframe thead th {\n",
       "        text-align: right;\n",
       "    }\n",
       "</style>\n",
       "<table border=\"1\" class=\"dataframe\">\n",
       "  <thead>\n",
       "    <tr style=\"text-align: right;\">\n",
       "      <th></th>\n",
       "      <th>rallyid</th>\n",
       "      <th>strokes</th>\n",
       "      <th>totaltime</th>\n",
       "      <th>x</th>\n",
       "      <th>y</th>\n",
       "    </tr>\n",
       "  </thead>\n",
       "  <tbody>\n",
       "    <tr>\n",
       "      <th>count</th>\n",
       "      <td>142.000000</td>\n",
       "      <td>142.000000</td>\n",
       "      <td>142.000000</td>\n",
       "      <td>142.000000</td>\n",
       "      <td>142.000000</td>\n",
       "    </tr>\n",
       "    <tr>\n",
       "      <th>mean</th>\n",
       "      <td>103.683099</td>\n",
       "      <td>5.485915</td>\n",
       "      <td>4.207887</td>\n",
       "      <td>4.755563</td>\n",
       "      <td>13.597676</td>\n",
       "    </tr>\n",
       "    <tr>\n",
       "      <th>std</th>\n",
       "      <td>59.790932</td>\n",
       "      <td>4.338081</td>\n",
       "      <td>4.653339</td>\n",
       "      <td>3.061096</td>\n",
       "      <td>8.715196</td>\n",
       "    </tr>\n",
       "    <tr>\n",
       "      <th>min</th>\n",
       "      <td>1.000000</td>\n",
       "      <td>1.000000</td>\n",
       "      <td>-0.520000</td>\n",
       "      <td>-2.110000</td>\n",
       "      <td>-3.570000</td>\n",
       "    </tr>\n",
       "    <tr>\n",
       "      <th>25%</th>\n",
       "      <td>51.750000</td>\n",
       "      <td>2.000000</td>\n",
       "      <td>0.800000</td>\n",
       "      <td>1.842500</td>\n",
       "      <td>6.677500</td>\n",
       "    </tr>\n",
       "    <tr>\n",
       "      <th>50%</th>\n",
       "      <td>103.500000</td>\n",
       "      <td>4.000000</td>\n",
       "      <td>2.300000</td>\n",
       "      <td>4.760000</td>\n",
       "      <td>12.890000</td>\n",
       "    </tr>\n",
       "    <tr>\n",
       "      <th>75%</th>\n",
       "      <td>156.750000</td>\n",
       "      <td>7.000000</td>\n",
       "      <td>6.860000</td>\n",
       "      <td>7.545000</td>\n",
       "      <td>21.525000</td>\n",
       "    </tr>\n",
       "    <tr>\n",
       "      <th>max</th>\n",
       "      <td>206.000000</td>\n",
       "      <td>22.000000</td>\n",
       "      <td>21.400000</td>\n",
       "      <td>11.290000</td>\n",
       "      <td>30.230000</td>\n",
       "    </tr>\n",
       "  </tbody>\n",
       "</table>\n",
       "</div>"
      ],
      "text/plain": [
       "          rallyid     strokes   totaltime           x           y\n",
       "count  142.000000  142.000000  142.000000  142.000000  142.000000\n",
       "mean   103.683099    5.485915    4.207887    4.755563   13.597676\n",
       "std     59.790932    4.338081    4.653339    3.061096    8.715196\n",
       "min      1.000000    1.000000   -0.520000   -2.110000   -3.570000\n",
       "25%     51.750000    2.000000    0.800000    1.842500    6.677500\n",
       "50%    103.500000    4.000000    2.300000    4.760000   12.890000\n",
       "75%    156.750000    7.000000    6.860000    7.545000   21.525000\n",
       "max    206.000000   22.000000   21.400000   11.290000   30.230000"
      ]
     },
     "execution_count": 9,
     "metadata": {},
     "output_type": "execute_result"
    }
   ],
   "source": [
    "points.describe()"
   ]
  },
  {
   "cell_type": "code",
   "execution_count": 10,
   "metadata": {},
   "outputs": [
    {
     "data": {
      "text/plain": [
       "rallyid      0\n",
       "server       0\n",
       "returner     3\n",
       "winner       0\n",
       "reason       0\n",
       "serve        0\n",
       "strokes      0\n",
       "totaltime    0\n",
       "x            0\n",
       "y            0\n",
       "score        0\n",
       "dtype: int64"
      ]
     },
     "execution_count": 10,
     "metadata": {},
     "output_type": "execute_result"
    }
   ],
   "source": [
    "points.isnull().sum()"
   ]
  },
  {
   "cell_type": "markdown",
   "metadata": {},
   "source": [
    "3 missing observations."
   ]
  },
  {
   "cell_type": "code",
   "execution_count": 11,
   "metadata": {},
   "outputs": [],
   "source": [
    "rallies =  pd.read_csv('Data/rallies.csv', index_col = 0)"
   ]
  },
  {
   "cell_type": "code",
   "execution_count": 12,
   "metadata": {},
   "outputs": [
    {
     "data": {
      "text/html": [
       "<div>\n",
       "<style scoped>\n",
       "    .dataframe tbody tr th:only-of-type {\n",
       "        vertical-align: middle;\n",
       "    }\n",
       "\n",
       "    .dataframe tbody tr th {\n",
       "        vertical-align: top;\n",
       "    }\n",
       "\n",
       "    .dataframe thead th {\n",
       "        text-align: right;\n",
       "    }\n",
       "</style>\n",
       "<table border=\"1\" class=\"dataframe\">\n",
       "  <thead>\n",
       "    <tr style=\"text-align: right;\">\n",
       "      <th></th>\n",
       "      <th>rallyid</th>\n",
       "      <th>server</th>\n",
       "      <th>returner</th>\n",
       "      <th>winner</th>\n",
       "      <th>reason</th>\n",
       "      <th>serve</th>\n",
       "      <th>strokes</th>\n",
       "      <th>totaltime</th>\n",
       "      <th>x</th>\n",
       "      <th>y</th>\n",
       "    </tr>\n",
       "  </thead>\n",
       "  <tbody>\n",
       "    <tr>\n",
       "      <th>0</th>\n",
       "      <td>1</td>\n",
       "      <td>Djokovic</td>\n",
       "      <td>Nadal</td>\n",
       "      <td>Djokovic</td>\n",
       "      <td>winner</td>\n",
       "      <td>first</td>\n",
       "      <td>3</td>\n",
       "      <td>0.92</td>\n",
       "      <td>1.92</td>\n",
       "      <td>21.96</td>\n",
       "    </tr>\n",
       "    <tr>\n",
       "      <th>1</th>\n",
       "      <td>2</td>\n",
       "      <td>Djokovic</td>\n",
       "      <td>Nadal</td>\n",
       "      <td>__undefined__</td>\n",
       "      <td>second_serve</td>\n",
       "      <td>first</td>\n",
       "      <td>1</td>\n",
       "      <td>0.00</td>\n",
       "      <td>7.42</td>\n",
       "      <td>12.10</td>\n",
       "    </tr>\n",
       "    <tr>\n",
       "      <th>2</th>\n",
       "      <td>3</td>\n",
       "      <td>Djokovic</td>\n",
       "      <td>Nadal</td>\n",
       "      <td>Djokovic</td>\n",
       "      <td>out</td>\n",
       "      <td>second</td>\n",
       "      <td>4</td>\n",
       "      <td>4.16</td>\n",
       "      <td>3.33</td>\n",
       "      <td>-0.39</td>\n",
       "    </tr>\n",
       "    <tr>\n",
       "      <th>3</th>\n",
       "      <td>4</td>\n",
       "      <td>Djokovic</td>\n",
       "      <td>Nadal</td>\n",
       "      <td>__undefined__</td>\n",
       "      <td>second_serve</td>\n",
       "      <td>first</td>\n",
       "      <td>1</td>\n",
       "      <td>0.00</td>\n",
       "      <td>4.64</td>\n",
       "      <td>17.69</td>\n",
       "    </tr>\n",
       "    <tr>\n",
       "      <th>4</th>\n",
       "      <td>5</td>\n",
       "      <td>Djokovic</td>\n",
       "      <td>Nadal</td>\n",
       "      <td>Djokovic</td>\n",
       "      <td>ace</td>\n",
       "      <td>second</td>\n",
       "      <td>2</td>\n",
       "      <td>0.40</td>\n",
       "      <td>1.62</td>\n",
       "      <td>17.18</td>\n",
       "    </tr>\n",
       "  </tbody>\n",
       "</table>\n",
       "</div>"
      ],
      "text/plain": [
       "   rallyid    server returner         winner        reason   serve  strokes  \\\n",
       "0        1  Djokovic    Nadal       Djokovic        winner   first        3   \n",
       "1        2  Djokovic    Nadal  __undefined__  second_serve   first        1   \n",
       "2        3  Djokovic    Nadal       Djokovic           out  second        4   \n",
       "3        4  Djokovic    Nadal  __undefined__  second_serve   first        1   \n",
       "4        5  Djokovic    Nadal       Djokovic           ace  second        2   \n",
       "\n",
       "   totaltime     x      y  \n",
       "0       0.92  1.92  21.96  \n",
       "1       0.00  7.42  12.10  \n",
       "2       4.16  3.33  -0.39  \n",
       "3       0.00  4.64  17.69  \n",
       "4       0.40  1.62  17.18  "
      ]
     },
     "execution_count": 12,
     "metadata": {},
     "output_type": "execute_result"
    }
   ],
   "source": [
    "rallies.head()"
   ]
  },
  {
   "cell_type": "code",
   "execution_count": 13,
   "metadata": {},
   "outputs": [
    {
     "name": "stdout",
     "output_type": "stream",
     "text": [
      "<class 'pandas.core.frame.DataFrame'>\n",
      "Int64Index: 206 entries, 0 to 205\n",
      "Data columns (total 10 columns):\n",
      " #   Column     Non-Null Count  Dtype  \n",
      "---  ------     --------------  -----  \n",
      " 0   rallyid    206 non-null    int64  \n",
      " 1   server     206 non-null    object \n",
      " 2   returner   200 non-null    object \n",
      " 3   winner     206 non-null    object \n",
      " 4   reason     206 non-null    object \n",
      " 5   serve      206 non-null    object \n",
      " 6   strokes    206 non-null    int64  \n",
      " 7   totaltime  206 non-null    float64\n",
      " 8   x          206 non-null    float64\n",
      " 9   y          206 non-null    float64\n",
      "dtypes: float64(3), int64(2), object(5)\n",
      "memory usage: 17.7+ KB\n"
     ]
    }
   ],
   "source": [
    "rallies.info()"
   ]
  },
  {
   "cell_type": "code",
   "execution_count": 14,
   "metadata": {},
   "outputs": [
    {
     "data": {
      "text/html": [
       "<div>\n",
       "<style scoped>\n",
       "    .dataframe tbody tr th:only-of-type {\n",
       "        vertical-align: middle;\n",
       "    }\n",
       "\n",
       "    .dataframe tbody tr th {\n",
       "        vertical-align: top;\n",
       "    }\n",
       "\n",
       "    .dataframe thead th {\n",
       "        text-align: right;\n",
       "    }\n",
       "</style>\n",
       "<table border=\"1\" class=\"dataframe\">\n",
       "  <thead>\n",
       "    <tr style=\"text-align: right;\">\n",
       "      <th></th>\n",
       "      <th>rallyid</th>\n",
       "      <th>strokes</th>\n",
       "      <th>totaltime</th>\n",
       "      <th>x</th>\n",
       "      <th>y</th>\n",
       "    </tr>\n",
       "  </thead>\n",
       "  <tbody>\n",
       "    <tr>\n",
       "      <th>count</th>\n",
       "      <td>206.000000</td>\n",
       "      <td>206.000000</td>\n",
       "      <td>206.000000</td>\n",
       "      <td>206.000000</td>\n",
       "      <td>206.000000</td>\n",
       "    </tr>\n",
       "    <tr>\n",
       "      <th>mean</th>\n",
       "      <td>103.500000</td>\n",
       "      <td>4.199029</td>\n",
       "      <td>2.964078</td>\n",
       "      <td>4.810194</td>\n",
       "      <td>13.326796</td>\n",
       "    </tr>\n",
       "    <tr>\n",
       "      <th>std</th>\n",
       "      <td>59.611241</td>\n",
       "      <td>4.218912</td>\n",
       "      <td>4.338453</td>\n",
       "      <td>2.857060</td>\n",
       "      <td>7.636197</td>\n",
       "    </tr>\n",
       "    <tr>\n",
       "      <th>min</th>\n",
       "      <td>1.000000</td>\n",
       "      <td>1.000000</td>\n",
       "      <td>-0.520000</td>\n",
       "      <td>-2.110000</td>\n",
       "      <td>-3.570000</td>\n",
       "    </tr>\n",
       "    <tr>\n",
       "      <th>25%</th>\n",
       "      <td>52.250000</td>\n",
       "      <td>1.000000</td>\n",
       "      <td>0.000000</td>\n",
       "      <td>2.312500</td>\n",
       "      <td>7.922500</td>\n",
       "    </tr>\n",
       "    <tr>\n",
       "      <th>50%</th>\n",
       "      <td>103.500000</td>\n",
       "      <td>2.000000</td>\n",
       "      <td>0.840000</td>\n",
       "      <td>4.805000</td>\n",
       "      <td>12.930000</td>\n",
       "    </tr>\n",
       "    <tr>\n",
       "      <th>75%</th>\n",
       "      <td>154.750000</td>\n",
       "      <td>6.000000</td>\n",
       "      <td>3.970000</td>\n",
       "      <td>7.277500</td>\n",
       "      <td>18.265000</td>\n",
       "    </tr>\n",
       "    <tr>\n",
       "      <th>max</th>\n",
       "      <td>206.000000</td>\n",
       "      <td>22.000000</td>\n",
       "      <td>21.400000</td>\n",
       "      <td>11.290000</td>\n",
       "      <td>30.230000</td>\n",
       "    </tr>\n",
       "  </tbody>\n",
       "</table>\n",
       "</div>"
      ],
      "text/plain": [
       "          rallyid     strokes   totaltime           x           y\n",
       "count  206.000000  206.000000  206.000000  206.000000  206.000000\n",
       "mean   103.500000    4.199029    2.964078    4.810194   13.326796\n",
       "std     59.611241    4.218912    4.338453    2.857060    7.636197\n",
       "min      1.000000    1.000000   -0.520000   -2.110000   -3.570000\n",
       "25%     52.250000    1.000000    0.000000    2.312500    7.922500\n",
       "50%    103.500000    2.000000    0.840000    4.805000   12.930000\n",
       "75%    154.750000    6.000000    3.970000    7.277500   18.265000\n",
       "max    206.000000   22.000000   21.400000   11.290000   30.230000"
      ]
     },
     "execution_count": 14,
     "metadata": {},
     "output_type": "execute_result"
    }
   ],
   "source": [
    "rallies.describe()"
   ]
  },
  {
   "cell_type": "code",
   "execution_count": 15,
   "metadata": {},
   "outputs": [
    {
     "data": {
      "text/plain": [
       "rallyid      0\n",
       "server       0\n",
       "returner     6\n",
       "winner       0\n",
       "reason       0\n",
       "serve        0\n",
       "strokes      0\n",
       "totaltime    0\n",
       "x            0\n",
       "y            0\n",
       "dtype: int64"
      ]
     },
     "execution_count": 15,
     "metadata": {},
     "output_type": "execute_result"
    }
   ],
   "source": [
    "rallies.isnull().sum()"
   ]
  },
  {
   "cell_type": "markdown",
   "metadata": {},
   "source": [
    "6 missing observations."
   ]
  },
  {
   "cell_type": "code",
   "execution_count": 16,
   "metadata": {},
   "outputs": [],
   "source": [
    "serves =  pd.read_csv('Data/serves.csv', index_col = 0)"
   ]
  },
  {
   "cell_type": "code",
   "execution_count": 17,
   "metadata": {},
   "outputs": [
    {
     "data": {
      "text/html": [
       "<div>\n",
       "<style scoped>\n",
       "    .dataframe tbody tr th:only-of-type {\n",
       "        vertical-align: middle;\n",
       "    }\n",
       "\n",
       "    .dataframe tbody tr th {\n",
       "        vertical-align: top;\n",
       "    }\n",
       "\n",
       "    .dataframe thead th {\n",
       "        text-align: right;\n",
       "    }\n",
       "</style>\n",
       "<table border=\"1\" class=\"dataframe\">\n",
       "  <thead>\n",
       "    <tr style=\"text-align: right;\">\n",
       "      <th></th>\n",
       "      <th>rallyid</th>\n",
       "      <th>server</th>\n",
       "      <th>x</th>\n",
       "      <th>y</th>\n",
       "    </tr>\n",
       "  </thead>\n",
       "  <tbody>\n",
       "    <tr>\n",
       "      <th>0</th>\n",
       "      <td>1</td>\n",
       "      <td>Djokovic</td>\n",
       "      <td>1.86</td>\n",
       "      <td>16.80</td>\n",
       "    </tr>\n",
       "    <tr>\n",
       "      <th>1</th>\n",
       "      <td>3</td>\n",
       "      <td>Djokovic</td>\n",
       "      <td>7.05</td>\n",
       "      <td>16.97</td>\n",
       "    </tr>\n",
       "    <tr>\n",
       "      <th>2</th>\n",
       "      <td>6</td>\n",
       "      <td>Djokovic</td>\n",
       "      <td>8.04</td>\n",
       "      <td>17.80</td>\n",
       "    </tr>\n",
       "    <tr>\n",
       "      <th>3</th>\n",
       "      <td>8</td>\n",
       "      <td>Nadal</td>\n",
       "      <td>4.44</td>\n",
       "      <td>16.24</td>\n",
       "    </tr>\n",
       "    <tr>\n",
       "      <th>4</th>\n",
       "      <td>9</td>\n",
       "      <td>Nadal</td>\n",
       "      <td>5.71</td>\n",
       "      <td>16.40</td>\n",
       "    </tr>\n",
       "  </tbody>\n",
       "</table>\n",
       "</div>"
      ],
      "text/plain": [
       "   rallyid    server     x      y\n",
       "0        1  Djokovic  1.86  16.80\n",
       "1        3  Djokovic  7.05  16.97\n",
       "2        6  Djokovic  8.04  17.80\n",
       "3        8     Nadal  4.44  16.24\n",
       "4        9     Nadal  5.71  16.40"
      ]
     },
     "execution_count": 17,
     "metadata": {},
     "output_type": "execute_result"
    }
   ],
   "source": [
    "serves.head()"
   ]
  },
  {
   "cell_type": "code",
   "execution_count": 18,
   "metadata": {},
   "outputs": [
    {
     "name": "stdout",
     "output_type": "stream",
     "text": [
      "<class 'pandas.core.frame.DataFrame'>\n",
      "Int64Index: 133 entries, 0 to 132\n",
      "Data columns (total 4 columns):\n",
      " #   Column   Non-Null Count  Dtype  \n",
      "---  ------   --------------  -----  \n",
      " 0   rallyid  133 non-null    int64  \n",
      " 1   server   133 non-null    object \n",
      " 2   x        133 non-null    float64\n",
      " 3   y        133 non-null    float64\n",
      "dtypes: float64(2), int64(1), object(1)\n",
      "memory usage: 5.2+ KB\n"
     ]
    }
   ],
   "source": [
    "serves.info()"
   ]
  },
  {
   "cell_type": "code",
   "execution_count": 19,
   "metadata": {},
   "outputs": [
    {
     "data": {
      "text/html": [
       "<div>\n",
       "<style scoped>\n",
       "    .dataframe tbody tr th:only-of-type {\n",
       "        vertical-align: middle;\n",
       "    }\n",
       "\n",
       "    .dataframe tbody tr th {\n",
       "        vertical-align: top;\n",
       "    }\n",
       "\n",
       "    .dataframe thead th {\n",
       "        text-align: right;\n",
       "    }\n",
       "</style>\n",
       "<table border=\"1\" class=\"dataframe\">\n",
       "  <thead>\n",
       "    <tr style=\"text-align: right;\">\n",
       "      <th></th>\n",
       "      <th>rallyid</th>\n",
       "      <th>x</th>\n",
       "      <th>y</th>\n",
       "    </tr>\n",
       "  </thead>\n",
       "  <tbody>\n",
       "    <tr>\n",
       "      <th>count</th>\n",
       "      <td>133.000000</td>\n",
       "      <td>133.00000</td>\n",
       "      <td>133.000000</td>\n",
       "    </tr>\n",
       "    <tr>\n",
       "      <th>mean</th>\n",
       "      <td>104.172932</td>\n",
       "      <td>4.75188</td>\n",
       "      <td>12.433233</td>\n",
       "    </tr>\n",
       "    <tr>\n",
       "      <th>std</th>\n",
       "      <td>59.851143</td>\n",
       "      <td>2.32375</td>\n",
       "      <td>4.773501</td>\n",
       "    </tr>\n",
       "    <tr>\n",
       "      <th>min</th>\n",
       "      <td>1.000000</td>\n",
       "      <td>0.86000</td>\n",
       "      <td>4.260000</td>\n",
       "    </tr>\n",
       "    <tr>\n",
       "      <th>25%</th>\n",
       "      <td>54.000000</td>\n",
       "      <td>2.89000</td>\n",
       "      <td>7.050000</td>\n",
       "    </tr>\n",
       "    <tr>\n",
       "      <th>50%</th>\n",
       "      <td>103.000000</td>\n",
       "      <td>4.82000</td>\n",
       "      <td>15.880000</td>\n",
       "    </tr>\n",
       "    <tr>\n",
       "      <th>75%</th>\n",
       "      <td>157.000000</td>\n",
       "      <td>6.49000</td>\n",
       "      <td>16.640000</td>\n",
       "    </tr>\n",
       "    <tr>\n",
       "      <th>max</th>\n",
       "      <td>206.000000</td>\n",
       "      <td>8.69000</td>\n",
       "      <td>17.890000</td>\n",
       "    </tr>\n",
       "  </tbody>\n",
       "</table>\n",
       "</div>"
      ],
      "text/plain": [
       "          rallyid          x           y\n",
       "count  133.000000  133.00000  133.000000\n",
       "mean   104.172932    4.75188   12.433233\n",
       "std     59.851143    2.32375    4.773501\n",
       "min      1.000000    0.86000    4.260000\n",
       "25%     54.000000    2.89000    7.050000\n",
       "50%    103.000000    4.82000   15.880000\n",
       "75%    157.000000    6.49000   16.640000\n",
       "max    206.000000    8.69000   17.890000"
      ]
     },
     "execution_count": 19,
     "metadata": {},
     "output_type": "execute_result"
    }
   ],
   "source": [
    "serves.describe()"
   ]
  },
  {
   "cell_type": "code",
   "execution_count": 20,
   "metadata": {},
   "outputs": [
    {
     "data": {
      "text/plain": [
       "rallyid    0\n",
       "server     0\n",
       "x          0\n",
       "y          0\n",
       "dtype: int64"
      ]
     },
     "execution_count": 20,
     "metadata": {},
     "output_type": "execute_result"
    }
   ],
   "source": [
    "serves.isnull().sum()"
   ]
  },
  {
   "cell_type": "markdown",
   "metadata": {},
   "source": [
    "## Basic Analysis"
   ]
  },
  {
   "cell_type": "markdown",
   "metadata": {},
   "source": [
    "* Total points won"
   ]
  },
  {
   "cell_type": "code",
   "execution_count": 22,
   "metadata": {},
   "outputs": [
    {
     "data": {
      "text/html": [
       "<div>\n",
       "<style scoped>\n",
       "    .dataframe tbody tr th:only-of-type {\n",
       "        vertical-align: middle;\n",
       "    }\n",
       "\n",
       "    .dataframe tbody tr th {\n",
       "        vertical-align: top;\n",
       "    }\n",
       "\n",
       "    .dataframe thead th {\n",
       "        text-align: right;\n",
       "    }\n",
       "</style>\n",
       "<table border=\"1\" class=\"dataframe\">\n",
       "  <thead>\n",
       "    <tr style=\"text-align: right;\">\n",
       "      <th></th>\n",
       "      <th>rallyid</th>\n",
       "    </tr>\n",
       "    <tr>\n",
       "      <th>winner</th>\n",
       "      <th></th>\n",
       "    </tr>\n",
       "  </thead>\n",
       "  <tbody>\n",
       "    <tr>\n",
       "      <th>Djokovic</th>\n",
       "      <td>89</td>\n",
       "    </tr>\n",
       "    <tr>\n",
       "      <th>Nadal</th>\n",
       "      <td>53</td>\n",
       "    </tr>\n",
       "  </tbody>\n",
       "</table>\n",
       "</div>"
      ],
      "text/plain": [
       "          rallyid\n",
       "winner           \n",
       "Djokovic       89\n",
       "Nadal          53"
      ]
     },
     "execution_count": 22,
     "metadata": {},
     "output_type": "execute_result"
    }
   ],
   "source": [
    "points[['winner', 'rallyid']].groupby('winner').count()"
   ]
  },
  {
   "cell_type": "markdown",
   "metadata": {},
   "source": [
    "### Total points won for each point type"
   ]
  },
  {
   "cell_type": "code",
   "execution_count": 23,
   "metadata": {},
   "outputs": [],
   "source": [
    "grouped_points = points[['winner', 'reason', 'rallyid']].groupby(by = ['winner', 'reason']).count().reset_index().rename(\n",
    "    columns = {'rallyid' : 'count'})\n"
   ]
  },
  {
   "cell_type": "code",
   "execution_count": 59,
   "metadata": {},
   "outputs": [
    {
     "data": {
      "application/vnd.vegalite.v4+json": {
       "$schema": "https://vega.github.io/schema/vega-lite/v4.0.2.json",
       "config": {
        "view": {
         "continuousHeight": 300,
         "continuousWidth": 400
        }
       },
       "data": {
        "name": "data-c5d9a6b6192136802da6597a89261897"
       },
       "datasets": {
        "data-c5d9a6b6192136802da6597a89261897": [
         {
          "count": 8,
          "reason": "ace",
          "winner": "Djokovic"
         },
         {
          "count": 2,
          "reason": "double_fault",
          "winner": "Djokovic"
         },
         {
          "count": 23,
          "reason": "net",
          "winner": "Djokovic"
         },
         {
          "count": 30,
          "reason": "out",
          "winner": "Djokovic"
         },
         {
          "count": 26,
          "reason": "winner",
          "winner": "Djokovic"
         },
         {
          "count": 3,
          "reason": "ace",
          "winner": "Nadal"
         },
         {
          "count": 14,
          "reason": "net",
          "winner": "Nadal"
         },
         {
          "count": 19,
          "reason": "out",
          "winner": "Nadal"
         },
         {
          "count": 17,
          "reason": "winner",
          "winner": "Nadal"
         }
        ]
       },
       "encoding": {
        "color": {
         "field": "winner",
         "title": "Player",
         "type": "nominal"
        },
        "column": {
         "field": "reason",
         "type": "nominal"
        },
        "tooltip": [
         {
          "field": "count",
          "type": "quantitative"
         }
        ],
        "x": {
         "axis": null,
         "field": "winner",
         "type": "ordinal"
        },
        "y": {
         "field": "count",
         "title": null,
         "type": "quantitative"
        }
       },
       "mark": "bar",
       "width": 150
      },
      "image/png": "[encoded data removed]",
      "text/plain": [
       "<VegaLite 4 object>\n",
       "\n",
       "If you see this message, it means the renderer has not been properly enabled\n",
       "for the frontend that you are using. For more information, see\n",
       "https://altair-viz.github.io/user_guide/troubleshooting.html\n"
      ]
     },
     "execution_count": 59,
     "metadata": {},
     "output_type": "execute_result"
    }
   ],
   "source": [
    "alt.Chart(grouped_points).mark_bar().encode(\n",
    "    x = alt.X('winner:O', axis = None),\n",
    "    y = alt.Y('count:Q', title = None),\n",
    "    color = alt.Color('winner:N',title = 'Player' ),\n",
    "    column = 'reason:N',\n",
    "    tooltip=['count']\n",
    ").properties(width = 150)"
   ]
  },
  {
   "cell_type": "markdown",
   "metadata": {},
   "source": [
    "* Points won for first vs second serves for both players."
   ]
  },
  {
   "cell_type": "code",
   "execution_count": 25,
   "metadata": {},
   "outputs": [
    {
     "data": {
      "text/html": [
       "<div>\n",
       "<style scoped>\n",
       "    .dataframe tbody tr th:only-of-type {\n",
       "        vertical-align: middle;\n",
       "    }\n",
       "\n",
       "    .dataframe tbody tr th {\n",
       "        vertical-align: top;\n",
       "    }\n",
       "\n",
       "    .dataframe thead th {\n",
       "        text-align: right;\n",
       "    }\n",
       "</style>\n",
       "<table border=\"1\" class=\"dataframe\">\n",
       "  <thead>\n",
       "    <tr style=\"text-align: right;\">\n",
       "      <th></th>\n",
       "      <th>winner</th>\n",
       "      <th>serve</th>\n",
       "      <th>counts</th>\n",
       "    </tr>\n",
       "  </thead>\n",
       "  <tbody>\n",
       "    <tr>\n",
       "      <th>0</th>\n",
       "      <td>Djokovic</td>\n",
       "      <td>first</td>\n",
       "      <td>62</td>\n",
       "    </tr>\n",
       "    <tr>\n",
       "      <th>1</th>\n",
       "      <td>Djokovic</td>\n",
       "      <td>second</td>\n",
       "      <td>27</td>\n",
       "    </tr>\n",
       "    <tr>\n",
       "      <th>2</th>\n",
       "      <td>Nadal</td>\n",
       "      <td>first</td>\n",
       "      <td>36</td>\n",
       "    </tr>\n",
       "    <tr>\n",
       "      <th>3</th>\n",
       "      <td>Nadal</td>\n",
       "      <td>second</td>\n",
       "      <td>17</td>\n",
       "    </tr>\n",
       "  </tbody>\n",
       "</table>\n",
       "</div>"
      ],
      "text/plain": [
       "     winner   serve  counts\n",
       "0  Djokovic   first      62\n",
       "1  Djokovic  second      27\n",
       "2     Nadal   first      36\n",
       "3     Nadal  second      17"
      ]
     },
     "execution_count": 25,
     "metadata": {},
     "output_type": "execute_result"
    }
   ],
   "source": [
    "points_serves = points[['winner', 'serve']].groupby(by = ['winner', 'serve']).size().reset_index(name='counts')\n",
    "points_serves"
   ]
  },
  {
   "cell_type": "code",
   "execution_count": 60,
   "metadata": {},
   "outputs": [
    {
     "data": {
      "application/vnd.vegalite.v4+json": {
       "$schema": "https://vega.github.io/schema/vega-lite/v4.0.2.json",
       "config": {
        "view": {
         "continuousHeight": 300,
         "continuousWidth": 400
        }
       },
       "data": {
        "name": "data-2b10574a7189f54378768c40d63f32de"
       },
       "datasets": {
        "data-2b10574a7189f54378768c40d63f32de": [
         {
          "counts": 62,
          "serve": "first",
          "winner": "Djokovic"
         },
         {
          "counts": 27,
          "serve": "second",
          "winner": "Djokovic"
         },
         {
          "counts": 36,
          "serve": "first",
          "winner": "Nadal"
         },
         {
          "counts": 17,
          "serve": "second",
          "winner": "Nadal"
         }
        ]
       },
       "encoding": {
        "color": {
         "field": "winner",
         "title": "Player",
         "type": "nominal"
        },
        "column": {
         "field": "serve",
         "type": "nominal"
        },
        "x": {
         "field": "winner",
         "title": null,
         "type": "ordinal"
        },
        "y": {
         "axis": null,
         "field": "counts",
         "type": "quantitative"
        }
       },
       "mark": "bar",
       "width": 150
      },
      "image/png": "[encoded data removed]",
      "text/plain": [
       "<VegaLite 4 object>\n",
       "\n",
       "If you see this message, it means the renderer has not been properly enabled\n",
       "for the frontend that you are using. For more information, see\n",
       "https://altair-viz.github.io/user_guide/troubleshooting.html\n"
      ]
     },
     "execution_count": 60,
     "metadata": {},
     "output_type": "execute_result"
    }
   ],
   "source": [
    "alt.Chart(points_serves).mark_bar().encode(\n",
    "    x = alt.X('winner:O', title = None),\n",
    "    y = alt.Y('counts:Q', axis = None),\n",
    "    color = alt.Color('winner:N',title = 'Player' ),\n",
    "    column = 'serve:N'\n",
    ").properties(width = 150)"
   ]
  },
  {
   "cell_type": "markdown",
   "metadata": {},
   "source": [
    "#### What about who was better during long rallies?\n"
   ]
  },
  {
   "cell_type": "markdown",
   "metadata": {},
   "source": [
    "From analyzing the points dataframe I can see that for some observations the number is incorrect, because for points with winner as a reason, the minimum number of stokes should be 2."
   ]
  },
  {
   "cell_type": "code",
   "execution_count": 27,
   "metadata": {},
   "outputs": [
    {
     "data": {
      "text/html": [
       "<div>\n",
       "<style scoped>\n",
       "    .dataframe tbody tr th:only-of-type {\n",
       "        vertical-align: middle;\n",
       "    }\n",
       "\n",
       "    .dataframe tbody tr th {\n",
       "        vertical-align: top;\n",
       "    }\n",
       "\n",
       "    .dataframe thead th {\n",
       "        text-align: right;\n",
       "    }\n",
       "</style>\n",
       "<table border=\"1\" class=\"dataframe\">\n",
       "  <thead>\n",
       "    <tr style=\"text-align: right;\">\n",
       "      <th></th>\n",
       "      <th>rallyid</th>\n",
       "      <th>server</th>\n",
       "      <th>returner</th>\n",
       "      <th>winner</th>\n",
       "      <th>reason</th>\n",
       "      <th>serve</th>\n",
       "      <th>strokes</th>\n",
       "      <th>totaltime</th>\n",
       "      <th>x</th>\n",
       "      <th>y</th>\n",
       "      <th>score</th>\n",
       "    </tr>\n",
       "  </thead>\n",
       "  <tbody>\n",
       "    <tr>\n",
       "      <th>70</th>\n",
       "      <td>71</td>\n",
       "      <td>Nadal</td>\n",
       "      <td>Djokovic</td>\n",
       "      <td>Nadal</td>\n",
       "      <td>winner</td>\n",
       "      <td>first</td>\n",
       "      <td>1</td>\n",
       "      <td>0.0</td>\n",
       "      <td>4.84</td>\n",
       "      <td>29.68</td>\n",
       "      <td>6:3 0:0, 30:40</td>\n",
       "    </tr>\n",
       "    <tr>\n",
       "      <th>93</th>\n",
       "      <td>94</td>\n",
       "      <td>Djokovic</td>\n",
       "      <td>Nadal</td>\n",
       "      <td>Djokovic</td>\n",
       "      <td>winner</td>\n",
       "      <td>first</td>\n",
       "      <td>1</td>\n",
       "      <td>0.0</td>\n",
       "      <td>5.46</td>\n",
       "      <td>-1.77</td>\n",
       "      <td>6:3 2:2, 0:0</td>\n",
       "    </tr>\n",
       "  </tbody>\n",
       "</table>\n",
       "</div>"
      ],
      "text/plain": [
       "    rallyid    server  returner    winner  reason  serve  strokes  totaltime  \\\n",
       "70       71     Nadal  Djokovic     Nadal  winner  first        1        0.0   \n",
       "93       94  Djokovic     Nadal  Djokovic  winner  first        1        0.0   \n",
       "\n",
       "       x      y           score  \n",
       "70  4.84  29.68  6:3 0:0, 30:40  \n",
       "93  5.46  -1.77    6:3 2:2, 0:0  "
      ]
     },
     "execution_count": 27,
     "metadata": {},
     "output_type": "execute_result"
    }
   ],
   "source": [
    "points.query(\"reason == 'winner' and strokes < 2\")"
   ]
  },
  {
   "cell_type": "markdown",
   "metadata": {},
   "source": [
    "Those observations will be updated by incrementing the number of strokes by 1."
   ]
  },
  {
   "cell_type": "code",
   "execution_count": 28,
   "metadata": {},
   "outputs": [],
   "source": [
    "points.loc[70, 'strokes'] = 2\n",
    "points.loc[93, 'strokes'] = 2"
   ]
  },
  {
   "cell_type": "code",
   "execution_count": 61,
   "metadata": {},
   "outputs": [
    {
     "data": {
      "application/vnd.vegalite.v4+json": {
       "$schema": "https://vega.github.io/schema/vega-lite/v4.0.2.json",
       "config": {
        "view": {
         "continuousHeight": 300,
         "continuousWidth": 400
        }
       },
       "data": {
        "name": "data-aa0eaea2c3a5ebfe73c4cdf045225ca4"
       },
       "datasets": {
        "data-aa0eaea2c3a5ebfe73c4cdf045225ca4": [
         {
          "strokes": 3,
          "winner": "Djokovic"
         },
         {
          "strokes": 4,
          "winner": "Djokovic"
         },
         {
          "strokes": 2,
          "winner": "Djokovic"
         },
         {
          "strokes": 10,
          "winner": "Djokovic"
         },
         {
          "strokes": 7,
          "winner": "Djokovic"
         },
         {
          "strokes": 12,
          "winner": "Djokovic"
         },
         {
          "strokes": 4,
          "winner": "Nadal"
         },
         {
          "strokes": 13,
          "winner": "Djokovic"
         },
         {
          "strokes": 3,
          "winner": "Djokovic"
         },
         {
          "strokes": 2,
          "winner": "Djokovic"
         },
         {
          "strokes": 4,
          "winner": "Djokovic"
         },
         {
          "strokes": 6,
          "winner": "Djokovic"
         },
         {
          "strokes": 1,
          "winner": "Djokovic"
         },
         {
          "strokes": 12,
          "winner": "Djokovic"
         },
         {
          "strokes": 2,
          "winner": "Nadal"
         },
         {
          "strokes": 4,
          "winner": "Djokovic"
         },
         {
          "strokes": 3,
          "winner": "Nadal"
         },
         {
          "strokes": 7,
          "winner": "Djokovic"
         },
         {
          "strokes": 2,
          "winner": "Nadal"
         },
         {
          "strokes": 2,
          "winner": "Nadal"
         },
         {
          "strokes": 4,
          "winner": "Nadal"
         },
         {
          "strokes": 1,
          "winner": "Djokovic"
         },
         {
          "strokes": 6,
          "winner": "Djokovic"
         },
         {
          "strokes": 1,
          "winner": "Djokovic"
         },
         {
          "strokes": 5,
          "winner": "Djokovic"
         },
         {
          "strokes": 3,
          "winner": "Djokovic"
         },
         {
          "strokes": 2,
          "winner": "Nadal"
         },
         {
          "strokes": 3,
          "winner": "Nadal"
         },
         {
          "strokes": 11,
          "winner": "Djokovic"
         },
         {
          "strokes": 6,
          "winner": "Nadal"
         },
         {
          "strokes": 2,
          "winner": "Nadal"
         },
         {
          "strokes": 8,
          "winner": "Djokovic"
         },
         {
          "strokes": 14,
          "winner": "Djokovic"
         },
         {
          "strokes": 4,
          "winner": "Djokovic"
         },
         {
          "strokes": 3,
          "winner": "Djokovic"
         },
         {
          "strokes": 7,
          "winner": "Nadal"
         },
         {
          "strokes": 16,
          "winner": "Nadal"
         },
         {
          "strokes": 4,
          "winner": "Nadal"
         },
         {
          "strokes": 3,
          "winner": "Nadal"
         },
         {
          "strokes": 11,
          "winner": "Nadal"
         },
         {
          "strokes": 6,
          "winner": "Djokovic"
         },
         {
          "strokes": 11,
          "winner": "Djokovic"
         },
         {
          "strokes": 22,
          "winner": "Djokovic"
         },
         {
          "strokes": 4,
          "winner": "Djokovic"
         },
         {
          "strokes": 5,
          "winner": "Djokovic"
         },
         {
          "strokes": 3,
          "winner": "Nadal"
         },
         {
          "strokes": 2,
          "winner": "Nadal"
         },
         {
          "strokes": 4,
          "winner": "Djokovic"
         },
         {
          "strokes": 2,
          "winner": "Nadal"
         },
         {
          "strokes": 3,
          "winner": "Nadal"
         },
         {
          "strokes": 4,
          "winner": "Djokovic"
         },
         {
          "strokes": 4,
          "winner": "Djokovic"
         },
         {
          "strokes": 1,
          "winner": "Djokovic"
         },
         {
          "strokes": 4,
          "winner": "Djokovic"
         },
         {
          "strokes": 2,
          "winner": "Nadal"
         },
         {
          "strokes": 5,
          "winner": "Djokovic"
         },
         {
          "strokes": 19,
          "winner": "Djokovic"
         },
         {
          "strokes": 3,
          "winner": "Nadal"
         },
         {
          "strokes": 7,
          "winner": "Nadal"
         },
         {
          "strokes": 2,
          "winner": "Nadal"
         },
         {
          "strokes": 2,
          "winner": "Djokovic"
         },
         {
          "strokes": 5,
          "winner": "Nadal"
         },
         {
          "strokes": 2,
          "winner": "Djokovic"
         },
         {
          "strokes": 6,
          "winner": "Djokovic"
         },
         {
          "strokes": 2,
          "winner": "Djokovic"
         },
         {
          "strokes": 15,
          "winner": "Djokovic"
         },
         {
          "strokes": 5,
          "winner": "Djokovic"
         },
         {
          "strokes": 1,
          "winner": "Nadal"
         },
         {
          "strokes": 3,
          "winner": "Djokovic"
         },
         {
          "strokes": 2,
          "winner": "Djokovic"
         },
         {
          "strokes": 3,
          "winner": "Nadal"
         },
         {
          "strokes": 4,
          "winner": "Djokovic"
         },
         {
          "strokes": 3,
          "winner": "Nadal"
         },
         {
          "strokes": 7,
          "winner": "Djokovic"
         },
         {
          "strokes": 14,
          "winner": "Djokovic"
         },
         {
          "strokes": 11,
          "winner": "Nadal"
         },
         {
          "strokes": 7,
          "winner": "Djokovic"
         },
         {
          "strokes": 8,
          "winner": "Nadal"
         },
         {
          "strokes": 8,
          "winner": "Djokovic"
         },
         {
          "strokes": 10,
          "winner": "Djokovic"
         },
         {
          "strokes": 7,
          "winner": "Nadal"
         },
         {
          "strokes": 1,
          "winner": "Djokovic"
         },
         {
          "strokes": 14,
          "winner": "Djokovic"
         },
         {
          "strokes": 8,
          "winner": "Djokovic"
         },
         {
          "strokes": 7,
          "winner": "Djokovic"
         },
         {
          "strokes": 3,
          "winner": "Djokovic"
         },
         {
          "strokes": 1,
          "winner": "Djokovic"
         },
         {
          "strokes": 1,
          "winner": "Djokovic"
         },
         {
          "strokes": 1,
          "winner": "Djokovic"
         },
         {
          "strokes": 7,
          "winner": "Nadal"
         },
         {
          "strokes": 12,
          "winner": "Djokovic"
         },
         {
          "strokes": 2,
          "winner": "Nadal"
         },
         {
          "strokes": 11,
          "winner": "Djokovic"
         },
         {
          "strokes": 7,
          "winner": "Nadal"
         },
         {
          "strokes": 2,
          "winner": "Nadal"
         },
         {
          "strokes": 4,
          "winner": "Djokovic"
         },
         {
          "strokes": 4,
          "winner": "Djokovic"
         },
         {
          "strokes": 2,
          "winner": "Djokovic"
         },
         {
          "strokes": 2,
          "winner": "Djokovic"
         },
         {
          "strokes": 2,
          "winner": "Nadal"
         },
         {
          "strokes": 2,
          "winner": "Djokovic"
         },
         {
          "strokes": 1,
          "winner": "Djokovic"
         },
         {
          "strokes": 11,
          "winner": "Djokovic"
         },
         {
          "strokes": 16,
          "winner": "Nadal"
         },
         {
          "strokes": 11,
          "winner": "Djokovic"
         },
         {
          "strokes": 8,
          "winner": "Nadal"
         },
         {
          "strokes": 3,
          "winner": "Djokovic"
         },
         {
          "strokes": 2,
          "winner": "Djokovic"
         },
         {
          "strokes": 3,
          "winner": "Djokovic"
         },
         {
          "strokes": 11,
          "winner": "Djokovic"
         },
         {
          "strokes": 3,
          "winner": "Nadal"
         },
         {
          "strokes": 1,
          "winner": "Nadal"
         },
         {
          "strokes": 2,
          "winner": "Nadal"
         },
         {
          "strokes": 3,
          "winner": "Djokovic"
         },
         {
          "strokes": 5,
          "winner": "Nadal"
         },
         {
          "strokes": 16,
          "winner": "Djokovic"
         },
         {
          "strokes": 7,
          "winner": "Nadal"
         },
         {
          "strokes": 4,
          "winner": "Djokovic"
         },
         {
          "strokes": 11,
          "winner": "Nadal"
         },
         {
          "strokes": 3,
          "winner": "Nadal"
         },
         {
          "strokes": 9,
          "winner": "Djokovic"
         },
         {
          "strokes": 2,
          "winner": "Djokovic"
         },
         {
          "strokes": 3,
          "winner": "Djokovic"
         },
         {
          "strokes": 4,
          "winner": "Djokovic"
         },
         {
          "strokes": 1,
          "winner": "Nadal"
         },
         {
          "strokes": 2,
          "winner": "Nadal"
         },
         {
          "strokes": 2,
          "winner": "Nadal"
         },
         {
          "strokes": 2,
          "winner": "Nadal"
         },
         {
          "strokes": 3,
          "winner": "Nadal"
         },
         {
          "strokes": 7,
          "winner": "Djokovic"
         },
         {
          "strokes": 2,
          "winner": "Djokovic"
         },
         {
          "strokes": 7,
          "winner": "Nadal"
         },
         {
          "strokes": 4,
          "winner": "Djokovic"
         },
         {
          "strokes": 17,
          "winner": "Nadal"
         },
         {
          "strokes": 2,
          "winner": "Djokovic"
         },
         {
          "strokes": 7,
          "winner": "Djokovic"
         },
         {
          "strokes": 2,
          "winner": "Nadal"
         },
         {
          "strokes": 6,
          "winner": "Djokovic"
         },
         {
          "strokes": 9,
          "winner": "Djokovic"
         },
         {
          "strokes": 4,
          "winner": "Djokovic"
         },
         {
          "strokes": 12,
          "winner": "Nadal"
         },
         {
          "strokes": 5,
          "winner": "Djokovic"
         }
        ]
       },
       "encoding": {
        "color": {
         "field": "winner",
         "type": "nominal"
        },
        "x": {
         "field": "strokes",
         "type": "quantitative"
        },
        "y": {
         "aggregate": "count",
         "stack": null,
         "type": "quantitative"
        }
       },
       "mark": {
        "interpolate": "step",
        "opacity": 0.8,
        "type": "area"
       }
      },
      "image/png": "[encoded data removed]",
      "text/plain": [
       "<VegaLite 4 object>\n",
       "\n",
       "If you see this message, it means the renderer has not been properly enabled\n",
       "for the frontend that you are using. For more information, see\n",
       "https://altair-viz.github.io/user_guide/troubleshooting.html\n"
      ]
     },
     "execution_count": 61,
     "metadata": {},
     "output_type": "execute_result"
    }
   ],
   "source": [
    "alt.Chart(points[['winner', 'strokes']]).mark_bar().mark_area(\n",
    "    opacity=0.8,\n",
    "    interpolate='step'\n",
    ").encode(\n",
    "    alt.X('strokes'),\n",
    "    alt.Y('count()', stack=None),\n",
    "    color = \"winner:N\"\n",
    "        )"
   ]
  },
  {
   "cell_type": "markdown",
   "metadata": {},
   "source": [
    "#### Points won by both players "
   ]
  },
  {
   "cell_type": "code",
   "execution_count": 62,
   "metadata": {},
   "outputs": [
    {
     "data": {
      "application/vnd.vegalite.v4+json": {
       "$schema": "https://vega.github.io/schema/vega-lite/v4.0.2.json",
       "config": {
        "view": {
         "continuousHeight": 300,
         "continuousWidth": 400
        }
       },
       "data": {
        "name": "data-c5d9a6b6192136802da6597a89261897"
       },
       "datasets": {
        "data-c5d9a6b6192136802da6597a89261897": [
         {
          "count": 8,
          "reason": "ace",
          "winner": "Djokovic"
         },
         {
          "count": 2,
          "reason": "double_fault",
          "winner": "Djokovic"
         },
         {
          "count": 23,
          "reason": "net",
          "winner": "Djokovic"
         },
         {
          "count": 30,
          "reason": "out",
          "winner": "Djokovic"
         },
         {
          "count": 26,
          "reason": "winner",
          "winner": "Djokovic"
         },
         {
          "count": 3,
          "reason": "ace",
          "winner": "Nadal"
         },
         {
          "count": 14,
          "reason": "net",
          "winner": "Nadal"
         },
         {
          "count": 19,
          "reason": "out",
          "winner": "Nadal"
         },
         {
          "count": 17,
          "reason": "winner",
          "winner": "Nadal"
         }
        ]
       },
       "encoding": {
        "color": {
         "field": "winner",
         "title": "Player",
         "type": "nominal"
        },
        "column": {
         "field": "reason",
         "type": "nominal"
        },
        "tooltip": [
         {
          "field": "count",
          "type": "quantitative"
         }
        ],
        "x": {
         "axis": null,
         "field": "winner",
         "type": "ordinal"
        },
        "y": {
         "field": "count",
         "title": null,
         "type": "quantitative"
        }
       },
       "mark": "bar",
       "width": 150
      },
      "image/png": "[encoded data removed]",
      "text/plain": [
       "<VegaLite 4 object>\n",
       "\n",
       "If you see this message, it means the renderer has not been properly enabled\n",
       "for the frontend that you are using. For more information, see\n",
       "https://altair-viz.github.io/user_guide/troubleshooting.html\n"
      ]
     },
     "execution_count": 62,
     "metadata": {},
     "output_type": "execute_result"
    }
   ],
   "source": [
    "alt.Chart(grouped_points).mark_bar().encode(\n",
    "    x = alt.X('winner:O', axis = None),\n",
    "    y = alt.Y('count:Q', title = None),\n",
    "    color = alt.Color('winner:N',title = 'Player' ),\n",
    "    column = 'reason:N',\n",
    "    tooltip=['count']\n",
    ").properties(width = 150)"
   ]
  },
  {
   "cell_type": "markdown",
   "metadata": {},
   "source": [
    "### Building the court"
   ]
  },
  {
   "cell_type": "code",
   "execution_count": 31,
   "metadata": {},
   "outputs": [],
   "source": [
    "data = [[0, 0, 1], [0, 10.97, 2], [23.78, 10.97, 3], [23.78, 0, 4], [0,0, 5]]\n",
    "out_lines = pd.DataFrame(data, columns = ['x', 'y', 'order'])\n",
    "\n",
    "\n",
    "data = [[5.5, 1.37, 1], [5.5, 9.6, 2], [5.5, 5.5, 3], [18.385 ,5.5, 4], [18.385, 1.37, 5], [18.385, 9.6, 6]]\n",
    "t_lines = pd.DataFrame(data, columns = ['x', 'y', 'order'])\n",
    "\n",
    "    \n",
    "data = [[23.78, 1.37, 1], [0, 1.37, 2]]\n",
    "lower_lines = pd.DataFrame(data, columns = ['x', 'y', 'order'])\n",
    "\n",
    "data = [[23.78, 9.6, 1], [0, 9.6, 2]]\n",
    "upper_lines = pd.DataFrame(data, columns = ['x', 'y', 'order'])\n",
    "\n",
    "data = [[11.89, 0], [11.89 , 10.97]]\n",
    "net_lines = pd.DataFrame(data, columns = ['x', 'y'])\n"
   ]
  },
  {
   "cell_type": "code",
   "execution_count": 32,
   "metadata": {},
   "outputs": [],
   "source": [
    "outline_plot = alt.Chart(out_lines).mark_line().encode(\n",
    "    x = alt.X('x:Q', title = None),\n",
    "    y = alt.Y('y:Q', title = None),\n",
    "    order = 'order'\n",
    ").properties(width = 500)"
   ]
  },
  {
   "cell_type": "code",
   "execution_count": 33,
   "metadata": {},
   "outputs": [],
   "source": [
    "t_line_plot = alt.Chart(t_lines).mark_line().encode(\n",
    "    x = alt.X('x:Q', title = None),\n",
    "    y = alt.Y('y:Q', title = None),\n",
    "    order = 'order'\n",
    ").properties(width = 500)"
   ]
  },
  {
   "cell_type": "code",
   "execution_count": 34,
   "metadata": {},
   "outputs": [],
   "source": [
    "lower_line_plot = alt.Chart(lower_lines).mark_line().encode(\n",
    "    x = alt.X('x:Q', title = None),\n",
    "    y = alt.Y('y:Q', title = None),\n",
    "    order = 'order'\n",
    ").properties(width = 500)"
   ]
  },
  {
   "cell_type": "code",
   "execution_count": 35,
   "metadata": {},
   "outputs": [],
   "source": [
    "upper_line_plot = alt.Chart(upper_lines).mark_line().encode(\n",
    "    x = alt.X('x:Q', title = None),\n",
    "    y = alt.Y('y:Q', title = None),\n",
    "    order = 'order'\n",
    ").properties(width = 500)"
   ]
  },
  {
   "cell_type": "code",
   "execution_count": 36,
   "metadata": {},
   "outputs": [],
   "source": [
    "net_line_plot = alt.Chart(net_lines).mark_line(strokeDash=[10,10]).encode(\n",
    "    x = alt.X('x:Q', title = None),\n",
    "    y = alt.Y('y:Q', title = None)\n",
    ").properties(width = 500)"
   ]
  },
  {
   "cell_type": "code",
   "execution_count": 63,
   "metadata": {},
   "outputs": [
    {
     "data": {
      "application/vnd.vegalite.v4+json": {
       "$schema": "https://vega.github.io/schema/vega-lite/v4.0.2.json",
       "config": {
        "view": {
         "continuousHeight": 300,
         "continuousWidth": 400
        }
       },
       "datasets": {
        "data-4797c0e744b0a9ac817bc1253269f191": [
         {
          "order": 1,
          "x": 23.78,
          "y": 1.37
         },
         {
          "order": 2,
          "x": 0,
          "y": 1.37
         }
        ],
        "data-a3fc29de1d914850e8722e53400f185f": [
         {
          "x": 11.89,
          "y": 0
         },
         {
          "x": 11.89,
          "y": 10.97
         }
        ],
        "data-b2af84a32190dd8c28170de76900bcda": [
         {
          "order": 1,
          "x": 5.5,
          "y": 1.37
         },
         {
          "order": 2,
          "x": 5.5,
          "y": 9.6
         },
         {
          "order": 3,
          "x": 5.5,
          "y": 5.5
         },
         {
          "order": 4,
          "x": 18.385,
          "y": 5.5
         },
         {
          "order": 5,
          "x": 18.385,
          "y": 1.37
         },
         {
          "order": 6,
          "x": 18.385,
          "y": 9.6
         }
        ],
        "data-c7f556b3023ba28f4541479c1c31284f": [
         {
          "order": 1,
          "x": 23.78,
          "y": 9.6
         },
         {
          "order": 2,
          "x": 0,
          "y": 9.6
         }
        ],
        "data-ce27f3aa794d6d644dd2868ce4628bd6": [
         {
          "order": 1,
          "x": 0,
          "y": 0
         },
         {
          "order": 2,
          "x": 0,
          "y": 10.97
         },
         {
          "order": 3,
          "x": 23.78,
          "y": 10.97
         },
         {
          "order": 4,
          "x": 23.78,
          "y": 0
         },
         {
          "order": 5,
          "x": 0,
          "y": 0
         }
        ]
       },
       "layer": [
        {
         "data": {
          "name": "data-ce27f3aa794d6d644dd2868ce4628bd6"
         },
         "encoding": {
          "order": {
           "field": "order",
           "type": "quantitative"
          },
          "x": {
           "field": "x",
           "title": null,
           "type": "quantitative"
          },
          "y": {
           "field": "y",
           "title": null,
           "type": "quantitative"
          }
         },
         "mark": "line",
         "width": 500
        },
        {
         "data": {
          "name": "data-b2af84a32190dd8c28170de76900bcda"
         },
         "encoding": {
          "order": {
           "field": "order",
           "type": "quantitative"
          },
          "x": {
           "field": "x",
           "title": null,
           "type": "quantitative"
          },
          "y": {
           "field": "y",
           "title": null,
           "type": "quantitative"
          }
         },
         "mark": "line",
         "width": 500
        },
        {
         "data": {
          "name": "data-4797c0e744b0a9ac817bc1253269f191"
         },
         "encoding": {
          "order": {
           "field": "order",
           "type": "quantitative"
          },
          "x": {
           "field": "x",
           "title": null,
           "type": "quantitative"
          },
          "y": {
           "field": "y",
           "title": null,
           "type": "quantitative"
          }
         },
         "mark": "line",
         "width": 500
        },
        {
         "data": {
          "name": "data-c7f556b3023ba28f4541479c1c31284f"
         },
         "encoding": {
          "order": {
           "field": "order",
           "type": "quantitative"
          },
          "x": {
           "field": "x",
           "title": null,
           "type": "quantitative"
          },
          "y": {
           "field": "y",
           "title": null,
           "type": "quantitative"
          }
         },
         "mark": "line",
         "width": 500
        },
        {
         "data": {
          "name": "data-a3fc29de1d914850e8722e53400f185f"
         },
         "encoding": {
          "x": {
           "field": "x",
           "title": null,
           "type": "quantitative"
          },
          "y": {
           "field": "y",
           "title": null,
           "type": "quantitative"
          }
         },
         "mark": {
          "strokeDash": [
           10,
           10
          ],
          "type": "line"
         },
         "width": 500
        }
       ]
      },
      "image/png": "[encoded data removed]",
      "text/plain": [
       "<VegaLite 4 object>\n",
       "\n",
       "If you see this message, it means the renderer has not been properly enabled\n",
       "for the frontend that you are using. For more information, see\n",
       "https://altair-viz.github.io/user_guide/troubleshooting.html\n"
      ]
     },
     "execution_count": 63,
     "metadata": {},
     "output_type": "execute_result"
    }
   ],
   "source": [
    "court = outline_plot + t_line_plot + lower_line_plot + upper_line_plot + net_line_plot\n",
    "court"
   ]
  },
  {
   "cell_type": "markdown",
   "metadata": {},
   "source": [
    "### Determining the location of each player"
   ]
  },
  {
   "cell_type": "markdown",
   "metadata": {},
   "source": [
    "Since the location of the players during the serve is determined already by tennis rules, I will only visualize the location of the players during rallies."
   ]
  },
  {
   "cell_type": "code",
   "execution_count": 38,
   "metadata": {},
   "outputs": [],
   "source": [
    "location_data = events[['hitter', 'hitter_x', 'hitter_y']]"
   ]
  },
  {
   "cell_type": "code",
   "execution_count": 39,
   "metadata": {},
   "outputs": [
    {
     "data": {
      "text/html": [
       "<div>\n",
       "<style scoped>\n",
       "    .dataframe tbody tr th:only-of-type {\n",
       "        vertical-align: middle;\n",
       "    }\n",
       "\n",
       "    .dataframe tbody tr th {\n",
       "        vertical-align: top;\n",
       "    }\n",
       "\n",
       "    .dataframe thead th {\n",
       "        text-align: right;\n",
       "    }\n",
       "</style>\n",
       "<table border=\"1\" class=\"dataframe\">\n",
       "  <thead>\n",
       "    <tr style=\"text-align: right;\">\n",
       "      <th></th>\n",
       "      <th>rallyid</th>\n",
       "      <th>frameid</th>\n",
       "      <th>strokeid</th>\n",
       "      <th>hitter</th>\n",
       "      <th>receiver</th>\n",
       "      <th>isserve</th>\n",
       "      <th>serve</th>\n",
       "      <th>type</th>\n",
       "      <th>stroke</th>\n",
       "      <th>hitter_x</th>\n",
       "      <th>hitter_y</th>\n",
       "      <th>receiver_x</th>\n",
       "      <th>receiver_y</th>\n",
       "      <th>time</th>\n",
       "    </tr>\n",
       "  </thead>\n",
       "  <tbody>\n",
       "    <tr>\n",
       "      <th>860</th>\n",
       "      <td>206</td>\n",
       "      <td>256777</td>\n",
       "      <td>1</td>\n",
       "      <td>Nadal</td>\n",
       "      <td>Djokovic</td>\n",
       "      <td>True</td>\n",
       "      <td>second</td>\n",
       "      <td>serve</td>\n",
       "      <td>forehand</td>\n",
       "      <td>3.78</td>\n",
       "      <td>-0.65</td>\n",
       "      <td>8.08</td>\n",
       "      <td>23.75</td>\n",
       "      <td>7436.00</td>\n",
       "    </tr>\n",
       "    <tr>\n",
       "      <th>861</th>\n",
       "      <td>206</td>\n",
       "      <td>256797</td>\n",
       "      <td>2</td>\n",
       "      <td>Djokovic</td>\n",
       "      <td>Nadal</td>\n",
       "      <td>False</td>\n",
       "      <td>first</td>\n",
       "      <td>return</td>\n",
       "      <td>backhand</td>\n",
       "      <td>7.75</td>\n",
       "      <td>23.96</td>\n",
       "      <td>4.36</td>\n",
       "      <td>0.50</td>\n",
       "      <td>7436.80</td>\n",
       "    </tr>\n",
       "    <tr>\n",
       "      <th>862</th>\n",
       "      <td>206</td>\n",
       "      <td>256829</td>\n",
       "      <td>3</td>\n",
       "      <td>Nadal</td>\n",
       "      <td>Djokovic</td>\n",
       "      <td>False</td>\n",
       "      <td>second</td>\n",
       "      <td>topspin</td>\n",
       "      <td>forehand</td>\n",
       "      <td>5.21</td>\n",
       "      <td>-1.27</td>\n",
       "      <td>5.04</td>\n",
       "      <td>24.29</td>\n",
       "      <td>7438.08</td>\n",
       "    </tr>\n",
       "    <tr>\n",
       "      <th>863</th>\n",
       "      <td>206</td>\n",
       "      <td>256857</td>\n",
       "      <td>4</td>\n",
       "      <td>Djokovic</td>\n",
       "      <td>Nadal</td>\n",
       "      <td>False</td>\n",
       "      <td>second</td>\n",
       "      <td>topspin</td>\n",
       "      <td>forehand</td>\n",
       "      <td>2.23</td>\n",
       "      <td>25.19</td>\n",
       "      <td>6.04</td>\n",
       "      <td>-3.12</td>\n",
       "      <td>7439.20</td>\n",
       "    </tr>\n",
       "    <tr>\n",
       "      <th>864</th>\n",
       "      <td>206</td>\n",
       "      <td>256892</td>\n",
       "      <td>5</td>\n",
       "      <td>Nadal</td>\n",
       "      <td>Djokovic</td>\n",
       "      <td>False</td>\n",
       "      <td>second</td>\n",
       "      <td>topspin</td>\n",
       "      <td>backhand</td>\n",
       "      <td>7.52</td>\n",
       "      <td>-1.69</td>\n",
       "      <td>3.26</td>\n",
       "      <td>26.24</td>\n",
       "      <td>7440.60</td>\n",
       "    </tr>\n",
       "  </tbody>\n",
       "</table>\n",
       "</div>"
      ],
      "text/plain": [
       "     rallyid  frameid  strokeid    hitter  receiver  isserve   serve     type  \\\n",
       "860      206   256777         1     Nadal  Djokovic     True  second    serve   \n",
       "861      206   256797         2  Djokovic     Nadal    False   first   return   \n",
       "862      206   256829         3     Nadal  Djokovic    False  second  topspin   \n",
       "863      206   256857         4  Djokovic     Nadal    False  second  topspin   \n",
       "864      206   256892         5     Nadal  Djokovic    False  second  topspin   \n",
       "\n",
       "       stroke  hitter_x  hitter_y  receiver_x  receiver_y     time  \n",
       "860  forehand      3.78     -0.65        8.08       23.75  7436.00  \n",
       "861  backhand      7.75     23.96        4.36        0.50  7436.80  \n",
       "862  forehand      5.21     -1.27        5.04       24.29  7438.08  \n",
       "863  forehand      2.23     25.19        6.04       -3.12  7439.20  \n",
       "864  backhand      7.52     -1.69        3.26       26.24  7440.60  "
      ]
     },
     "execution_count": 39,
     "metadata": {},
     "output_type": "execute_result"
    }
   ],
   "source": [
    "events.tail()"
   ]
  },
  {
   "cell_type": "code",
   "execution_count": 64,
   "metadata": {},
   "outputs": [],
   "source": [
    "points_plot = alt.Chart(location_data).mark_point().encode(\n",
    "    x = alt.X('hitter_y:Q', title = None,  scale=alt.Scale(domain=[-10, 34])),\n",
    "    y = alt.Y('hitter_x:Q', title = None , scale=alt.Scale(domain=[-4, 13.97])),\n",
    "    color = 'hitter'\n",
    ")"
   ]
  },
  {
   "cell_type": "code",
   "execution_count": 65,
   "metadata": {},
   "outputs": [
    {
     "data": {
      "application/vnd.vegalite.v4+json": {
       "$schema": "https://vega.github.io/schema/vega-lite/v4.0.2.json",
       "config": {
        "view": {
         "continuousHeight": 300,
         "continuousWidth": 400
        }
       },
       "datasets": {
        "data-4797c0e744b0a9ac817bc1253269f191": [
         {
          "order": 1,
          "x": 23.78,
          "y": 1.37
         },
         {
          "order": 2,
          "x": 0,
          "y": 1.37
         }
        ],
        "data-a3fc29de1d914850e8722e53400f185f": [
         {
          "x": 11.89,
          "y": 0
         },
         {
          "x": 11.89,
          "y": 10.97
         }
        ],
        "data-b2af84a32190dd8c28170de76900bcda": [
         {
          "order": 1,
          "x": 5.5,
          "y": 1.37
         },
         {
          "order": 2,
          "x": 5.5,
          "y": 9.6
         },
         {
          "order": 3,
          "x": 5.5,
          "y": 5.5
         },
         {
          "order": 4,
          "x": 18.385,
          "y": 5.5
         },
         {
          "order": 5,
          "x": 18.385,
          "y": 1.37
         },
         {
          "order": 6,
          "x": 18.385,
          "y": 9.6
         }
        ],
        "data-c7f556b3023ba28f4541479c1c31284f": [
         {
          "order": 1,
          "x": 23.78,
          "y": 9.6
         },
         {
          "order": 2,
          "x": 0,
          "y": 9.6
         }
        ],
        "data-ce27f3aa794d6d644dd2868ce4628bd6": [
         {
          "order": 1,
          "x": 0,
          "y": 0
         },
         {
          "order": 2,
          "x": 0,
          "y": 10.97
         },
         {
          "order": 3,
          "x": 23.78,
          "y": 10.97
         },
         {
          "order": 4,
          "x": 23.78,
          "y": 0
         },
         {
          "order": 5,
          "x": 0,
          "y": 0
         }
        ],
        "data-dd33db1ae2ba289717499e09d234da10": [
         {
          "hitter": "Djokovic",
          "hitter_x": 6.5,
          "hitter_y": -0.24
         },
         {
          "hitter": "Nadal",
          "hitter_x": 0.05,
          "hitter_y": 25.59
         },
         {
          "hitter": "Djokovic",
          "hitter_x": 1.42,
          "hitter_y": 2.33
         },
         {
          "hitter": "Djokovic",
          "hitter_x": 4.48,
          "hitter_y": -0.01
         },
         {
          "hitter": "Djokovic",
          "hitter_x": 4.48,
          "hitter_y": -0.37
         },
         {
          "hitter": "Nadal",
          "hitter_x": 7.4,
          "hitter_y": 24.79
         },
         {
          "hitter": "Djokovic",
          "hitter_x": 1.66,
          "hitter_y": 0.43
         },
         {
          "hitter": "Nadal",
          "hitter_x": 8.14,
          "hitter_y": 27.07
         },
         {
          "hitter": "Djokovic",
          "hitter_x": 6.44,
          "hitter_y": -0.27
         },
         {
          "hitter": "Djokovic",
          "hitter_x": 6.17,
          "hitter_y": -0.22
         },
         {
          "hitter": "Djokovic",
          "hitter_x": 6.43,
          "hitter_y": -0.1
         },
         {
          "hitter": "Djokovic",
          "hitter_x": 4.45,
          "hitter_y": -0.25
         },
         {
          "hitter": "Nadal",
          "hitter_x": 8.84,
          "hitter_y": 27.57
         },
         {
          "hitter": "Djokovic",
          "hitter_x": 1.57,
          "hitter_y": 1.37
         },
         {
          "hitter": "Nadal",
          "hitter_x": 8.96,
          "hitter_y": 26.45
         },
         {
          "hitter": "Djokovic",
          "hitter_x": 3.11,
          "hitter_y": -0.08
         },
         {
          "hitter": "Nadal",
          "hitter_x": 7.35,
          "hitter_y": 25.14
         },
         {
          "hitter": "Djokovic",
          "hitter_x": 3.25,
          "hitter_y": -0.08
         },
         {
          "hitter": "Nadal",
          "hitter_x": 8.38,
          "hitter_y": 28.74
         },
         {
          "hitter": "Djokovic",
          "hitter_x": 1.11,
          "hitter_y": -0.62
         },
         {
          "hitter": "Nadal",
          "hitter_x": 3.03,
          "hitter_y": 27.07
         },
         {
          "hitter": "Nadal",
          "hitter_x": 5.5,
          "hitter_y": -0.17
         },
         {
          "hitter": "Nadal",
          "hitter_x": 5.48,
          "hitter_y": -0.4
         },
         {
          "hitter": "Djokovic",
          "hitter_x": 3.82,
          "hitter_y": 24.33
         },
         {
          "hitter": "Nadal",
          "hitter_x": 5.49,
          "hitter_y": -0.32
         },
         {
          "hitter": "Djokovic",
          "hitter_x": 7.78,
          "hitter_y": 25.14
         },
         {
          "hitter": "Nadal",
          "hitter_x": 7.8,
          "hitter_y": -1.16
         },
         {
          "hitter": "Djokovic",
          "hitter_x": 1.54,
          "hitter_y": 25.97
         },
         {
          "hitter": "Nadal",
          "hitter_x": 2.72,
          "hitter_y": -1.83
         },
         {
          "hitter": "Nadal",
          "hitter_x": 4.22,
          "hitter_y": -0.27
         },
         {
          "hitter": "Djokovic",
          "hitter_x": 6.84,
          "hitter_y": 25.49
         },
         {
          "hitter": "Nadal",
          "hitter_x": 6.5,
          "hitter_y": -0.42
         },
         {
          "hitter": "Djokovic",
          "hitter_x": 2.05,
          "hitter_y": 28.08
         },
         {
          "hitter": "Nadal",
          "hitter_x": 2.53,
          "hitter_y": -1.53
         },
         {
          "hitter": "Djokovic",
          "hitter_x": 7.37,
          "hitter_y": 25.26
         },
         {
          "hitter": "Nadal",
          "hitter_x": 5.73,
          "hitter_y": -0.75
         },
         {
          "hitter": "Djokovic",
          "hitter_x": 2.42,
          "hitter_y": 26.82
         },
         {
          "hitter": "Nadal",
          "hitter_x": 7.85,
          "hitter_y": -1.95
         },
         {
          "hitter": "Djokovic",
          "hitter_x": 6.12,
          "hitter_y": 25.97
         },
         {
          "hitter": "Nadal",
          "hitter_x": 1.03,
          "hitter_y": -1.19
         },
         {
          "hitter": "Djokovic",
          "hitter_x": 9.54,
          "hitter_y": 24.91
         },
         {
          "hitter": "Nadal",
          "hitter_x": 5.21,
          "hitter_y": -0.4
         },
         {
          "hitter": "Djokovic",
          "hitter_x": -0.74,
          "hitter_y": 25.49
         },
         {
          "hitter": "Nadal",
          "hitter_x": 5.53,
          "hitter_y": -0.43
         },
         {
          "hitter": "Djokovic",
          "hitter_x": 4,
          "hitter_y": 25.84
         },
         {
          "hitter": "Nadal",
          "hitter_x": 4.07,
          "hitter_y": 4.39
         },
         {
          "hitter": "Nadal",
          "hitter_x": 4.87,
          "hitter_y": -2.58
         },
         {
          "hitter": "Nadal",
          "hitter_x": 4.1,
          "hitter_y": -0.02
         },
         {
          "hitter": "Djokovic",
          "hitter_x": 8.1,
          "hitter_y": 26.09
         },
         {
          "hitter": "Nadal",
          "hitter_x": 4.2,
          "hitter_y": 1.75
         },
         {
          "hitter": "Djokovic",
          "hitter_x": 3.53,
          "hitter_y": 27.57
         },
         {
          "hitter": "Nadal",
          "hitter_x": 6.44,
          "hitter_y": -0.87
         },
         {
          "hitter": "Djokovic",
          "hitter_x": 5.28,
          "hitter_y": 25.26
         },
         {
          "hitter": "Nadal",
          "hitter_x": 4.11,
          "hitter_y": -0.68
         },
         {
          "hitter": "Djokovic",
          "hitter_x": 3.72,
          "hitter_y": 26.21
         },
         {
          "hitter": "Nadal",
          "hitter_x": 7.6,
          "hitter_y": -1.68
         },
         {
          "hitter": "Djokovic",
          "hitter_x": 1.94,
          "hitter_y": 25.02
         },
         {
          "hitter": "Nadal",
          "hitter_x": 6.97,
          "hitter_y": -1.74
         },
         {
          "hitter": "Djokovic",
          "hitter_x": 7.71,
          "hitter_y": 25.84
         },
         {
          "hitter": "Nadal",
          "hitter_x": 7.03,
          "hitter_y": -0.55
         },
         {
          "hitter": "Nadal",
          "hitter_x": 5.45,
          "hitter_y": -0.14
         },
         {
          "hitter": "Djokovic",
          "hitter_x": -0.69,
          "hitter_y": 27.45
         },
         {
          "hitter": "Nadal",
          "hitter_x": 9.3,
          "hitter_y": 2.77
         },
         {
          "hitter": "Djokovic",
          "hitter_x": 3.52,
          "hitter_y": 21.85
         },
         {
          "hitter": "Nadal",
          "hitter_x": 7.38,
          "hitter_y": -2.53
         },
         {
          "hitter": "Djokovic",
          "hitter_x": 5.43,
          "hitter_y": 28.35
         },
         {
          "hitter": "Djokovic",
          "hitter_x": 5.45,
          "hitter_y": 27.57
         },
         {
          "hitter": "Nadal",
          "hitter_x": 2.7,
          "hitter_y": -0.29
         },
         {
          "hitter": "Djokovic",
          "hitter_x": 5.04,
          "hitter_y": 29.82
         },
         {
          "hitter": "Nadal",
          "hitter_x": 2.51,
          "hitter_y": 0.97
         },
         {
          "hitter": "Djokovic",
          "hitter_x": 2.77,
          "hitter_y": 24.11
         },
         {
          "hitter": "Nadal",
          "hitter_x": 7.02,
          "hitter_y": -1.47
         },
         {
          "hitter": "Djokovic",
          "hitter_x": 1.43,
          "hitter_y": 23.33
         },
         {
          "hitter": "Nadal",
          "hitter_x": 9.2,
          "hitter_y": -2.19
         },
         {
          "hitter": "Djokovic",
          "hitter_x": 4.71,
          "hitter_y": 21.65
         },
         {
          "hitter": "Nadal",
          "hitter_x": 7.15,
          "hitter_y": -0.22
         },
         {
          "hitter": "Djokovic",
          "hitter_x": 5.32,
          "hitter_y": 27.19
         },
         {
          "hitter": "Nadal",
          "hitter_x": 3.2,
          "hitter_y": 20.22
         },
         {
          "hitter": "Djokovic",
          "hitter_x": 7.24,
          "hitter_y": -2.62
         },
         {
          "hitter": "Nadal",
          "hitter_x": -0.12,
          "hitter_y": 20.16
         },
         {
          "hitter": "Djokovic",
          "hitter_x": 8.24,
          "hitter_y": -2.87
         },
         {
          "hitter": "Nadal",
          "hitter_x": 6.2,
          "hitter_y": 24.68
         },
         {
          "hitter": "Djokovic",
          "hitter_x": 0.61,
          "hitter_y": 0.68
         },
         {
          "hitter": "Nadal",
          "hitter_x": 2.97,
          "hitter_y": 28.47
         },
         {
          "hitter": "Djokovic",
          "hitter_x": 1.63,
          "hitter_y": -1.16
         },
         {
          "hitter": "Nadal",
          "hitter_x": 2.59,
          "hitter_y": 22.17
         },
         {
          "hitter": "Djokovic",
          "hitter_x": 7.85,
          "hitter_y": -1.22
         },
         {
          "hitter": "Nadal",
          "hitter_x": 2.94,
          "hitter_y": 17.43
         },
         {
          "hitter": "Djokovic",
          "hitter_x": 3.23,
          "hitter_y": 7.11
         },
         {
          "hitter": "Nadal",
          "hitter_x": 6.34,
          "hitter_y": 13.47
         },
         {
          "hitter": "Nadal",
          "hitter_x": 5.14,
          "hitter_y": 24.45
         },
         {
          "hitter": "Djokovic",
          "hitter_x": 0.97,
          "hitter_y": 0.61
         },
         {
          "hitter": "Nadal",
          "hitter_x": 3,
          "hitter_y": 24
         },
         {
          "hitter": "Djokovic",
          "hitter_x": 5.18,
          "hitter_y": -1.25
         },
         {
          "hitter": "Nadal",
          "hitter_x": 3.01,
          "hitter_y": 24.56
         },
         {
          "hitter": "Djokovic",
          "hitter_x": 8.24,
          "hitter_y": -1.19
         },
         {
          "hitter": "Nadal",
          "hitter_x": -0.01,
          "hitter_y": 22.69
         },
         {
          "hitter": "Djokovic",
          "hitter_x": 4.07,
          "hitter_y": -0.08
         },
         {
          "hitter": "Nadal",
          "hitter_x": 5.24,
          "hitter_y": 24.68
         },
         {
          "hitter": "Djokovic",
          "hitter_x": -1.1,
          "hitter_y": 1.22
         },
         {
          "hitter": "Nadal",
          "hitter_x": 9.74,
          "hitter_y": 23.77
         },
         {
          "hitter": "Nadal",
          "hitter_x": 3.96,
          "hitter_y": 24.11
         },
         {
          "hitter": "Djokovic",
          "hitter_x": 5.8,
          "hitter_y": -0.97
         },
         {
          "hitter": "Nadal",
          "hitter_x": 1.07,
          "hitter_y": 23.77
         },
         {
          "hitter": "Djokovic",
          "hitter_x": 9.31,
          "hitter_y": -2.16
         },
         {
          "hitter": "Nadal",
          "hitter_x": 3.86,
          "hitter_y": 25.49
         },
         {
          "hitter": "Djokovic",
          "hitter_x": 1.49,
          "hitter_y": -0.02
         },
         {
          "hitter": "Nadal",
          "hitter_x": 6.02,
          "hitter_y": 26.57
         },
         {
          "hitter": "Nadal",
          "hitter_x": 6.11,
          "hitter_y": 25.49
         },
         {
          "hitter": "Nadal",
          "hitter_x": 6.09,
          "hitter_y": 24.11
         },
         {
          "hitter": "Djokovic",
          "hitter_x": 0.76,
          "hitter_y": -0.02
         },
         {
          "hitter": "Nadal",
          "hitter_x": 3.62,
          "hitter_y": 24.79
         },
         {
          "hitter": "Djokovic",
          "hitter_x": 8.98,
          "hitter_y": -1.95
         },
         {
          "hitter": "Nadal",
          "hitter_x": 5.72,
          "hitter_y": 25.73
         },
         {
          "hitter": "Djokovic",
          "hitter_x": -1.23,
          "hitter_y": 1.04
         },
         {
          "hitter": "Nadal",
          "hitter_x": 6.25,
          "hitter_y": 23.89
         },
         {
          "hitter": "Djokovic",
          "hitter_x": 6.37,
          "hitter_y": -1.56
         },
         {
          "hitter": "Djokovic",
          "hitter_x": 5.97,
          "hitter_y": 1.78
         },
         {
          "hitter": "Djokovic",
          "hitter_x": 4.22,
          "hitter_y": 0.09
         },
         {
          "hitter": "Nadal",
          "hitter_x": 4.75,
          "hitter_y": 27.7
         },
         {
          "hitter": "Djokovic",
          "hitter_x": 2.94,
          "hitter_y": 1.11
         },
         {
          "hitter": "Nadal",
          "hitter_x": 7.21,
          "hitter_y": 29.27
         },
         {
          "hitter": "Djokovic",
          "hitter_x": 1.83,
          "hitter_y": 0.09
         },
         {
          "hitter": "Nadal",
          "hitter_x": 2.75,
          "hitter_y": 26.09
         },
         {
          "hitter": "Djokovic",
          "hitter_x": 5.88,
          "hitter_y": 0.09
         },
         {
          "hitter": "Djokovic",
          "hitter_x": 4.02,
          "hitter_y": -0.15
         },
         {
          "hitter": "Nadal",
          "hitter_x": 8.03,
          "hitter_y": 26.82
         },
         {
          "hitter": "Djokovic",
          "hitter_x": 1.95,
          "hitter_y": 1.52
         },
         {
          "hitter": "Nadal",
          "hitter_x": 7.98,
          "hitter_y": 26.82
         },
         {
          "hitter": "Djokovic",
          "hitter_x": 2.57,
          "hitter_y": 1.07
         },
         {
          "hitter": "Nadal",
          "hitter_x": 5.45,
          "hitter_y": -0.58
         },
         {
          "hitter": "Nadal",
          "hitter_x": 5.46,
          "hitter_y": -0.49
         },
         {
          "hitter": "Djokovic",
          "hitter_x": 2.24,
          "hitter_y": 24.45
         },
         {
          "hitter": "Nadal",
          "hitter_x": 4.6,
          "hitter_y": -0.94
         },
         {
          "hitter": "Nadal",
          "hitter_x": 3.91,
          "hitter_y": -0.78
         },
         {
          "hitter": "Djokovic",
          "hitter_x": 11.36,
          "hitter_y": 24.79
         },
         {
          "hitter": "Nadal",
          "hitter_x": 5.45,
          "hitter_y": -0.91
         },
         {
          "hitter": "Djokovic",
          "hitter_x": 4.06,
          "hitter_y": 24.45
         },
         {
          "hitter": "Nadal",
          "hitter_x": 6.96,
          "hitter_y": 8.13
         },
         {
          "hitter": "Nadal",
          "hitter_x": 5.26,
          "hitter_y": -2.84
         },
         {
          "hitter": "Nadal",
          "hitter_x": 3.96,
          "hitter_y": -0.58
         },
         {
          "hitter": "Djokovic",
          "hitter_x": 8.11,
          "hitter_y": 24.22
         },
         {
          "hitter": "Nadal",
          "hitter_x": 1.67,
          "hitter_y": -0.05
         },
         {
          "hitter": "Djokovic",
          "hitter_x": 3.7,
          "hitter_y": 25.49
         },
         {
          "hitter": "Nadal",
          "hitter_x": 3.76,
          "hitter_y": -0.71
         },
         {
          "hitter": "Djokovic",
          "hitter_x": 7.48,
          "hitter_y": 25.37
         },
         {
          "hitter": "Nadal",
          "hitter_x": 2.98,
          "hitter_y": -2.62
         },
         {
          "hitter": "Djokovic",
          "hitter_x": 8.23,
          "hitter_y": 24.56
         },
         {
          "hitter": "Nadal",
          "hitter_x": 0.86,
          "hitter_y": -0.94
         },
         {
          "hitter": "Djokovic",
          "hitter_x": 8.3,
          "hitter_y": 22.17
         },
         {
          "hitter": "Nadal",
          "hitter_x": 0.73,
          "hitter_y": -1.06
         },
         {
          "hitter": "Nadal",
          "hitter_x": 5.5,
          "hitter_y": -0.75
         },
         {
          "hitter": "Nadal",
          "hitter_x": 5.44,
          "hitter_y": -0.55
         },
         {
          "hitter": "Djokovic",
          "hitter_x": 2.65,
          "hitter_y": 24
         },
         {
          "hitter": "Nadal",
          "hitter_x": 6.01,
          "hitter_y": 8.52
         },
         {
          "hitter": "Djokovic",
          "hitter_x": 7.14,
          "hitter_y": 19.69
         },
         {
          "hitter": "Nadal",
          "hitter_x": 7.04,
          "hitter_y": -0.32
         },
         {
          "hitter": "Djokovic",
          "hitter_x": 3.4,
          "hitter_y": 16.67
         },
         {
          "hitter": "Nadal",
          "hitter_x": 4.05,
          "hitter_y": -0.65
         },
         {
          "hitter": "Djokovic",
          "hitter_x": 9.5,
          "hitter_y": 25.37
         },
         {
          "hitter": "Djokovic",
          "hitter_x": 3.48,
          "hitter_y": 22.9
         },
         {
          "hitter": "Nadal",
          "hitter_x": 10.69,
          "hitter_y": -1.65
         },
         {
          "hitter": "Djokovic",
          "hitter_x": 1.8,
          "hitter_y": 22.27
         },
         {
          "hitter": "Nadal",
          "hitter_x": 3.34,
          "hitter_y": -2.5
         },
         {
          "hitter": "Djokovic",
          "hitter_x": 8.26,
          "hitter_y": 21.55
         },
         {
          "hitter": "Nadal",
          "hitter_x": 5.74,
          "hitter_y": 7.53
         },
         {
          "hitter": "Djokovic",
          "hitter_x": 6.94,
          "hitter_y": 16.51
         },
         {
          "hitter": "Nadal",
          "hitter_x": 7.06,
          "hitter_y": 8.46
         },
         {
          "hitter": "Djokovic",
          "hitter_x": 4.85,
          "hitter_y": 26.57
         },
         {
          "hitter": "Djokovic",
          "hitter_x": 5.03,
          "hitter_y": 27.95
         },
         {
          "hitter": "Nadal",
          "hitter_x": 1.54,
          "hitter_y": -0.39
         },
         {
          "hitter": "Djokovic",
          "hitter_x": 6.65,
          "hitter_y": 28.35
         },
         {
          "hitter": "Nadal",
          "hitter_x": 2.01,
          "hitter_y": 0.78
         },
         {
          "hitter": "Djokovic",
          "hitter_x": 7.44,
          "hitter_y": 27.07
         },
         {
          "hitter": "Nadal",
          "hitter_x": 2.98,
          "hitter_y": 0.93
         },
         {
          "hitter": "Djokovic",
          "hitter_x": 2.92,
          "hitter_y": 28.47
         },
         {
          "hitter": "Nadal",
          "hitter_x": 7.22,
          "hitter_y": 0.26
         },
         {
          "hitter": "Djokovic",
          "hitter_x": 4.51,
          "hitter_y": 25.73
         },
         {
          "hitter": "Nadal",
          "hitter_x": 2.48,
          "hitter_y": -1.47
         },
         {
          "hitter": "Djokovic",
          "hitter_x": 7.24,
          "hitter_y": 26.33
         },
         {
          "hitter": "Nadal",
          "hitter_x": 8.12,
          "hitter_y": -1.28
         },
         {
          "hitter": "Djokovic",
          "hitter_x": 6.25,
          "hitter_y": 24.68
         },
         {
          "hitter": "Nadal",
          "hitter_x": 1.3,
          "hitter_y": -1.53
         },
         {
          "hitter": "Djokovic",
          "hitter_x": 2.73,
          "hitter_y": 25.26
         },
         {
          "hitter": "Djokovic",
          "hitter_x": 2.55,
          "hitter_y": 24.33
         },
         {
          "hitter": "Nadal",
          "hitter_x": 7.02,
          "hitter_y": -0.55
         },
         {
          "hitter": "Djokovic",
          "hitter_x": 5.62,
          "hitter_y": 23.12
         },
         {
          "hitter": "Nadal",
          "hitter_x": 2.18,
          "hitter_y": -0.22
         },
         {
          "hitter": "Djokovic",
          "hitter_x": 5.15,
          "hitter_y": 27.32
         },
         {
          "hitter": "Nadal",
          "hitter_x": 0.71,
          "hitter_y": 0.12
         },
         {
          "hitter": "Djokovic",
          "hitter_x": 6.34,
          "hitter_y": 25.61
         },
         {
          "hitter": "Nadal",
          "hitter_x": 4.04,
          "hitter_y": 24.33
         },
         {
          "hitter": "Nadal",
          "hitter_x": 4.01,
          "hitter_y": 24
         },
         {
          "hitter": "Djokovic",
          "hitter_x": 7.3,
          "hitter_y": 0.15
         },
         {
          "hitter": "Nadal",
          "hitter_x": 2.02,
          "hitter_y": 24
         },
         {
          "hitter": "Djokovic",
          "hitter_x": 6.37,
          "hitter_y": -0.78
         },
         {
          "hitter": "Nadal",
          "hitter_x": 7.34,
          "hitter_y": 26.69
         },
         {
          "hitter": "Djokovic",
          "hitter_x": -1.25,
          "hitter_y": 0.05
         },
         {
          "hitter": "Nadal",
          "hitter_x": 5.58,
          "hitter_y": 22.37
         },
         {
          "hitter": "Nadal",
          "hitter_x": 5.34,
          "hitter_y": 24.79
         },
         {
          "hitter": "Nadal",
          "hitter_x": 5.45,
          "hitter_y": 25.26
         },
         {
          "hitter": "Nadal",
          "hitter_x": 5.59,
          "hitter_y": 26.21
         },
         {
          "hitter": "Djokovic",
          "hitter_x": 0.31,
          "hitter_y": 1
         },
         {
          "hitter": "Nadal",
          "hitter_x": 3.17,
          "hitter_y": 25.14
         },
         {
          "hitter": "Djokovic",
          "hitter_x": 7.86,
          "hitter_y": 0.97
         },
         {
          "hitter": "Nadal",
          "hitter_x": 6.69,
          "hitter_y": 29
         },
         {
          "hitter": "Djokovic",
          "hitter_x": 1.88,
          "hitter_y": 0.43
         },
         {
          "hitter": "Nadal",
          "hitter_x": 2.51,
          "hitter_y": 27.07
         },
         {
          "hitter": "Djokovic",
          "hitter_x": 8.12,
          "hitter_y": -0.29
         },
         {
          "hitter": "Nadal",
          "hitter_x": 2.19,
          "hitter_y": 27.07
         },
         {
          "hitter": "Djokovic",
          "hitter_x": 7.69,
          "hitter_y": -0.58
         },
         {
          "hitter": "Nadal",
          "hitter_x": -0.3,
          "hitter_y": 26.33
         },
         {
          "hitter": "Djokovic",
          "hitter_x": 3.54,
          "hitter_y": -0.45
         },
         {
          "hitter": "Nadal",
          "hitter_x": 3.22,
          "hitter_y": 26.45
         },
         {
          "hitter": "Djokovic",
          "hitter_x": 1.02,
          "hitter_y": 3.52
         },
         {
          "hitter": "Nadal",
          "hitter_x": 2.76,
          "hitter_y": 26.82
         },
         {
          "hitter": "Djokovic",
          "hitter_x": 7.69,
          "hitter_y": 1.25
         },
         {
          "hitter": "Nadal",
          "hitter_x": 4.04,
          "hitter_y": 25.02
         },
         {
          "hitter": "Nadal",
          "hitter_x": 4.16,
          "hitter_y": 24.22
         },
         {
          "hitter": "Djokovic",
          "hitter_x": 5.52,
          "hitter_y": 0.09
         },
         {
          "hitter": "Nadal",
          "hitter_x": 3.21,
          "hitter_y": 24.79
         },
         {
          "hitter": "Djokovic",
          "hitter_x": 6.87,
          "hitter_y": -1.5
         },
         {
          "hitter": "Nadal",
          "hitter_x": 5.32,
          "hitter_y": 23.89
         },
         {
          "hitter": "Djokovic",
          "hitter_x": 2.93,
          "hitter_y": 0.19
         },
         {
          "hitter": "Nadal",
          "hitter_x": 2.72,
          "hitter_y": 24.33
         },
         {
          "hitter": "Djokovic",
          "hitter_x": 6.02,
          "hitter_y": -0.55
         },
         {
          "hitter": "Djokovic",
          "hitter_x": 6.04,
          "hitter_y": -0.75
         },
         {
          "hitter": "Nadal",
          "hitter_x": -0.52,
          "hitter_y": 24.33
         },
         {
          "hitter": "Djokovic",
          "hitter_x": 5.77,
          "hitter_y": -0.68
         },
         {
          "hitter": "Nadal",
          "hitter_x": 5.96,
          "hitter_y": 26.69
         },
         {
          "hitter": "Djokovic",
          "hitter_x": 2.25,
          "hitter_y": -0.39
         },
         {
          "hitter": "Nadal",
          "hitter_x": 7.2,
          "hitter_y": 26.21
         },
         {
          "hitter": "Djokovic",
          "hitter_x": 1.92,
          "hitter_y": -0.58
         },
         {
          "hitter": "Nadal",
          "hitter_x": 7.48,
          "hitter_y": 25.97
         },
         {
          "hitter": "Djokovic",
          "hitter_x": 5.92,
          "hitter_y": -1.71
         },
         {
          "hitter": "Nadal",
          "hitter_x": 0.53,
          "hitter_y": 25.49
         },
         {
          "hitter": "Djokovic",
          "hitter_x": 2.98,
          "hitter_y": 0.09
         },
         {
          "hitter": "Djokovic",
          "hitter_x": 4.35,
          "hitter_y": -0.45
         },
         {
          "hitter": "Nadal",
          "hitter_x": 5.02,
          "hitter_y": 26.69
         },
         {
          "hitter": "Djokovic",
          "hitter_x": 0.63,
          "hitter_y": 1.18
         },
         {
          "hitter": "Nadal",
          "hitter_x": 7.49,
          "hitter_y": 25.73
         },
         {
          "hitter": "Djokovic",
          "hitter_x": 6.53,
          "hitter_y": -1.28
         },
         {
          "hitter": "Nadal",
          "hitter_x": 2.9,
          "hitter_y": 24.22
         },
         {
          "hitter": "Djokovic",
          "hitter_x": 6.17,
          "hitter_y": -0.32
         },
         {
          "hitter": "Djokovic",
          "hitter_x": 6.12,
          "hitter_y": -0.39
         },
         {
          "hitter": "Nadal",
          "hitter_x": -0.31,
          "hitter_y": 24.79
         },
         {
          "hitter": "Djokovic",
          "hitter_x": 6.29,
          "hitter_y": -0.62
         },
         {
          "hitter": "Nadal",
          "hitter_x": 6.02,
          "hitter_y": 26.33
         },
         {
          "hitter": "Djokovic",
          "hitter_x": 1.77,
          "hitter_y": -0.84
         },
         {
          "hitter": "Nadal",
          "hitter_x": 4.26,
          "hitter_y": 24.45
         },
         {
          "hitter": "Djokovic",
          "hitter_x": 6.38,
          "hitter_y": -2.5
         },
         {
          "hitter": "Nadal",
          "hitter_x": 0.24,
          "hitter_y": 25.97
         },
         {
          "hitter": "Djokovic",
          "hitter_x": 3.71,
          "hitter_y": -2.01
         },
         {
          "hitter": "Nadal",
          "hitter_x": 6.16,
          "hitter_y": 26.33
         },
         {
          "hitter": "Djokovic",
          "hitter_x": 2.88,
          "hitter_y": 0.68
         },
         {
          "hitter": "Djokovic",
          "hitter_x": 4.36,
          "hitter_y": -0.35
         },
         {
          "hitter": "Nadal",
          "hitter_x": 5.51,
          "hitter_y": 27.19
         },
         {
          "hitter": "Djokovic",
          "hitter_x": 3.62,
          "hitter_y": 1.56
         },
         {
          "hitter": "Nadal",
          "hitter_x": 0.93,
          "hitter_y": 27.32
         },
         {
          "hitter": "Djokovic",
          "hitter_x": 6.35,
          "hitter_y": -0.78
         },
         {
          "hitter": "Nadal",
          "hitter_x": 6.8,
          "hitter_y": 26.33
         },
         {
          "hitter": "Djokovic",
          "hitter_x": 1.39,
          "hitter_y": 1
         },
         {
          "hitter": "Nadal",
          "hitter_x": 1.42,
          "hitter_y": 24
         },
         {
          "hitter": "Djokovic",
          "hitter_x": 8.21,
          "hitter_y": -1.25
         },
         {
          "hitter": "Nadal",
          "hitter_x": 5.03,
          "hitter_y": 25.26
         },
         {
          "hitter": "Djokovic",
          "hitter_x": 2.76,
          "hitter_y": -2.07
         },
         {
          "hitter": "Nadal",
          "hitter_x": 2.79,
          "hitter_y": 22.9
         },
         {
          "hitter": "Djokovic",
          "hitter_x": 8.68,
          "hitter_y": -1.89
         },
         {
          "hitter": "Nadal",
          "hitter_x": 1.27,
          "hitter_y": 18.67
         },
         {
          "hitter": "Djokovic",
          "hitter_x": 7.37,
          "hitter_y": -1
         },
         {
          "hitter": "Nadal",
          "hitter_x": 6.04,
          "hitter_y": 22.58
         },
         {
          "hitter": "Djokovic",
          "hitter_x": 2.34,
          "hitter_y": 0.71
         },
         {
          "hitter": "Nadal",
          "hitter_x": 8.14,
          "hitter_y": 25.73
         },
         {
          "hitter": "Djokovic",
          "hitter_x": 1.84,
          "hitter_y": 0.09
         },
         {
          "hitter": "Nadal",
          "hitter_x": 5.72,
          "hitter_y": 25.26
         },
         {
          "hitter": "Djokovic",
          "hitter_x": 5.48,
          "hitter_y": -0.97
         },
         {
          "hitter": "Nadal",
          "hitter_x": 2.6,
          "hitter_y": 25.84
         },
         {
          "hitter": "Djokovic",
          "hitter_x": 6.01,
          "hitter_y": -0.39
         },
         {
          "hitter": "Nadal",
          "hitter_x": -2.15,
          "hitter_y": 25.37
         },
         {
          "hitter": "Djokovic",
          "hitter_x": 8.71,
          "hitter_y": 1.18
         },
         {
          "hitter": "Nadal",
          "hitter_x": 4.95,
          "hitter_y": 27.07
         },
         {
          "hitter": "Nadal",
          "hitter_x": 5.75,
          "hitter_y": -1
         },
         {
          "hitter": "Djokovic",
          "hitter_x": 0.54,
          "hitter_y": 23.9
         },
         {
          "hitter": "Nadal",
          "hitter_x": 7.94,
          "hitter_y": 0.68
         },
         {
          "hitter": "Djokovic",
          "hitter_x": 8.6,
          "hitter_y": 25.97
         },
         {
          "hitter": "Nadal",
          "hitter_x": 3.2,
          "hitter_y": 4.53
         },
         {
          "hitter": "Nadal",
          "hitter_x": 4.12,
          "hitter_y": -0.29
         },
         {
          "hitter": "Djokovic",
          "hitter_x": 11.03,
          "hitter_y": 26.21
         },
         {
          "hitter": "Nadal",
          "hitter_x": 6.13,
          "hitter_y": 3.91
         },
         {
          "hitter": "Nadal",
          "hitter_x": 5.46,
          "hitter_y": -0.39
         },
         {
          "hitter": "Djokovic",
          "hitter_x": 4.03,
          "hitter_y": 26.45
         },
         {
          "hitter": "Nadal",
          "hitter_x": 4.03,
          "hitter_y": -0.49
         },
         {
          "hitter": "Nadal",
          "hitter_x": 4.02,
          "hitter_y": -0.35
         },
         {
          "hitter": "Nadal",
          "hitter_x": 4.03,
          "hitter_y": -0.42
         },
         {
          "hitter": "Djokovic",
          "hitter_x": 8.69,
          "hitter_y": 24.45
         },
         {
          "hitter": "Nadal",
          "hitter_x": 2.37,
          "hitter_y": 1.59
         },
         {
          "hitter": "Djokovic",
          "hitter_x": 9.57,
          "hitter_y": 27.57
         },
         {
          "hitter": "Nadal",
          "hitter_x": 5.67,
          "hitter_y": -0.62
         },
         {
          "hitter": "Nadal",
          "hitter_x": 4.11,
          "hitter_y": -0.71
         },
         {
          "hitter": "Nadal",
          "hitter_x": 4.08,
          "hitter_y": -0.78
         },
         {
          "hitter": "Djokovic",
          "hitter_x": 9.82,
          "hitter_y": 22.37
         },
         {
          "hitter": "Nadal",
          "hitter_x": 3.52,
          "hitter_y": 0.57
         },
         {
          "hitter": "Djokovic",
          "hitter_x": 5.73,
          "hitter_y": -0.81
         },
         {
          "hitter": "Djokovic",
          "hitter_x": 6.36,
          "hitter_y": -0.65
         },
         {
          "hitter": "Nadal",
          "hitter_x": 0.23,
          "hitter_y": 25.61
         },
         {
          "hitter": "Djokovic",
          "hitter_x": 4.15,
          "hitter_y": 0.71
         },
         {
          "hitter": "Nadal",
          "hitter_x": 8.93,
          "hitter_y": 29.41
         },
         {
          "hitter": "Djokovic",
          "hitter_x": 4.2,
          "hitter_y": -0.81
         },
         {
          "hitter": "Djokovic",
          "hitter_x": 4.28,
          "hitter_y": -0.87
         },
         {
          "hitter": "Nadal",
          "hitter_x": 6.44,
          "hitter_y": 27.7
         },
         {
          "hitter": "Djokovic",
          "hitter_x": 2.52,
          "hitter_y": -1.59
         },
         {
          "hitter": "Nadal",
          "hitter_x": 7.73,
          "hitter_y": 26.33
         },
         {
          "hitter": "Djokovic",
          "hitter_x": 6.14,
          "hitter_y": -0.97
         },
         {
          "hitter": "Djokovic",
          "hitter_x": 4.42,
          "hitter_y": -0.91
         },
         {
          "hitter": "Nadal",
          "hitter_x": 5.15,
          "hitter_y": 25.97
         },
         {
          "hitter": "Djokovic",
          "hitter_x": 4.38,
          "hitter_y": 1.94
         },
         {
          "hitter": "Nadal",
          "hitter_x": 0.23,
          "hitter_y": 25.61
         },
         {
          "hitter": "Nadal",
          "hitter_x": 3.74,
          "hitter_y": 23.01
         },
         {
          "hitter": "Djokovic",
          "hitter_x": 6.02,
          "hitter_y": -1.16
         },
         {
          "hitter": "Nadal",
          "hitter_x": 6,
          "hitter_y": 14.01
         },
         {
          "hitter": "Djokovic",
          "hitter_x": 5.92,
          "hitter_y": 0.19
         },
         {
          "hitter": "Nadal",
          "hitter_x": 2.58,
          "hitter_y": 12.65
         },
         {
          "hitter": "Djokovic",
          "hitter_x": 3.19,
          "hitter_y": -0.68
         },
         {
          "hitter": "Nadal",
          "hitter_x": 0.22,
          "hitter_y": 14.01
         },
         {
          "hitter": "Nadal",
          "hitter_x": 3.89,
          "hitter_y": 23.89
         },
         {
          "hitter": "Djokovic",
          "hitter_x": 8.53,
          "hitter_y": -1.53
         },
         {
          "hitter": "Nadal",
          "hitter_x": 3.92,
          "hitter_y": 22.06
         },
         {
          "hitter": "Djokovic",
          "hitter_x": 1.5,
          "hitter_y": -1.25
         },
         {
          "hitter": "Nadal",
          "hitter_x": 8.42,
          "hitter_y": 26.57
         },
         {
          "hitter": "Djokovic",
          "hitter_x": 2.55,
          "hitter_y": -0.81
         },
         {
          "hitter": "Nadal",
          "hitter_x": 3.93,
          "hitter_y": 26.82
         },
         {
          "hitter": "Djokovic",
          "hitter_x": 7.09,
          "hitter_y": -1.32
         },
         {
          "hitter": "Nadal",
          "hitter_x": 5.43,
          "hitter_y": 27.19
         },
         {
          "hitter": "Djokovic",
          "hitter_x": 1.78,
          "hitter_y": -0.35
         },
         {
          "hitter": "Nadal",
          "hitter_x": 8.23,
          "hitter_y": 27.57
         },
         {
          "hitter": "Djokovic",
          "hitter_x": 1.49,
          "hitter_y": -0.62
         },
         {
          "hitter": "Nadal",
          "hitter_x": 8.49,
          "hitter_y": 27.95
         },
         {
          "hitter": "Djokovic",
          "hitter_x": 7.15,
          "hitter_y": -1.28
         },
         {
          "hitter": "Nadal",
          "hitter_x": 0.87,
          "hitter_y": 24
         },
         {
          "hitter": "Djokovic",
          "hitter_x": 1.89,
          "hitter_y": -1.5
         },
         {
          "hitter": "Nadal",
          "hitter_x": 3.1,
          "hitter_y": 21.65
         },
         {
          "hitter": "Djokovic",
          "hitter_x": 1.79,
          "hitter_y": 6.14
         },
         {
          "hitter": "Nadal",
          "hitter_x": 4.43,
          "hitter_y": 19.97
         },
         {
          "hitter": "Nadal",
          "hitter_x": 5.92,
          "hitter_y": 24.56
         },
         {
          "hitter": "Nadal",
          "hitter_x": 6.18,
          "hitter_y": 24.56
         },
         {
          "hitter": "Djokovic",
          "hitter_x": 1.62,
          "hitter_y": 0.5
         },
         {
          "hitter": "Nadal",
          "hitter_x": 6.12,
          "hitter_y": 24.56
         },
         {
          "hitter": "Nadal",
          "hitter_x": 3.81,
          "hitter_y": 23.23
         },
         {
          "hitter": "Nadal",
          "hitter_x": 3.72,
          "hitter_y": 24
         },
         {
          "hitter": "Djokovic",
          "hitter_x": 7.6,
          "hitter_y": -0.45
         },
         {
          "hitter": "Nadal",
          "hitter_x": 2.66,
          "hitter_y": 22.37
         },
         {
          "hitter": "Djokovic",
          "hitter_x": 1.95,
          "hitter_y": -1.03
         },
         {
          "hitter": "Nadal",
          "hitter_x": 9.12,
          "hitter_y": 27.95
         },
         {
          "hitter": "Djokovic",
          "hitter_x": 1.97,
          "hitter_y": -0.12
         },
         {
          "hitter": "Nadal",
          "hitter_x": 4.17,
          "hitter_y": 26.57
         },
         {
          "hitter": "Nadal",
          "hitter_x": 6.02,
          "hitter_y": 24.68
         },
         {
          "hitter": "Djokovic",
          "hitter_x": -1.78,
          "hitter_y": 1.71
         },
         {
          "hitter": "Djokovic",
          "hitter_x": 2.69,
          "hitter_y": 24.11
         },
         {
          "hitter": "Djokovic",
          "hitter_x": 2.75,
          "hitter_y": 24.11
         },
         {
          "hitter": "Nadal",
          "hitter_x": 8.21,
          "hitter_y": -2.22
         },
         {
          "hitter": "Djokovic",
          "hitter_x": 6.79,
          "hitter_y": 25.84
         },
         {
          "hitter": "Djokovic",
          "hitter_x": 6.28,
          "hitter_y": 25.84
         },
         {
          "hitter": "Nadal",
          "hitter_x": 1.2,
          "hitter_y": 1.29
         },
         {
          "hitter": "Djokovic",
          "hitter_x": 7.99,
          "hitter_y": 24.33
         },
         {
          "hitter": "Nadal",
          "hitter_x": 5.77,
          "hitter_y": 1.22
         },
         {
          "hitter": "Djokovic",
          "hitter_x": 5.34,
          "hitter_y": 26.94
         },
         {
          "hitter": "Djokovic",
          "hitter_x": 2.97,
          "hitter_y": 23.55
         },
         {
          "hitter": "Nadal",
          "hitter_x": 6.23,
          "hitter_y": -2.13
         },
         {
          "hitter": "Djokovic",
          "hitter_x": 5.68,
          "hitter_y": 27.45
         },
         {
          "hitter": "Nadal",
          "hitter_x": 4.77,
          "hitter_y": -0.39
         },
         {
          "hitter": "Djokovic",
          "hitter_x": 5.66,
          "hitter_y": 27.32
         },
         {
          "hitter": "Nadal",
          "hitter_x": 1.93,
          "hitter_y": 0.71
         },
         {
          "hitter": "Djokovic",
          "hitter_x": 4.18,
          "hitter_y": 30.37
         },
         {
          "hitter": "Nadal",
          "hitter_x": 5.01,
          "hitter_y": 3.1
         },
         {
          "hitter": "Djokovic",
          "hitter_x": 2.49,
          "hitter_y": 24
         },
         {
          "hitter": "Nadal",
          "hitter_x": 5.51,
          "hitter_y": -0.39
         },
         {
          "hitter": "Nadal",
          "hitter_x": 5.57,
          "hitter_y": -0.52
         },
         {
          "hitter": "Djokovic",
          "hitter_x": 3.22,
          "hitter_y": 25.37
         },
         {
          "hitter": "Nadal",
          "hitter_x": 6.91,
          "hitter_y": 0.33
         },
         {
          "hitter": "Djokovic",
          "hitter_x": 6.22,
          "hitter_y": 24.45
         },
         {
          "hitter": "Nadal",
          "hitter_x": 2.73,
          "hitter_y": -1.71
         },
         {
          "hitter": "Djokovic",
          "hitter_x": 7.77,
          "hitter_y": 26.21
         },
         {
          "hitter": "Nadal",
          "hitter_x": 2.69,
          "hitter_y": -0.84
         },
         {
          "hitter": "Djokovic",
          "hitter_x": 4.93,
          "hitter_y": 27.45
         },
         {
          "hitter": "Nadal",
          "hitter_x": 5.84,
          "hitter_y": -0.97
         },
         {
          "hitter": "Djokovic",
          "hitter_x": 1.81,
          "hitter_y": 25.73
         },
         {
          "hitter": "Nadal",
          "hitter_x": 9.45,
          "hitter_y": -0.42
         },
         {
          "hitter": "Djokovic",
          "hitter_x": 6.17,
          "hitter_y": 24
         },
         {
          "hitter": "Nadal",
          "hitter_x": 7.12,
          "hitter_y": -0.84
         },
         {
          "hitter": "Djokovic",
          "hitter_x": 3.61,
          "hitter_y": 23.12
         },
         {
          "hitter": "Nadal",
          "hitter_x": 8.9,
          "hitter_y": -0.78
         },
         {
          "hitter": "Nadal",
          "hitter_x": 4.03,
          "hitter_y": -0.94
         },
         {
          "hitter": "Djokovic",
          "hitter_x": 9.68,
          "hitter_y": 25.37
         },
         {
          "hitter": "Nadal",
          "hitter_x": 3.9,
          "hitter_y": -0.91
         },
         {
          "hitter": "Djokovic",
          "hitter_x": 1.14,
          "hitter_y": 26.82
         },
         {
          "hitter": "Nadal",
          "hitter_x": 9.4,
          "hitter_y": -1.13
         },
         {
          "hitter": "Nadal",
          "hitter_x": 5.5,
          "hitter_y": -0.71
         },
         {
          "hitter": "Nadal",
          "hitter_x": 3.96,
          "hitter_y": -0.84
         },
         {
          "hitter": "Djokovic",
          "hitter_x": 9.52,
          "hitter_y": 25.14
         },
         {
          "hitter": "Nadal",
          "hitter_x": 7.23,
          "hitter_y": -1
         },
         {
          "hitter": "Nadal",
          "hitter_x": 5.48,
          "hitter_y": -1
         },
         {
          "hitter": "Djokovic",
          "hitter_x": 3.45,
          "hitter_y": 25.49
         },
         {
          "hitter": "Nadal",
          "hitter_x": 6.82,
          "hitter_y": -1.77
         },
         {
          "hitter": "Djokovic",
          "hitter_x": 6.02,
          "hitter_y": 26.21
         },
         {
          "hitter": "Nadal",
          "hitter_x": 7.73,
          "hitter_y": -2.13
         },
         {
          "hitter": "Djokovic",
          "hitter_x": 4.61,
          "hitter_y": 27.57
         },
         {
          "hitter": "Nadal",
          "hitter_x": 2.49,
          "hitter_y": -3.04
         },
         {
          "hitter": "Djokovic",
          "hitter_x": 7.93,
          "hitter_y": 26.09
         },
         {
          "hitter": "Nadal",
          "hitter_x": 2.42,
          "hitter_y": -1.16
         },
         {
          "hitter": "Djokovic",
          "hitter_x": 3.89,
          "hitter_y": 28.61
         },
         {
          "hitter": "Nadal",
          "hitter_x": 6.82,
          "hitter_y": -0.78
         },
         {
          "hitter": "Djokovic",
          "hitter_x": 1.23,
          "hitter_y": 27.95
         },
         {
          "hitter": "Nadal",
          "hitter_x": 7.01,
          "hitter_y": -1.95
         },
         {
          "hitter": "Djokovic",
          "hitter_x": 7.29,
          "hitter_y": 25.73
         },
         {
          "hitter": "Nadal",
          "hitter_x": 7.35,
          "hitter_y": 9.03
         },
         {
          "hitter": "Djokovic",
          "hitter_x": 7.75,
          "hitter_y": 18.58
         },
         {
          "hitter": "Nadal",
          "hitter_x": 8.03,
          "hitter_y": 10.41
         },
         {
          "hitter": "Djokovic",
          "hitter_x": 6.28,
          "hitter_y": -0.81
         },
         {
          "hitter": "Djokovic",
          "hitter_x": 6.29,
          "hitter_y": -0.71
         },
         {
          "hitter": "Nadal",
          "hitter_x": -0.29,
          "hitter_y": 24.22
         },
         {
          "hitter": "Djokovic",
          "hitter_x": 10.16,
          "hitter_y": -0.19
         },
         {
          "hitter": "Djokovic",
          "hitter_x": 4.29,
          "hitter_y": -1.1
         },
         {
          "hitter": "Nadal",
          "hitter_x": 10.11,
          "hitter_y": 28.08
         },
         {
          "hitter": "Djokovic",
          "hitter_x": 4.03,
          "hitter_y": 1.59
         },
         {
          "hitter": "Nadal",
          "hitter_x": -1.22,
          "hitter_y": 26.82
         },
         {
          "hitter": "Djokovic",
          "hitter_x": 6.17,
          "hitter_y": -0.94
         },
         {
          "hitter": "Nadal",
          "hitter_x": -1.38,
          "hitter_y": 25.49
         },
         {
          "hitter": "Djokovic",
          "hitter_x": 5.66,
          "hitter_y": -1.98
         },
         {
          "hitter": "Djokovic",
          "hitter_x": 4.03,
          "hitter_y": -0.87
         },
         {
          "hitter": "Djokovic",
          "hitter_x": 4.23,
          "hitter_y": -0.42
         },
         {
          "hitter": "Djokovic",
          "hitter_x": 4.19,
          "hitter_y": -0.65
         },
         {
          "hitter": "Nadal",
          "hitter_x": 5.6,
          "hitter_y": 23.23
         },
         {
          "hitter": "Djokovic",
          "hitter_x": 4.32,
          "hitter_y": -0.71
         },
         {
          "hitter": "Nadal",
          "hitter_x": 0.45,
          "hitter_y": 23.67
         },
         {
          "hitter": "Djokovic",
          "hitter_x": 7.86,
          "hitter_y": -0.62
         },
         {
          "hitter": "Nadal",
          "hitter_x": 7.15,
          "hitter_y": 28.08
         },
         {
          "hitter": "Djokovic",
          "hitter_x": 1.89,
          "hitter_y": 3.99
         },
         {
          "hitter": "Djokovic",
          "hitter_x": 6.1,
          "hitter_y": -0.45
         },
         {
          "hitter": "Nadal",
          "hitter_x": -2.19,
          "hitter_y": 25.97
         },
         {
          "hitter": "Djokovic",
          "hitter_x": 7.15,
          "hitter_y": 0.09
         },
         {
          "hitter": "Nadal",
          "hitter_x": 2.64,
          "hitter_y": 25.84
         },
         {
          "hitter": "Djokovic",
          "hitter_x": 1.54,
          "hitter_y": 0.89
         },
         {
          "hitter": "Nadal",
          "hitter_x": 8.32,
          "hitter_y": 26.82
         },
         {
          "hitter": "Djokovic",
          "hitter_x": 1.94,
          "hitter_y": -0.52
         },
         {
          "hitter": "Nadal",
          "hitter_x": 3.02,
          "hitter_y": 25.37
         },
         {
          "hitter": "Djokovic",
          "hitter_x": 5.8,
          "hitter_y": -0.87
         },
         {
          "hitter": "Nadal",
          "hitter_x": 0.88,
          "hitter_y": 25.84
         },
         {
          "hitter": "Djokovic",
          "hitter_x": 4.81,
          "hitter_y": -1.65
         },
         {
          "hitter": "Nadal",
          "hitter_x": 7.95,
          "hitter_y": 26.57
         },
         {
          "hitter": "Djokovic",
          "hitter_x": 1.22,
          "hitter_y": 0.68
         },
         {
          "hitter": "Nadal",
          "hitter_x": 2.44,
          "hitter_y": 27.19
         },
         {
          "hitter": "Djokovic",
          "hitter_x": 4.2,
          "hitter_y": -0.97
         },
         {
          "hitter": "Nadal",
          "hitter_x": 5.21,
          "hitter_y": 27.45
         },
         {
          "hitter": "Djokovic",
          "hitter_x": 5.65,
          "hitter_y": -1.28
         },
         {
          "hitter": "Nadal",
          "hitter_x": 0.22,
          "hitter_y": 27.32
         },
         {
          "hitter": "Djokovic",
          "hitter_x": 8.17,
          "hitter_y": -1.06
         },
         {
          "hitter": "Nadal",
          "hitter_x": 5.95,
          "hitter_y": 28.74
         },
         {
          "hitter": "Djokovic",
          "hitter_x": 3.2,
          "hitter_y": -1.16
         },
         {
          "hitter": "Nadal",
          "hitter_x": 1.05,
          "hitter_y": 27.7
         },
         {
          "hitter": "Djokovic",
          "hitter_x": 3.32,
          "hitter_y": -0.55
         },
         {
          "hitter": "Nadal",
          "hitter_x": 7.69,
          "hitter_y": 28.47
         },
         {
          "hitter": "Djokovic",
          "hitter_x": 0.86,
          "hitter_y": -0.19
         },
         {
          "hitter": "Djokovic",
          "hitter_x": 6.36,
          "hitter_y": -0.29
         },
         {
          "hitter": "Nadal",
          "hitter_x": -0.77,
          "hitter_y": 26.57
         },
         {
          "hitter": "Djokovic",
          "hitter_x": 5.72,
          "hitter_y": -1.13
         },
         {
          "hitter": "Nadal",
          "hitter_x": 8.91,
          "hitter_y": 28.74
         },
         {
          "hitter": "Djokovic",
          "hitter_x": 0.54,
          "hitter_y": 2.05
         },
         {
          "hitter": "Nadal",
          "hitter_x": 3.71,
          "hitter_y": 28.74
         },
         {
          "hitter": "Djokovic",
          "hitter_x": 7.52,
          "hitter_y": 5.6
         },
         {
          "hitter": "Djokovic",
          "hitter_x": 4.44,
          "hitter_y": -0.68
         },
         {
          "hitter": "Nadal",
          "hitter_x": 5.6,
          "hitter_y": 27.07
         },
         {
          "hitter": "Djokovic",
          "hitter_x": 6.56,
          "hitter_y": 0.89
         },
         {
          "hitter": "Nadal",
          "hitter_x": 0.24,
          "hitter_y": 25.49
         },
         {
          "hitter": "Djokovic",
          "hitter_x": 6.73,
          "hitter_y": -1
         },
         {
          "hitter": "Nadal",
          "hitter_x": 1.51,
          "hitter_y": 24.91
         },
         {
          "hitter": "Djokovic",
          "hitter_x": 1.36,
          "hitter_y": -0.94
         },
         {
          "hitter": "Nadal",
          "hitter_x": 9.23,
          "hitter_y": 26.33
         },
         {
          "hitter": "Djokovic",
          "hitter_x": 6.5,
          "hitter_y": 0.05
         },
         {
          "hitter": "Djokovic",
          "hitter_x": 6.06,
          "hitter_y": -0.15
         },
         {
          "hitter": "Nadal",
          "hitter_x": -0.52,
          "hitter_y": 24.11
         },
         {
          "hitter": "Djokovic",
          "hitter_x": 8.05,
          "hitter_y": -0.15
         },
         {
          "hitter": "Nadal",
          "hitter_x": 7.15,
          "hitter_y": 27.32
         },
         {
          "hitter": "Djokovic",
          "hitter_x": 2.36,
          "hitter_y": 0.86
         },
         {
          "hitter": "Nadal",
          "hitter_x": 6.84,
          "hitter_y": 25.49
         },
         {
          "hitter": "Djokovic",
          "hitter_x": 3.01,
          "hitter_y": -0.84
         },
         {
          "hitter": "Nadal",
          "hitter_x": 8.28,
          "hitter_y": 25.61
         },
         {
          "hitter": "Djokovic",
          "hitter_x": 4.15,
          "hitter_y": -0.62
         },
         {
          "hitter": "Nadal",
          "hitter_x": 5.26,
          "hitter_y": 25.97
         },
         {
          "hitter": "Djokovic",
          "hitter_x": 8.08,
          "hitter_y": 0.89
         },
         {
          "hitter": "Nadal",
          "hitter_x": 0.16,
          "hitter_y": 24.79
         },
         {
          "hitter": "Djokovic",
          "hitter_x": 2.46,
          "hitter_y": -0.12
         },
         {
          "hitter": "Nadal",
          "hitter_x": 1.38,
          "hitter_y": 25.26
         },
         {
          "hitter": "Djokovic",
          "hitter_x": 3.02,
          "hitter_y": -0.87
         },
         {
          "hitter": "Djokovic",
          "hitter_x": 7.03,
          "hitter_y": 25.61
         },
         {
          "hitter": "Djokovic",
          "hitter_x": 0.63,
          "hitter_y": 0.47
         },
         {
          "hitter": "Nadal",
          "hitter_x": 3.19,
          "hitter_y": 25.61
         },
         {
          "hitter": "Nadal",
          "hitter_x": 4.04,
          "hitter_y": 21.14
         },
         {
          "hitter": "Nadal",
          "hitter_x": 3.93,
          "hitter_y": 23.77
         },
         {
          "hitter": "Djokovic",
          "hitter_x": 7.94,
          "hitter_y": -0.29
         },
         {
          "hitter": "Nadal",
          "hitter_x": 1.77,
          "hitter_y": 23.23
         },
         {
          "hitter": "Djokovic",
          "hitter_x": 9.2,
          "hitter_y": -1.32
         },
         {
          "hitter": "Nadal",
          "hitter_x": 3.79,
          "hitter_y": 23.67
         },
         {
          "hitter": "Djokovic",
          "hitter_x": 2.69,
          "hitter_y": -0.55
         },
         {
          "hitter": "Nadal",
          "hitter_x": 8.87,
          "hitter_y": 21.14
         },
         {
          "hitter": "Nadal",
          "hitter_x": 6.09,
          "hitter_y": 24
         },
         {
          "hitter": "Nadal",
          "hitter_x": 6.04,
          "hitter_y": 24.79
         },
         {
          "hitter": "Nadal",
          "hitter_x": 3.83,
          "hitter_y": 23.01
         },
         {
          "hitter": "Djokovic",
          "hitter_x": 8.86,
          "hitter_y": -0.52
         },
         {
          "hitter": "Nadal",
          "hitter_x": 1.8,
          "hitter_y": 21.96
         },
         {
          "hitter": "Djokovic",
          "hitter_x": 2.84,
          "hitter_y": -0.08
         },
         {
          "hitter": "Nadal",
          "hitter_x": 0.56,
          "hitter_y": 24.33
         },
         {
          "hitter": "Djokovic",
          "hitter_x": 4.2,
          "hitter_y": -1.59
         },
         {
          "hitter": "Nadal",
          "hitter_x": 6.75,
          "hitter_y": 25.14
         },
         {
          "hitter": "Djokovic",
          "hitter_x": 1.19,
          "hitter_y": 0.19
         },
         {
          "hitter": "Nadal",
          "hitter_x": 3.25,
          "hitter_y": 25.73
         },
         {
          "hitter": "Djokovic",
          "hitter_x": 5.98,
          "hitter_y": 0.36
         },
         {
          "hitter": "Nadal",
          "hitter_x": -1.23,
          "hitter_y": 25.14
         },
         {
          "hitter": "Djokovic",
          "hitter_x": 8.82,
          "hitter_y": -0.05
         },
         {
          "hitter": "Nadal",
          "hitter_x": 5.4,
          "hitter_y": 27.95
         },
         {
          "hitter": "Djokovic",
          "hitter_x": 2.75,
          "hitter_y": 0.26
         },
         {
          "hitter": "Nadal",
          "hitter_x": 6.14,
          "hitter_y": 24.33
         },
         {
          "hitter": "Nadal",
          "hitter_x": 5.91,
          "hitter_y": 24
         },
         {
          "hitter": "Djokovic",
          "hitter_x": 3.76,
          "hitter_y": -0.32
         },
         {
          "hitter": "Nadal",
          "hitter_x": 6.17,
          "hitter_y": 25.26
         },
         {
          "hitter": "Djokovic",
          "hitter_x": 1.84,
          "hitter_y": -0.19
         },
         {
          "hitter": "Nadal",
          "hitter_x": 3.5,
          "hitter_y": 25.84
         },
         {
          "hitter": "Djokovic",
          "hitter_x": 4.18,
          "hitter_y": 0.57
         },
         {
          "hitter": "Nadal",
          "hitter_x": 3.08,
          "hitter_y": 26.82
         },
         {
          "hitter": "Djokovic",
          "hitter_x": 8.53,
          "hitter_y": 0.5
         },
         {
          "hitter": "Nadal",
          "hitter_x": 3.91,
          "hitter_y": 23.01
         },
         {
          "hitter": "Djokovic",
          "hitter_x": 6.49,
          "hitter_y": -1.92
         },
         {
          "hitter": "Nadal",
          "hitter_x": 1.36,
          "hitter_y": 20.94
         },
         {
          "hitter": "Djokovic",
          "hitter_x": 2.93,
          "hitter_y": -2.36
         },
         {
          "hitter": "Nadal",
          "hitter_x": 7.17,
          "hitter_y": 23.55
         },
         {
          "hitter": "Djokovic",
          "hitter_x": 1.72,
          "hitter_y": -0.12
         },
         {
          "hitter": "Nadal",
          "hitter_x": 3.65,
          "hitter_y": 23.89
         },
         {
          "hitter": "Djokovic",
          "hitter_x": 3.82,
          "hitter_y": 18.58
         },
         {
          "hitter": "Djokovic",
          "hitter_x": 3.64,
          "hitter_y": 21.85
         },
         {
          "hitter": "Nadal",
          "hitter_x": 7.26,
          "hitter_y": -0.71
         },
         {
          "hitter": "Djokovic",
          "hitter_x": 3.29,
          "hitter_y": 22.17
         },
         {
          "hitter": "Djokovic",
          "hitter_x": 5.38,
          "hitter_y": 25.14
         },
         {
          "hitter": "Djokovic",
          "hitter_x": 3.06,
          "hitter_y": 24.33
         },
         {
          "hitter": "Djokovic",
          "hitter_x": 5.22,
          "hitter_y": 26.09
         },
         {
          "hitter": "Nadal",
          "hitter_x": 5.48,
          "hitter_y": -0.02
         },
         {
          "hitter": "Nadal",
          "hitter_x": 5.4,
          "hitter_y": -0.15
         },
         {
          "hitter": "Djokovic",
          "hitter_x": 4.39,
          "hitter_y": 25.02
         },
         {
          "hitter": "Nadal",
          "hitter_x": 8.67,
          "hitter_y": 1.52
         },
         {
          "hitter": "Djokovic",
          "hitter_x": 6.77,
          "hitter_y": 24.45
         },
         {
          "hitter": "Nadal",
          "hitter_x": 7.82,
          "hitter_y": 0.33
         },
         {
          "hitter": "Djokovic",
          "hitter_x": 6.52,
          "hitter_y": 20.45
         },
         {
          "hitter": "Nadal",
          "hitter_x": 8.36,
          "hitter_y": 5.99
         },
         {
          "hitter": "Nadal",
          "hitter_x": 4.05,
          "hitter_y": -0.45
         },
         {
          "hitter": "Djokovic",
          "hitter_x": 9.43,
          "hitter_y": 24.56
         },
         {
          "hitter": "Nadal",
          "hitter_x": 3.32,
          "hitter_y": 0.4
         },
         {
          "hitter": "Djokovic",
          "hitter_x": 6.2,
          "hitter_y": 24.68
         },
         {
          "hitter": "Nadal",
          "hitter_x": 2.33,
          "hitter_y": -1.1
         },
         {
          "hitter": "Djokovic",
          "hitter_x": 4.02,
          "hitter_y": 25.02
         },
         {
          "hitter": "Nadal",
          "hitter_x": 7.39,
          "hitter_y": -1.68
         },
         {
          "hitter": "Djokovic",
          "hitter_x": 3.61,
          "hitter_y": 25.14
         },
         {
          "hitter": "Nadal",
          "hitter_x": 2.66,
          "hitter_y": -2.39
         },
         {
          "hitter": "Djokovic",
          "hitter_x": 8.34,
          "hitter_y": 21.85
         },
         {
          "hitter": "Nadal",
          "hitter_x": 7.73,
          "hitter_y": 7.26
         },
         {
          "hitter": "Djokovic",
          "hitter_x": 7.82,
          "hitter_y": 15.77
         },
         {
          "hitter": "Nadal",
          "hitter_x": 5.42,
          "hitter_y": -0.29
         },
         {
          "hitter": "Djokovic",
          "hitter_x": -0.73,
          "hitter_y": 25.26
         },
         {
          "hitter": "Nadal",
          "hitter_x": 4.12,
          "hitter_y": -0.25
         },
         {
          "hitter": "Nadal",
          "hitter_x": 4,
          "hitter_y": -0.32
         },
         {
          "hitter": "Djokovic",
          "hitter_x": 8.34,
          "hitter_y": 23.55
         },
         {
          "hitter": "Nadal",
          "hitter_x": 4.63,
          "hitter_y": -0.52
         },
         {
          "hitter": "Djokovic",
          "hitter_x": 1.49,
          "hitter_y": 26.09
         },
         {
          "hitter": "Nadal",
          "hitter_x": 8.32,
          "hitter_y": -0.78
         },
         {
          "hitter": "Djokovic",
          "hitter_x": 5.74,
          "hitter_y": 25.73
         },
         {
          "hitter": "Nadal",
          "hitter_x": 3.01,
          "hitter_y": -0.97
         },
         {
          "hitter": "Djokovic",
          "hitter_x": 9.35,
          "hitter_y": 24.22
         },
         {
          "hitter": "Nadal",
          "hitter_x": 6.48,
          "hitter_y": 6.85
         },
         {
          "hitter": "Djokovic",
          "hitter_x": 6.59,
          "hitter_y": 17.26
         },
         {
          "hitter": "Nadal",
          "hitter_x": 4.24,
          "hitter_y": 1.98
         },
         {
          "hitter": "Nadal",
          "hitter_x": 5.47,
          "hitter_y": -0.35
         },
         {
          "hitter": "Djokovic",
          "hitter_x": 2.47,
          "hitter_y": 26.21
         },
         {
          "hitter": "Nadal",
          "hitter_x": 7.34,
          "hitter_y": 0.68
         },
         {
          "hitter": "Djokovic",
          "hitter_x": 0.57,
          "hitter_y": 23.33
         },
         {
          "hitter": "Nadal",
          "hitter_x": 8.16,
          "hitter_y": 1.18
         },
         {
          "hitter": "Djokovic",
          "hitter_x": 7.06,
          "hitter_y": 26.69
         },
         {
          "hitter": "Nadal",
          "hitter_x": 4.84,
          "hitter_y": 5.99
         },
         {
          "hitter": "Nadal",
          "hitter_x": 4.04,
          "hitter_y": -0.39
         },
         {
          "hitter": "Djokovic",
          "hitter_x": 10.45,
          "hitter_y": 24.68
         },
         {
          "hitter": "Djokovic",
          "hitter_x": 6.7,
          "hitter_y": 0.97
         },
         {
          "hitter": "Djokovic",
          "hitter_x": 6.48,
          "hitter_y": -0.19
         },
         {
          "hitter": "Djokovic",
          "hitter_x": 6.05,
          "hitter_y": -0.22
         },
         {
          "hitter": "Nadal",
          "hitter_x": 0.75,
          "hitter_y": 24.22
         },
         {
          "hitter": "Djokovic",
          "hitter_x": 4.55,
          "hitter_y": -0.15
         },
         {
          "hitter": "Nadal",
          "hitter_x": 8.12,
          "hitter_y": 24.45
         },
         {
          "hitter": "Djokovic",
          "hitter_x": 4.4,
          "hitter_y": -0.15
         },
         {
          "hitter": "Djokovic",
          "hitter_x": 4.32,
          "hitter_y": -0.15
         },
         {
          "hitter": "Nadal",
          "hitter_x": 5.97,
          "hitter_y": 23.89
         },
         {
          "hitter": "Djokovic",
          "hitter_x": 3.19,
          "hitter_y": -0.25
         },
         {
          "hitter": "Nadal",
          "hitter_x": 4.12,
          "hitter_y": 26.94
         },
         {
          "hitter": "Djokovic",
          "hitter_x": 6.11,
          "hitter_y": -0.19
         },
         {
          "hitter": "Djokovic",
          "hitter_x": 5.95,
          "hitter_y": -0.29
         },
         {
          "hitter": "Nadal",
          "hitter_x": 2.57,
          "hitter_y": 24.79
         },
         {
          "hitter": "Djokovic",
          "hitter_x": 4.26,
          "hitter_y": -0.29
         },
         {
          "hitter": "Djokovic",
          "hitter_x": 4.37,
          "hitter_y": -0.35
         },
         {
          "hitter": "Djokovic",
          "hitter_x": 4.44,
          "hitter_y": -0.29
         },
         {
          "hitter": "Nadal",
          "hitter_x": 9.17,
          "hitter_y": 23.77
         },
         {
          "hitter": "Nadal",
          "hitter_x": 4.07,
          "hitter_y": 23.77
         },
         {
          "hitter": "Djokovic",
          "hitter_x": 5,
          "hitter_y": -1.22
         },
         {
          "hitter": "Nadal",
          "hitter_x": 4.95,
          "hitter_y": 11.96
         },
         {
          "hitter": "Nadal",
          "hitter_x": 6.39,
          "hitter_y": 12.58
         },
         {
          "hitter": "Djokovic",
          "hitter_x": 2.23,
          "hitter_y": -0.65
         },
         {
          "hitter": "Nadal",
          "hitter_x": 4.18,
          "hitter_y": 24.22
         },
         {
          "hitter": "Nadal",
          "hitter_x": 4.15,
          "hitter_y": 25.02
         },
         {
          "hitter": "Nadal",
          "hitter_x": 5.53,
          "hitter_y": 23.89
         },
         {
          "hitter": "Djokovic",
          "hitter_x": -0.08,
          "hitter_y": 0.36
         },
         {
          "hitter": "Nadal",
          "hitter_x": 2.9,
          "hitter_y": 22.17
         },
         {
          "hitter": "Djokovic",
          "hitter_x": 7.77,
          "hitter_y": -0.22
         },
         {
          "hitter": "Nadal",
          "hitter_x": 0.73,
          "hitter_y": 24.22
         },
         {
          "hitter": "Djokovic",
          "hitter_x": 3.48,
          "hitter_y": -0.35
         },
         {
          "hitter": "Nadal",
          "hitter_x": 3.64,
          "hitter_y": 25.97
         },
         {
          "hitter": "Djokovic",
          "hitter_x": 3.65,
          "hitter_y": -0.08
         },
         {
          "hitter": "Nadal",
          "hitter_x": 6.16,
          "hitter_y": 27.32
         },
         {
          "hitter": "Djokovic",
          "hitter_x": -0.06,
          "hitter_y": -1.1
         },
         {
          "hitter": "Nadal",
          "hitter_x": 9.42,
          "hitter_y": 23.23
         },
         {
          "hitter": "Nadal",
          "hitter_x": 4.31,
          "hitter_y": 23.01
         },
         {
          "hitter": "Nadal",
          "hitter_x": 4.33,
          "hitter_y": 23.01
         },
         {
          "hitter": "Djokovic",
          "hitter_x": 5.93,
          "hitter_y": -0.25
         },
         {
          "hitter": "Nadal",
          "hitter_x": 6.14,
          "hitter_y": 23.12
         },
         {
          "hitter": "Djokovic",
          "hitter_x": 7.79,
          "hitter_y": -2.7
         },
         {
          "hitter": "Nadal",
          "hitter_x": 0.76,
          "hitter_y": 21.45
         },
         {
          "hitter": "Djokovic",
          "hitter_x": 2.4,
          "hitter_y": 1.37
         },
         {
          "hitter": "Nadal",
          "hitter_x": 2.04,
          "hitter_y": 24.45
         },
         {
          "hitter": "Djokovic",
          "hitter_x": 6.28,
          "hitter_y": -0.35
         },
         {
          "hitter": "Nadal",
          "hitter_x": 4.05,
          "hitter_y": 24
         },
         {
          "hitter": "Djokovic",
          "hitter_x": 1.72,
          "hitter_y": -0.97
         },
         {
          "hitter": "Nadal",
          "hitter_x": 3.78,
          "hitter_y": 23.44
         },
         {
          "hitter": "Djokovic",
          "hitter_x": 5.29,
          "hitter_y": 0.26
         },
         {
          "hitter": "Nadal",
          "hitter_x": 1.22,
          "hitter_y": 25.73
         },
         {
          "hitter": "Djokovic",
          "hitter_x": 2.58,
          "hitter_y": -0.25
         },
         {
          "hitter": "Nadal",
          "hitter_x": 3.43,
          "hitter_y": 25.97
         },
         {
          "hitter": "Djokovic",
          "hitter_x": 8.71,
          "hitter_y": -1.25
         },
         {
          "hitter": "Nadal",
          "hitter_x": 5.97,
          "hitter_y": 24.11
         },
         {
          "hitter": "Djokovic",
          "hitter_x": -0.71,
          "hitter_y": 1.56
         },
         {
          "hitter": "Nadal",
          "hitter_x": 6.21,
          "hitter_y": 23.67
         },
         {
          "hitter": "Djokovic",
          "hitter_x": 4.9,
          "hitter_y": -1.06
         },
         {
          "hitter": "Nadal",
          "hitter_x": 7.47,
          "hitter_y": 25.73
         },
         {
          "hitter": "Djokovic",
          "hitter_x": 2.61,
          "hitter_y": 1.44
         },
         {
          "hitter": "Nadal",
          "hitter_x": 1.22,
          "hitter_y": 27.19
         },
         {
          "hitter": "Djokovic",
          "hitter_x": 2.77,
          "hitter_y": -0.45
         },
         {
          "hitter": "Nadal",
          "hitter_x": 8.91,
          "hitter_y": 28.08
         },
         {
          "hitter": "Djokovic",
          "hitter_x": 2.38,
          "hitter_y": 0.93
         },
         {
          "hitter": "Nadal",
          "hitter_x": 6.5,
          "hitter_y": 17.78
         },
         {
          "hitter": "Djokovic",
          "hitter_x": 3.39,
          "hitter_y": 24.79
         },
         {
          "hitter": "Nadal",
          "hitter_x": 10.41,
          "hitter_y": -1.95
         },
         {
          "hitter": "Djokovic",
          "hitter_x": 3.16,
          "hitter_y": 22.06
         },
         {
          "hitter": "Nadal",
          "hitter_x": 5.69,
          "hitter_y": -1.59
         },
         {
          "hitter": "Djokovic",
          "hitter_x": 6.67,
          "hitter_y": 20.36
         },
         {
          "hitter": "Nadal",
          "hitter_x": 2.09,
          "hitter_y": -1.25
         },
         {
          "hitter": "Djokovic",
          "hitter_x": 7.28,
          "hitter_y": 22.58
         },
         {
          "hitter": "Nadal",
          "hitter_x": 7.13,
          "hitter_y": -0.29
         },
         {
          "hitter": "Djokovic",
          "hitter_x": 5.17,
          "hitter_y": 27.32
         },
         {
          "hitter": "Nadal",
          "hitter_x": -0.56,
          "hitter_y": 1.07
         },
         {
          "hitter": "Djokovic",
          "hitter_x": 6.65,
          "hitter_y": 24.45
         },
         {
          "hitter": "Djokovic",
          "hitter_x": 3.26,
          "hitter_y": 25.61
         },
         {
          "hitter": "Nadal",
          "hitter_x": 10.8,
          "hitter_y": -0.94
         },
         {
          "hitter": "Djokovic",
          "hitter_x": 6.1,
          "hitter_y": 22.69
         },
         {
          "hitter": "Djokovic",
          "hitter_x": 6.07,
          "hitter_y": 29
         },
         {
          "hitter": "Nadal",
          "hitter_x": 6.97,
          "hitter_y": -1.89
         },
         {
          "hitter": "Djokovic",
          "hitter_x": 1.29,
          "hitter_y": 17.18
         },
         {
          "hitter": "Djokovic",
          "hitter_x": 2.48,
          "hitter_y": 24.11
         },
         {
          "hitter": "Nadal",
          "hitter_x": 10.75,
          "hitter_y": -1
         },
         {
          "hitter": "Djokovic",
          "hitter_x": 1.61,
          "hitter_y": 22.48
         },
         {
          "hitter": "Nadal",
          "hitter_x": 2.98,
          "hitter_y": -2.22
         },
         {
          "hitter": "Djokovic",
          "hitter_x": 8.21,
          "hitter_y": 24.22
         },
         {
          "hitter": "Nadal",
          "hitter_x": 5.33,
          "hitter_y": 0.19
         },
         {
          "hitter": "Djokovic",
          "hitter_x": 7.69,
          "hitter_y": 27.45
         },
         {
          "hitter": "Nadal",
          "hitter_x": 6.08,
          "hitter_y": 0.71
         },
         {
          "hitter": "Djokovic",
          "hitter_x": 1.88,
          "hitter_y": 27.95
         },
         {
          "hitter": "Nadal",
          "hitter_x": 4.6,
          "hitter_y": -0.19
         },
         {
          "hitter": "Djokovic",
          "hitter_x": 7.62,
          "hitter_y": 27.83
         },
         {
          "hitter": "Nadal",
          "hitter_x": 5.47,
          "hitter_y": 0.22
         },
         {
          "hitter": "Djokovic",
          "hitter_x": 3.17,
          "hitter_y": 26.09
         },
         {
          "hitter": "Nadal",
          "hitter_x": 2.04,
          "hitter_y": 0.5
         },
         {
          "hitter": "Nadal",
          "hitter_x": 4.1,
          "hitter_y": 0.02
         },
         {
          "hitter": "Nadal",
          "hitter_x": 5.43,
          "hitter_y": -0.15
         },
         {
          "hitter": "Djokovic",
          "hitter_x": 0.4,
          "hitter_y": 24.68
         },
         {
          "hitter": "Nadal",
          "hitter_x": 4.21,
          "hitter_y": -0.22
         },
         {
          "hitter": "Djokovic",
          "hitter_x": 6.99,
          "hitter_y": 25.02
         },
         {
          "hitter": "Nadal",
          "hitter_x": 4.35,
          "hitter_y": 1.56
         },
         {
          "hitter": "Nadal",
          "hitter_x": 5.54,
          "hitter_y": -0.22
         },
         {
          "hitter": "Nadal",
          "hitter_x": 5.41,
          "hitter_y": -0.15
         },
         {
          "hitter": "Nadal",
          "hitter_x": 5.42,
          "hitter_y": 0.02
         },
         {
          "hitter": "Djokovic",
          "hitter_x": 1.1,
          "hitter_y": 23.12
         },
         {
          "hitter": "Nadal",
          "hitter_x": 4.31,
          "hitter_y": 0.22
         },
         {
          "hitter": "Djokovic",
          "hitter_x": 8.37,
          "hitter_y": 24.45
         },
         {
          "hitter": "Nadal",
          "hitter_x": 6.99,
          "hitter_y": 6.54
         },
         {
          "hitter": "Djokovic",
          "hitter_x": 5.99,
          "hitter_y": 0.29
         },
         {
          "hitter": "Nadal",
          "hitter_x": 1.74,
          "hitter_y": 27.07
         },
         {
          "hitter": "Djokovic",
          "hitter_x": 4.02,
          "hitter_y": 1.18
         },
         {
          "hitter": "Nadal",
          "hitter_x": 6.21,
          "hitter_y": 27.83
         },
         {
          "hitter": "Djokovic",
          "hitter_x": 4,
          "hitter_y": -0.32
         },
         {
          "hitter": "Nadal",
          "hitter_x": 4.62,
          "hitter_y": 26.21
         },
         {
          "hitter": "Djokovic",
          "hitter_x": 2.9,
          "hitter_y": -0.84
         },
         {
          "hitter": "Nadal",
          "hitter_x": 6.43,
          "hitter_y": 25.84
         },
         {
          "hitter": "Djokovic",
          "hitter_x": 1.73,
          "hitter_y": -1.03
         },
         {
          "hitter": "Nadal",
          "hitter_x": 2.9,
          "hitter_y": 25.26
         },
         {
          "hitter": "Djokovic",
          "hitter_x": 7.53,
          "hitter_y": -0.62
         },
         {
          "hitter": "Nadal",
          "hitter_x": 7.75,
          "hitter_y": 27.45
         },
         {
          "hitter": "Djokovic",
          "hitter_x": 5.89,
          "hitter_y": 0.02
         },
         {
          "hitter": "Nadal",
          "hitter_x": 6.91,
          "hitter_y": 25.14
         },
         {
          "hitter": "Djokovic",
          "hitter_x": 1.6,
          "hitter_y": -0.84
         },
         {
          "hitter": "Nadal",
          "hitter_x": 7.09,
          "hitter_y": 24.68
         },
         {
          "hitter": "Djokovic",
          "hitter_x": 4.34,
          "hitter_y": -0.15
         },
         {
          "hitter": "Nadal",
          "hitter_x": 5.07,
          "hitter_y": 26.21
         },
         {
          "hitter": "Djokovic",
          "hitter_x": 2.26,
          "hitter_y": -0.71
         },
         {
          "hitter": "Nadal",
          "hitter_x": 7.63,
          "hitter_y": 27.07
         },
         {
          "hitter": "Djokovic",
          "hitter_x": 2.46,
          "hitter_y": -0.19
         },
         {
          "hitter": "Nadal",
          "hitter_x": 8.47,
          "hitter_y": 25.61
         },
         {
          "hitter": "Djokovic",
          "hitter_x": 1.13,
          "hitter_y": -0.25
         },
         {
          "hitter": "Djokovic",
          "hitter_x": 6.04,
          "hitter_y": -0.08
         },
         {
          "hitter": "Nadal",
          "hitter_x": -1.26,
          "hitter_y": 25.84
         },
         {
          "hitter": "Djokovic",
          "hitter_x": 2.87,
          "hitter_y": 5.99
         },
         {
          "hitter": "Nadal",
          "hitter_x": 7.92,
          "hitter_y": 24.45
         },
         {
          "hitter": "Djokovic",
          "hitter_x": 4.4,
          "hitter_y": -0.19
         },
         {
          "hitter": "Djokovic",
          "hitter_x": 4.39,
          "hitter_y": 0.05
         },
         {
          "hitter": "Nadal",
          "hitter_x": 5.68,
          "hitter_y": 26.69
         },
         {
          "hitter": "Djokovic",
          "hitter_x": 2.57,
          "hitter_y": 0.68
         },
         {
          "hitter": "Nadal",
          "hitter_x": 8,
          "hitter_y": 26.69
         },
         {
          "hitter": "Djokovic",
          "hitter_x": 2.54,
          "hitter_y": -0.45
         },
         {
          "hitter": "Nadal",
          "hitter_x": 8.03,
          "hitter_y": 25.14
         },
         {
          "hitter": "Djokovic",
          "hitter_x": 0.93,
          "hitter_y": 0.26
         },
         {
          "hitter": "Nadal",
          "hitter_x": 2.83,
          "hitter_y": 25.37
         },
         {
          "hitter": "Djokovic",
          "hitter_x": 4.33,
          "hitter_y": 1.82
         },
         {
          "hitter": "Nadal",
          "hitter_x": 6.71,
          "hitter_y": 26.09
         },
         {
          "hitter": "Djokovic",
          "hitter_x": 2.34,
          "hitter_y": -0.65
         },
         {
          "hitter": "Djokovic",
          "hitter_x": 6.03,
          "hitter_y": -0.42
         },
         {
          "hitter": "Nadal",
          "hitter_x": -1.16,
          "hitter_y": 25.02
         },
         {
          "hitter": "Djokovic",
          "hitter_x": 5.62,
          "hitter_y": -0.94
         },
         {
          "hitter": "Djokovic",
          "hitter_x": 4.34,
          "hitter_y": -0.45
         },
         {
          "hitter": "Nadal",
          "hitter_x": 5.23,
          "hitter_y": 26.82
         },
         {
          "hitter": "Djokovic",
          "hitter_x": 3.48,
          "hitter_y": -0.81
         },
         {
          "hitter": "Nadal",
          "hitter_x": 8.23,
          "hitter_y": 26.57
         },
         {
          "hitter": "Nadal",
          "hitter_x": 8.82,
          "hitter_y": 24.91
         },
         {
          "hitter": "Djokovic",
          "hitter_x": 1.83,
          "hitter_y": 0.4
         },
         {
          "hitter": "Nadal",
          "hitter_x": 6.54,
          "hitter_y": 24.91
         },
         {
          "hitter": "Djokovic",
          "hitter_x": 6.26,
          "hitter_y": -1.86
         },
         {
          "hitter": "Nadal",
          "hitter_x": 2.55,
          "hitter_y": 23.23
         },
         {
          "hitter": "Djokovic",
          "hitter_x": 5.94,
          "hitter_y": -0.39
         },
         {
          "hitter": "Nadal",
          "hitter_x": -2.02,
          "hitter_y": 25.73
         },
         {
          "hitter": "Djokovic",
          "hitter_x": 3.4,
          "hitter_y": 2.21
         },
         {
          "hitter": "Nadal",
          "hitter_x": 1.26,
          "hitter_y": 26.33
         },
         {
          "hitter": "Djokovic",
          "hitter_x": 3.74,
          "hitter_y": 0.61
         },
         {
          "hitter": "Nadal",
          "hitter_x": 1.78,
          "hitter_y": 26.45
         },
         {
          "hitter": "Djokovic",
          "hitter_x": 8.48,
          "hitter_y": -0.84
         },
         {
          "hitter": "Nadal",
          "hitter_x": 1.8,
          "hitter_y": 22.9
         },
         {
          "hitter": "Djokovic",
          "hitter_x": 6.68,
          "hitter_y": 4.85
         },
         {
          "hitter": "Nadal",
          "hitter_x": 1.04,
          "hitter_y": 24.91
         },
         {
          "hitter": "Djokovic",
          "hitter_x": 4.32,
          "hitter_y": -0.15
         },
         {
          "hitter": "Nadal",
          "hitter_x": 9.35,
          "hitter_y": 26.21
         },
         {
          "hitter": "Djokovic",
          "hitter_x": 3.23,
          "hitter_y": 2.21
         },
         {
          "hitter": "Nadal",
          "hitter_x": 4.19,
          "hitter_y": 23.89
         },
         {
          "hitter": "Djokovic",
          "hitter_x": 6.96,
          "hitter_y": -1.03
         },
         {
          "hitter": "Nadal",
          "hitter_x": 5.77,
          "hitter_y": 24.22
         },
         {
          "hitter": "Djokovic",
          "hitter_x": 2.98,
          "hitter_y": -0.45
         },
         {
          "hitter": "Nadal",
          "hitter_x": 5.26,
          "hitter_y": 24.56
         },
         {
          "hitter": "Nadal",
          "hitter_x": 4.02,
          "hitter_y": 24.45
         },
         {
          "hitter": "Nadal",
          "hitter_x": 4.14,
          "hitter_y": 24.45
         },
         {
          "hitter": "Djokovic",
          "hitter_x": 8.48,
          "hitter_y": 0.19
         },
         {
          "hitter": "Nadal",
          "hitter_x": 5.38,
          "hitter_y": 24.68
         },
         {
          "hitter": "Djokovic",
          "hitter_x": 3.69,
          "hitter_y": 0.02
         },
         {
          "hitter": "Nadal",
          "hitter_x": 4.02,
          "hitter_y": 25.14
         },
         {
          "hitter": "Nadal",
          "hitter_x": 4.04,
          "hitter_y": 24.33
         },
         {
          "hitter": "Nadal",
          "hitter_x": 4.25,
          "hitter_y": 24.91
         },
         {
          "hitter": "Djokovic",
          "hitter_x": 6.36,
          "hitter_y": 0.58
         },
         {
          "hitter": "Djokovic",
          "hitter_x": 3.62,
          "hitter_y": 22.37
         },
         {
          "hitter": "Djokovic",
          "hitter_x": 3.45,
          "hitter_y": 24.79
         },
         {
          "hitter": "Nadal",
          "hitter_x": 10.35,
          "hitter_y": -2.04
         },
         {
          "hitter": "Djokovic",
          "hitter_x": 4.92,
          "hitter_y": 26.69
         },
         {
          "hitter": "Djokovic",
          "hitter_x": 5.32,
          "hitter_y": 26.57
         },
         {
          "hitter": "Nadal",
          "hitter_x": 3.9,
          "hitter_y": 0.86
         },
         {
          "hitter": "Djokovic",
          "hitter_x": 6.19,
          "hitter_y": 23.77
         },
         {
          "hitter": "Nadal",
          "hitter_x": 7.6,
          "hitter_y": 0.02
         },
         {
          "hitter": "Djokovic",
          "hitter_x": 5.69,
          "hitter_y": 24.68
         },
         {
          "hitter": "Nadal",
          "hitter_x": 9.75,
          "hitter_y": -1.22
         },
         {
          "hitter": "Djokovic",
          "hitter_x": 5.15,
          "hitter_y": 15.62
         },
         {
          "hitter": "Djokovic",
          "hitter_x": 2.67,
          "hitter_y": 23.23
         },
         {
          "hitter": "Nadal",
          "hitter_x": 6.4,
          "hitter_y": -1.22
         },
         {
          "hitter": "Djokovic",
          "hitter_x": 5.55,
          "hitter_y": 26.09
         },
         {
          "hitter": "Nadal",
          "hitter_x": 4.2,
          "hitter_y": 0.22
         },
         {
          "hitter": "Djokovic",
          "hitter_x": 6.61,
          "hitter_y": 27.19
         },
         {
          "hitter": "Nadal",
          "hitter_x": 6.89,
          "hitter_y": 1.63
         },
         {
          "hitter": "Djokovic",
          "hitter_x": 3.25,
          "hitter_y": 28.47
         },
         {
          "hitter": "Nadal",
          "hitter_x": 8.03,
          "hitter_y": 0.61
         },
         {
          "hitter": "Djokovic",
          "hitter_x": -0.29,
          "hitter_y": 29.27
         },
         {
          "hitter": "Djokovic",
          "hitter_x": 2.97,
          "hitter_y": 24.11
         },
         {
          "hitter": "Djokovic",
          "hitter_x": 2.05,
          "hitter_y": 24.22
         },
         {
          "hitter": "Nadal",
          "hitter_x": 6.27,
          "hitter_y": -0.78
         },
         {
          "hitter": "Djokovic",
          "hitter_x": 5.84,
          "hitter_y": 25.14
         },
         {
          "hitter": "Nadal",
          "hitter_x": 1.16,
          "hitter_y": -1.16
         },
         {
          "hitter": "Djokovic",
          "hitter_x": 5.91,
          "hitter_y": 25.97
         },
         {
          "hitter": "Nadal",
          "hitter_x": 3.94,
          "hitter_y": 0.09
         },
         {
          "hitter": "Djokovic",
          "hitter_x": 6.77,
          "hitter_y": 26.94
         },
         {
          "hitter": "Nadal",
          "hitter_x": 2.35,
          "hitter_y": -0.58
         },
         {
          "hitter": "Djokovic",
          "hitter_x": 7.59,
          "hitter_y": 27.07
         },
         {
          "hitter": "Nadal",
          "hitter_x": 3.96,
          "hitter_y": -0.97
         },
         {
          "hitter": "Djokovic",
          "hitter_x": 7.52,
          "hitter_y": 27.45
         },
         {
          "hitter": "Nadal",
          "hitter_x": 6.26,
          "hitter_y": 0.64
         },
         {
          "hitter": "Djokovic",
          "hitter_x": 3.25,
          "hitter_y": 27.95
         },
         {
          "hitter": "Nadal",
          "hitter_x": 7.79,
          "hitter_y": 1.18
         },
         {
          "hitter": "Djokovic",
          "hitter_x": 7.19,
          "hitter_y": 24.22
         },
         {
          "hitter": "Nadal",
          "hitter_x": 2.33,
          "hitter_y": 0.36
         },
         {
          "hitter": "Djokovic",
          "hitter_x": 8.58,
          "hitter_y": 25.02
         },
         {
          "hitter": "Nadal",
          "hitter_x": 6.64,
          "hitter_y": 0.29
         },
         {
          "hitter": "Djokovic",
          "hitter_x": 3.06,
          "hitter_y": 26.69
         },
         {
          "hitter": "Nadal",
          "hitter_x": 7.25,
          "hitter_y": 1.33
         },
         {
          "hitter": "Djokovic",
          "hitter_x": 8.6,
          "hitter_y": 26.09
         },
         {
          "hitter": "Djokovic",
          "hitter_x": 2.74,
          "hitter_y": 24.68
         },
         {
          "hitter": "Nadal",
          "hitter_x": 10.8,
          "hitter_y": -0.91
         },
         {
          "hitter": "Djokovic",
          "hitter_x": 4.88,
          "hitter_y": 15.46
         },
         {
          "hitter": "Nadal",
          "hitter_x": 6.99,
          "hitter_y": 0.5
         },
         {
          "hitter": "Djokovic",
          "hitter_x": 1.41,
          "hitter_y": 17.61
         },
         {
          "hitter": "Nadal",
          "hitter_x": 6.6,
          "hitter_y": -2.33
         },
         {
          "hitter": "Djokovic",
          "hitter_x": 4.24,
          "hitter_y": 24.68
         },
         {
          "hitter": "Nadal",
          "hitter_x": 2.58,
          "hitter_y": 0.12
         },
         {
          "hitter": "Djokovic",
          "hitter_x": 6.67,
          "hitter_y": 21.04
         },
         {
          "hitter": "Nadal",
          "hitter_x": 6.01,
          "hitter_y": 0.68
         },
         {
          "hitter": "Nadal",
          "hitter_x": 5.94,
          "hitter_y": -0.12
         },
         {
          "hitter": "Djokovic",
          "hitter_x": 3.41,
          "hitter_y": 25.84
         },
         {
          "hitter": "Nadal",
          "hitter_x": 4.34,
          "hitter_y": -0.35
         },
         {
          "hitter": "Djokovic",
          "hitter_x": 7.6,
          "hitter_y": 25.26
         },
         {
          "hitter": "Nadal",
          "hitter_x": 6.49,
          "hitter_y": -0.65
         },
         {
          "hitter": "Djokovic",
          "hitter_x": 9.03,
          "hitter_y": 25.61
         },
         {
          "hitter": "Nadal",
          "hitter_x": 7.75,
          "hitter_y": -2.1
         },
         {
          "hitter": "Djokovic",
          "hitter_x": 6.3,
          "hitter_y": 22.9
         },
         {
          "hitter": "Nadal",
          "hitter_x": 6.04,
          "hitter_y": -0.05
         },
         {
          "hitter": "Nadal",
          "hitter_x": 6.09,
          "hitter_y": -0.08
         },
         {
          "hitter": "Djokovic",
          "hitter_x": 1.51,
          "hitter_y": 25.84
         },
         {
          "hitter": "Nadal",
          "hitter_x": 6.18,
          "hitter_y": 0.5
         },
         {
          "hitter": "Djokovic",
          "hitter_x": 4.61,
          "hitter_y": 25.97
         },
         {
          "hitter": "Nadal",
          "hitter_x": 7.62,
          "hitter_y": -0.62
         },
         {
          "hitter": "Djokovic",
          "hitter_x": 2.01,
          "hitter_y": 27.32
         },
         {
          "hitter": "Nadal",
          "hitter_x": 4.37,
          "hitter_y": -0.29
         },
         {
          "hitter": "Djokovic",
          "hitter_x": 8.94,
          "hitter_y": 25.84
         },
         {
          "hitter": "Nadal",
          "hitter_x": 7.72,
          "hitter_y": -0.84
         },
         {
          "hitter": "Nadal",
          "hitter_x": 4.3,
          "hitter_y": -0.55
         },
         {
          "hitter": "Djokovic",
          "hitter_x": 10.16,
          "hitter_y": 24.14
         },
         {
          "hitter": "Nadal",
          "hitter_x": 4.07,
          "hitter_y": -0.01
         },
         {
          "hitter": "Djokovic",
          "hitter_x": 4.23,
          "hitter_y": 26.35
         },
         {
          "hitter": "Nadal",
          "hitter_x": 5.47,
          "hitter_y": -0.87
         },
         {
          "hitter": "Nadal",
          "hitter_x": 5.65,
          "hitter_y": -0.91
         },
         {
          "hitter": "Djokovic",
          "hitter_x": 2.87,
          "hitter_y": 23.64
         },
         {
          "hitter": "Nadal",
          "hitter_x": 5.49,
          "hitter_y": -0.81
         },
         {
          "hitter": "Djokovic",
          "hitter_x": 2.2,
          "hitter_y": 26.47
         },
         {
          "hitter": "Nadal",
          "hitter_x": 7.62,
          "hitter_y": -1.12
         },
         {
          "hitter": "Djokovic",
          "hitter_x": 0.64,
          "hitter_y": 27.32
         },
         {
          "hitter": "Nadal",
          "hitter_x": 6.06,
          "hitter_y": -1.4
         },
         {
          "hitter": "Djokovic",
          "hitter_x": 6.31,
          "hitter_y": 26.24
         },
         {
          "hitter": "Nadal",
          "hitter_x": 2.94,
          "hitter_y": -1.43
         },
         {
          "hitter": "Djokovic",
          "hitter_x": 2.35,
          "hitter_y": 27.44
         },
         {
          "hitter": "Nadal",
          "hitter_x": 7.01,
          "hitter_y": -1.4
         },
         {
          "hitter": "Djokovic",
          "hitter_x": 4.57,
          "hitter_y": 25.07
         },
         {
          "hitter": "Nadal",
          "hitter_x": 3.81,
          "hitter_y": -0.84
         },
         {
          "hitter": "Nadal",
          "hitter_x": 3.78,
          "hitter_y": -0.65
         },
         {
          "hitter": "Djokovic",
          "hitter_x": 7.75,
          "hitter_y": 23.96
         },
         {
          "hitter": "Nadal",
          "hitter_x": 5.21,
          "hitter_y": -1.27
         },
         {
          "hitter": "Djokovic",
          "hitter_x": 2.23,
          "hitter_y": 25.19
         },
         {
          "hitter": "Nadal",
          "hitter_x": 7.52,
          "hitter_y": -1.69
         }
        ]
       },
       "layer": [
        {
         "data": {
          "name": "data-ce27f3aa794d6d644dd2868ce4628bd6"
         },
         "encoding": {
          "order": {
           "field": "order",
           "type": "quantitative"
          },
          "x": {
           "field": "x",
           "title": null,
           "type": "quantitative"
          },
          "y": {
           "field": "y",
           "title": null,
           "type": "quantitative"
          }
         },
         "mark": "line",
         "width": 500
        },
        {
         "data": {
          "name": "data-b2af84a32190dd8c28170de76900bcda"
         },
         "encoding": {
          "order": {
           "field": "order",
           "type": "quantitative"
          },
          "x": {
           "field": "x",
           "title": null,
           "type": "quantitative"
          },
          "y": {
           "field": "y",
           "title": null,
           "type": "quantitative"
          }
         },
         "mark": "line",
         "width": 500
        },
        {
         "data": {
          "name": "data-4797c0e744b0a9ac817bc1253269f191"
         },
         "encoding": {
          "order": {
           "field": "order",
           "type": "quantitative"
          },
          "x": {
           "field": "x",
           "title": null,
           "type": "quantitative"
          },
          "y": {
           "field": "y",
           "title": null,
           "type": "quantitative"
          }
         },
         "mark": "line",
         "width": 500
        },
        {
         "data": {
          "name": "data-c7f556b3023ba28f4541479c1c31284f"
         },
         "encoding": {
          "order": {
           "field": "order",
           "type": "quantitative"
          },
          "x": {
           "field": "x",
           "title": null,
           "type": "quantitative"
          },
          "y": {
           "field": "y",
           "title": null,
           "type": "quantitative"
          }
         },
         "mark": "line",
         "width": 500
        },
        {
         "data": {
          "name": "data-a3fc29de1d914850e8722e53400f185f"
         },
         "encoding": {
          "x": {
           "field": "x",
           "title": null,
           "type": "quantitative"
          },
          "y": {
           "field": "y",
           "title": null,
           "type": "quantitative"
          }
         },
         "mark": {
          "strokeDash": [
           10,
           10
          ],
          "type": "line"
         },
         "width": 500
        },
        {
         "data": {
          "name": "data-dd33db1ae2ba289717499e09d234da10"
         },
         "encoding": {
          "color": {
           "field": "hitter",
           "type": "nominal"
          },
          "x": {
           "field": "hitter_y",
           "scale": {
            "domain": [
             -10,
             34
            ]
           },
           "title": null,
           "type": "quantitative"
          },
          "y": {
           "field": "hitter_x",
           "scale": {
            "domain": [
             -4,
             13.97
            ]
           },
           "title": null,
           "type": "quantitative"
          }
         },
         "mark": "point"
        }
       ]
      },
      "image/png": "[encoded data removed]",
      "text/plain": [
       "<VegaLite 4 object>\n",
       "\n",
       "If you see this message, it means the renderer has not been properly enabled\n",
       "for the frontend that you are using. For more information, see\n",
       "https://altair-viz.github.io/user_guide/troubleshooting.html\n"
      ]
     },
     "execution_count": 65,
     "metadata": {},
     "output_type": "execute_result"
    }
   ],
   "source": [
    "court + points_plot"
   ]
  },
  {
   "cell_type": "markdown",
   "metadata": {},
   "source": [
    "#### A look at the location of the winners returned by won by each player"
   ]
  },
  {
   "cell_type": "markdown",
   "metadata": {},
   "source": [
    "* We are aware that some of the locations of the points is incorrect, that's why I am filtering those points."
   ]
  },
  {
   "cell_type": "code",
   "execution_count": 42,
   "metadata": {},
   "outputs": [],
   "source": [
    "winner_points = points.query('reason == \"winner\" ')"
   ]
  },
  {
   "cell_type": "code",
   "execution_count": 56,
   "metadata": {},
   "outputs": [],
   "source": [
    "winner_balls = alt.Chart(winner_points).mark_point(size = 50).encode(\n",
    "    x = alt.X('y:Q', title = None,  scale=alt.Scale(domain=[-10, 34])),\n",
    "    y = alt.Y('x:Q', title = None , scale=alt.Scale(domain=[-4, 13.97])),\n",
    "    color = \"winner\"\n",
    ").properties(title = \"Winners Locations\")"
   ]
  },
  {
   "cell_type": "code",
   "execution_count": 66,
   "metadata": {},
   "outputs": [
    {
     "data": {
      "application/vnd.vegalite.v4+json": {
       "$schema": "https://vega.github.io/schema/vega-lite/v4.0.2.json",
       "config": {
        "view": {
         "continuousHeight": 300,
         "continuousWidth": 400
        }
       },
       "datasets": {
        "data-1301b230f73560f9ad5568d29a145fc5": [
         {
          "rallyid": 1,
          "reason": "winner",
          "returner": "Nadal",
          "score": "0:0, 15:0",
          "serve": "first",
          "server": "Djokovic",
          "strokes": 3,
          "totaltime": 0.92,
          "winner": "Djokovic",
          "x": 1.92,
          "y": 21.96
         },
         {
          "rallyid": 9,
          "reason": "winner",
          "returner": "Djokovic",
          "score": "1:0, 30:0",
          "serve": "first",
          "server": "Nadal",
          "strokes": 12,
          "totaltime": 0.920000000000016,
          "winner": "Djokovic",
          "x": 3.65,
          "y": 9.5
         },
         {
          "rallyid": 11,
          "reason": "winner",
          "returner": "Djokovic",
          "score": "1:0, 30:15",
          "serve": "first",
          "server": "Nadal",
          "strokes": 4,
          "totaltime": 1.079999999999984,
          "winner": "Nadal",
          "x": 7.34,
          "y": 18.76
         },
         {
          "rallyid": 20,
          "reason": "winner",
          "returner": "Djokovic",
          "score": "3:0, 15:0",
          "serve": "first",
          "server": "Nadal",
          "strokes": 12,
          "totaltime": 12.920000000000071,
          "winner": "Djokovic",
          "x": 0.53,
          "y": 21.45
         },
         {
          "rallyid": 24,
          "reason": "winner",
          "returner": "Djokovic",
          "score": "3:0, 30:15",
          "serve": "first",
          "server": "Nadal",
          "strokes": 4,
          "totaltime": 0.7199999999999136,
          "winner": "Djokovic",
          "x": 7.3,
          "y": 22.58
         },
         {
          "rallyid": 25,
          "reason": "winner",
          "returner": "Djokovic",
          "score": "3:0, 30:30",
          "serve": "first",
          "server": "Nadal",
          "strokes": 3,
          "totaltime": 2.519999999999982,
          "winner": "Nadal",
          "x": 8.4,
          "y": 3.22
         },
         {
          "rallyid": 34,
          "reason": "winner",
          "returner": "Nadal",
          "score": "4:1, 0:0",
          "serve": "first",
          "server": "Djokovic",
          "strokes": 5,
          "totaltime": 0.7200000000000273,
          "winner": "Djokovic",
          "x": 7.33,
          "y": 20.36
         },
         {
          "rallyid": 38,
          "reason": "winner",
          "returner": "Djokovic",
          "score": "4:1, 15:30",
          "serve": "first",
          "server": "Nadal",
          "strokes": 3,
          "totaltime": 3.1200000000001182,
          "winner": "Nadal",
          "x": 3.19,
          "y": 16.26
         },
         {
          "rallyid": 48,
          "reason": "winner",
          "returner": "Nadal",
          "score": "4:2, 40:0",
          "serve": "second",
          "server": "Djokovic",
          "strokes": 4,
          "totaltime": 3.4400000000000546,
          "winner": "Djokovic",
          "x": 1,
          "y": -3.57
         },
         {
          "rallyid": 49,
          "reason": "winner",
          "returner": "Nadal",
          "score": "5:2, 0:0",
          "serve": "first",
          "server": "Djokovic",
          "strokes": 3,
          "totaltime": 1.9600000000000364,
          "winner": "Djokovic",
          "x": 8.16,
          "y": 4.3
         },
         {
          "rallyid": 51,
          "reason": "winner",
          "returner": "Djokovic",
          "score": "5:2, 0:15",
          "serve": "second",
          "server": "Nadal",
          "strokes": 7,
          "totaltime": 7.079999999999927,
          "winner": "Nadal",
          "x": 8.4,
          "y": 0.61
         },
         {
          "rallyid": 57,
          "reason": "winner",
          "returner": "Djokovic",
          "score": "5:3, 0:0",
          "serve": "first",
          "server": "Nadal",
          "strokes": 3,
          "totaltime": 2.3600000000001278,
          "winner": "Nadal",
          "x": 8.34,
          "y": 1.15
         },
         {
          "rallyid": 62,
          "reason": "winner",
          "returner": "Nadal",
          "score": "5:3, 30:15",
          "serve": "second",
          "server": "Djokovic",
          "strokes": 11,
          "totaltime": 12.639999999000338,
          "winner": "Djokovic",
          "x": 0.78,
          "y": 20.16
         },
         {
          "rallyid": 66,
          "reason": "winner",
          "returner": "Djokovic",
          "score": "6:3 0:0, 15:15",
          "serve": "first",
          "server": "Nadal",
          "strokes": 3,
          "totaltime": 0.8799999999996544,
          "winner": "Nadal",
          "x": 1.67,
          "y": 20.06
         },
         {
          "rallyid": 70,
          "reason": "winner",
          "returner": "Djokovic",
          "score": "6:3 0:0, 30:30",
          "serve": "second",
          "server": "Nadal",
          "strokes": 4,
          "totaltime": 3.4400000000000546,
          "winner": "Djokovic",
          "x": 1.4,
          "y": 1.59
         },
         {
          "rallyid": 71,
          "reason": "winner",
          "returner": "Djokovic",
          "score": "6:3 0:0, 30:40",
          "serve": "first",
          "server": "Nadal",
          "strokes": 2,
          "totaltime": 0,
          "winner": "Nadal",
          "x": 4.84,
          "y": 29.68
         },
         {
          "rallyid": 73,
          "reason": "winner",
          "returner": "Djokovic",
          "score": "6:3 0:1, 0:0",
          "serve": "second",
          "server": "Nadal",
          "strokes": 3,
          "totaltime": 1.7600000000002185,
          "winner": "Nadal",
          "x": 1.92,
          "y": 21.65
         },
         {
          "rallyid": 84,
          "reason": "winner",
          "returner": "Djokovic",
          "score": "6:3 1:1, 30:30",
          "serve": "second",
          "server": "Nadal",
          "strokes": 3,
          "totaltime": 2,
          "winner": "Nadal",
          "x": 9.26,
          "y": 0.58
         },
         {
          "rallyid": 86,
          "reason": "winner",
          "returner": "Djokovic",
          "score": "6:3 1:1, 30:40",
          "serve": "second",
          "server": "Nadal",
          "strokes": 7,
          "totaltime": 7.200000000000273,
          "winner": "Nadal",
          "x": 1.61,
          "y": 6.54
         },
         {
          "rallyid": 94,
          "reason": "winner",
          "returner": "Nadal",
          "score": "6:3 2:2, 0:0",
          "serve": "first",
          "server": "Djokovic",
          "strokes": 2,
          "totaltime": 0,
          "winner": "Djokovic",
          "x": 5.46,
          "y": -1.77
         },
         {
          "rallyid": 108,
          "reason": "winner",
          "returner": "Nadal",
          "score": "6:3 3:2, 30:30",
          "serve": "second",
          "server": "Djokovic",
          "strokes": 7,
          "totaltime": 7.920000000000073,
          "winner": "Djokovic",
          "x": 0.8,
          "y": 21.85
         },
         {
          "rallyid": 111,
          "reason": "winner",
          "returner": "Nadal",
          "score": "6:3 3:2, Ad:40",
          "serve": "first",
          "server": "Djokovic",
          "strokes": 7,
          "totaltime": 0.8399999999996908,
          "winner": "Djokovic",
          "x": 7.57,
          "y": 21.55
         },
         {
          "rallyid": 112,
          "reason": "winner",
          "returner": "Nadal",
          "score": "6:3 3:2, 40:40",
          "serve": "first",
          "server": "Djokovic",
          "strokes": 8,
          "totaltime": 10.039999999999964,
          "winner": "Nadal",
          "x": 8.35,
          "y": 0.26
         },
         {
          "rallyid": 117,
          "reason": "winner",
          "returner": "Djokovic",
          "score": "6:3 4:2, 0:15",
          "serve": "second",
          "server": "Nadal",
          "strokes": 7,
          "totaltime": 6.59999999899992,
          "winner": "Nadal",
          "x": 7.57,
          "y": 10.17
         },
         {
          "rallyid": 120,
          "reason": "winner",
          "returner": "Djokovic",
          "score": "6:3 4:2, 30:15",
          "serve": "first",
          "server": "Nadal",
          "strokes": 14,
          "totaltime": 1.8800000000001087,
          "winner": "Djokovic",
          "x": 8.23,
          "y": 20.65
         },
         {
          "rallyid": 122,
          "reason": "winner",
          "returner": "__undefined__",
          "score": "6:3 4:2, 40:15",
          "serve": "first",
          "server": "Nadal",
          "strokes": 8,
          "totaltime": 8.840000000000147,
          "winner": "Djokovic",
          "x": 8.14,
          "y": 22.17
         },
         {
          "rallyid": 125,
          "reason": "winner",
          "returner": "Nadal",
          "score": "6:3 5:2, 15:0",
          "serve": "second",
          "server": "Djokovic",
          "strokes": 3,
          "totaltime": 1.8800000000001087,
          "winner": "Djokovic",
          "x": 2.13,
          "y": 0.54
         },
         {
          "rallyid": 130,
          "reason": "winner",
          "returner": "Djokovic",
          "score": "6:3 6:2 0:0, 0:15",
          "serve": "second",
          "server": "Nadal",
          "strokes": 7,
          "totaltime": 2.4799999999995634,
          "winner": "Nadal",
          "x": 0.68,
          "y": 21.85
         },
         {
          "rallyid": 131,
          "reason": "winner",
          "returner": "Djokovic",
          "score": "6:3 6:2 0:0, 15:15",
          "serve": "first",
          "server": "Nadal",
          "strokes": 12,
          "totaltime": 14.480000000000473,
          "winner": "Djokovic",
          "x": 1,
          "y": 7.21
         },
         {
          "rallyid": 135,
          "reason": "winner",
          "returner": "Djokovic",
          "score": "6:3 6:2 0:0, 30:40",
          "serve": "first",
          "server": "Nadal",
          "strokes": 7,
          "totaltime": 7.199999999999817,
          "winner": "Nadal",
          "x": 1.63,
          "y": 17.26
         },
         {
          "rallyid": 149,
          "reason": "winner",
          "returner": "Djokovic",
          "score": "6:3 6:2 1:1, 15:15",
          "serve": "second",
          "server": "Nadal",
          "strokes": 2,
          "totaltime": 0.9200000000000728,
          "winner": "Djokovic",
          "x": 8.67,
          "y": 11.43
         },
         {
          "rallyid": 156,
          "reason": "winner",
          "returner": "Nadal",
          "score": "6:3 6:2 2:1, 0:15",
          "serve": "first",
          "server": "Djokovic",
          "strokes": 8,
          "totaltime": 8.960000000000036,
          "winner": "Nadal",
          "x": 8.21,
          "y": 20.84
         },
         {
          "rallyid": 157,
          "reason": "winner",
          "returner": "Nadal",
          "score": "6:3 6:2 2:1, 15:15",
          "serve": "first",
          "server": "Djokovic",
          "strokes": 3,
          "totaltime": 2.5199999999995266,
          "winner": "Djokovic",
          "x": 2.77,
          "y": 5.36
         },
         {
          "rallyid": 160,
          "reason": "winner",
          "returner": null,
          "score": "6:3 6:2 2:1, 40:15",
          "serve": "second",
          "server": "Djokovic",
          "strokes": 3,
          "totaltime": 1.0399999999999636,
          "winner": "Djokovic",
          "x": 6.64,
          "y": 6.79
         },
         {
          "rallyid": 161,
          "reason": "winner",
          "returner": "Nadal",
          "score": "6:3 6:2 3:1, 0:0",
          "serve": "first",
          "server": "Djokovic",
          "strokes": 11,
          "totaltime": 0.6799999999993815,
          "winner": "Djokovic",
          "x": 1.08,
          "y": 4.57
         },
         {
          "rallyid": 162,
          "reason": "winner",
          "returner": "Djokovic",
          "score": "6:3 6:2 3:1, 0:15",
          "serve": "first",
          "server": "Nadal",
          "strokes": 3,
          "totaltime": 2.5599999999994907,
          "winner": "Nadal",
          "x": 1.55,
          "y": 21.96
         },
         {
          "rallyid": 168,
          "reason": "winner",
          "returner": "Djokovic",
          "score": "6:3 6:2 3:2, 0:0",
          "serve": "second",
          "server": "Nadal",
          "strokes": 5,
          "totaltime": 4.399999999999637,
          "winner": "Nadal",
          "x": 1.83,
          "y": 16.18
         },
         {
          "rallyid": 178,
          "reason": "winner",
          "returner": "Nadal",
          "score": "6:3 6:2 4:2, 0:0",
          "serve": "first",
          "server": "Djokovic",
          "strokes": 3,
          "totaltime": 2.4000000000005457,
          "winner": "Djokovic",
          "x": 1.89,
          "y": 19.59
         },
         {
          "rallyid": 179,
          "reason": "winner",
          "returner": "Djokovic",
          "score": "6:3 6:2 4:2, 15:0",
          "serve": "first",
          "server": "Nadal",
          "strokes": 4,
          "totaltime": 3.4800000000004734,
          "winner": "Djokovic",
          "x": 8.18,
          "y": 19.78
         },
         {
          "rallyid": 189,
          "reason": "winner",
          "returner": "Nadal",
          "score": "6:3 6:2 4:3, 15:15",
          "serve": "first",
          "server": "Djokovic",
          "strokes": 7,
          "totaltime": 7.440000000000509,
          "winner": "Djokovic",
          "x": 6.57,
          "y": 5.75
         },
         {
          "rallyid": 196,
          "reason": "winner",
          "returner": null,
          "score": "6:3 6:2 5:3, 0:0",
          "serve": "first",
          "server": "Djokovic",
          "strokes": 7,
          "totaltime": 7.9600000000000355,
          "winner": "Djokovic",
          "x": 6.58,
          "y": 12.03
         },
         {
          "rallyid": 199,
          "reason": "winner",
          "returner": "Djokovic",
          "score": "6:3 6:2 5:3, 15:15",
          "serve": "first",
          "server": "Nadal",
          "strokes": 6,
          "totaltime": 6.599999999999454,
          "winner": "Djokovic",
          "x": 2.44,
          "y": 4.71
         },
         {
          "rallyid": 202,
          "reason": "winner",
          "returner": "Djokovic",
          "score": "6:3 6:2 5:3, 40:15",
          "serve": "first",
          "server": "Nadal",
          "strokes": 4,
          "totaltime": 3.0799999999999272,
          "winner": "Djokovic",
          "x": 1.88,
          "y": 3.36
         }
        ],
        "data-4797c0e744b0a9ac817bc1253269f191": [
         {
          "order": 1,
          "x": 23.78,
          "y": 1.37
         },
         {
          "order": 2,
          "x": 0,
          "y": 1.37
         }
        ],
        "data-a3fc29de1d914850e8722e53400f185f": [
         {
          "x": 11.89,
          "y": 0
         },
         {
          "x": 11.89,
          "y": 10.97
         }
        ],
        "data-b2af84a32190dd8c28170de76900bcda": [
         {
          "order": 1,
          "x": 5.5,
          "y": 1.37
         },
         {
          "order": 2,
          "x": 5.5,
          "y": 9.6
         },
         {
          "order": 3,
          "x": 5.5,
          "y": 5.5
         },
         {
          "order": 4,
          "x": 18.385,
          "y": 5.5
         },
         {
          "order": 5,
          "x": 18.385,
          "y": 1.37
         },
         {
          "order": 6,
          "x": 18.385,
          "y": 9.6
         }
        ],
        "data-c7f556b3023ba28f4541479c1c31284f": [
         {
          "order": 1,
          "x": 23.78,
          "y": 9.6
         },
         {
          "order": 2,
          "x": 0,
          "y": 9.6
         }
        ],
        "data-ce27f3aa794d6d644dd2868ce4628bd6": [
         {
          "order": 1,
          "x": 0,
          "y": 0
         },
         {
          "order": 2,
          "x": 0,
          "y": 10.97
         },
         {
          "order": 3,
          "x": 23.78,
          "y": 10.97
         },
         {
          "order": 4,
          "x": 23.78,
          "y": 0
         },
         {
          "order": 5,
          "x": 0,
          "y": 0
         }
        ]
       },
       "layer": [
        {
         "data": {
          "name": "data-ce27f3aa794d6d644dd2868ce4628bd6"
         },
         "encoding": {
          "order": {
           "field": "order",
           "type": "quantitative"
          },
          "x": {
           "field": "x",
           "title": null,
           "type": "quantitative"
          },
          "y": {
           "field": "y",
           "title": null,
           "type": "quantitative"
          }
         },
         "mark": "line",
         "width": 500
        },
        {
         "data": {
          "name": "data-b2af84a32190dd8c28170de76900bcda"
         },
         "encoding": {
          "order": {
           "field": "order",
           "type": "quantitative"
          },
          "x": {
           "field": "x",
           "title": null,
           "type": "quantitative"
          },
          "y": {
           "field": "y",
           "title": null,
           "type": "quantitative"
          }
         },
         "mark": "line",
         "width": 500
        },
        {
         "data": {
          "name": "data-4797c0e744b0a9ac817bc1253269f191"
         },
         "encoding": {
          "order": {
           "field": "order",
           "type": "quantitative"
          },
          "x": {
           "field": "x",
           "title": null,
           "type": "quantitative"
          },
          "y": {
           "field": "y",
           "title": null,
           "type": "quantitative"
          }
         },
         "mark": "line",
         "width": 500
        },
        {
         "data": {
          "name": "data-c7f556b3023ba28f4541479c1c31284f"
         },
         "encoding": {
          "order": {
           "field": "order",
           "type": "quantitative"
          },
          "x": {
           "field": "x",
           "title": null,
           "type": "quantitative"
          },
          "y": {
           "field": "y",
           "title": null,
           "type": "quantitative"
          }
         },
         "mark": "line",
         "width": 500
        },
        {
         "data": {
          "name": "data-a3fc29de1d914850e8722e53400f185f"
         },
         "encoding": {
          "x": {
           "field": "x",
           "title": null,
           "type": "quantitative"
          },
          "y": {
           "field": "y",
           "title": null,
           "type": "quantitative"
          }
         },
         "mark": {
          "strokeDash": [
           10,
           10
          ],
          "type": "line"
         },
         "width": 500
        },
        {
         "data": {
          "name": "data-1301b230f73560f9ad5568d29a145fc5"
         },
         "encoding": {
          "color": {
           "field": "winner",
           "type": "nominal"
          },
          "x": {
           "field": "y",
           "scale": {
            "domain": [
             -10,
             34
            ]
           },
           "title": null,
           "type": "quantitative"
          },
          "y": {
           "field": "x",
           "scale": {
            "domain": [
             -4,
             13.97
            ]
           },
           "title": null,
           "type": "quantitative"
          }
         },
         "mark": {
          "size": 50,
          "type": "point"
         },
         "title": "Winners Locations"
        }
       ]
      },
      "image/png": "[encoded data removed]",
      "text/plain": [
       "<VegaLite 4 object>\n",
       "\n",
       "If you see this message, it means the renderer has not been properly enabled\n",
       "for the frontend that you are using. For more information, see\n",
       "https://altair-viz.github.io/user_guide/troubleshooting.html\n"
      ]
     },
     "execution_count": 66,
     "metadata": {},
     "output_type": "execute_result"
    }
   ],
   "source": [
    "court + winner_balls"
   ]
  },
  {
   "cell_type": "markdown",
   "metadata": {},
   "source": [
    "* Nadal winners are very close to the line compared to Djokovic winners.\n",
    "* We can also see that there is an error in the recorded location of the winners."
   ]
  },
  {
   "cell_type": "markdown",
   "metadata": {},
   "source": [
    "#### A closer look for the location of the two players on wrong returns"
   ]
  },
  {
   "cell_type": "code",
   "execution_count": 45,
   "metadata": {},
   "outputs": [],
   "source": [
    "out = points.query('reason == \"out\"')[['rallyid', 'strokes']]\n",
    "out = out.rename(columns = {'strokes' : 'strokeid'}).reset_index().drop(columns = 'index')"
   ]
  },
  {
   "cell_type": "code",
   "execution_count": 46,
   "metadata": {},
   "outputs": [],
   "source": [
    "full_out = pd.merge(out, events, on = ['rallyid', 'strokeid'])"
   ]
  },
  {
   "cell_type": "code",
   "execution_count": 52,
   "metadata": {},
   "outputs": [],
   "source": [
    "Nadal_out = alt.Chart(full_out.query('hitter == \"Nadal\"')).mark_point(size = 50).encode(\n",
    "    x = alt.X('hitter_y:Q', title = None,  scale=alt.Scale(domain=[-10, 34])),\n",
    "    y = alt.Y('hitter_x:Q', title = None , scale=alt.Scale(domain=[-4, 13.97])),\n",
    "    color = \"stroke\"\n",
    ").properties(title = \"Nadal's Faults Locations\")"
   ]
  },
  {
   "cell_type": "code",
   "execution_count": 67,
   "metadata": {},
   "outputs": [
    {
     "data": {
      "application/vnd.vegalite.v4+json": {
       "$schema": "https://vega.github.io/schema/vega-lite/v4.0.2.json",
       "config": {
        "view": {
         "continuousHeight": 300,
         "continuousWidth": 400
        }
       },
       "datasets": {
        "data-4797c0e744b0a9ac817bc1253269f191": [
         {
          "order": 1,
          "x": 23.78,
          "y": 1.37
         },
         {
          "order": 2,
          "x": 0,
          "y": 1.37
         }
        ],
        "data-a3fc29de1d914850e8722e53400f185f": [
         {
          "x": 11.89,
          "y": 0
         },
         {
          "x": 11.89,
          "y": 10.97
         }
        ],
        "data-b2af84a32190dd8c28170de76900bcda": [
         {
          "order": 1,
          "x": 5.5,
          "y": 1.37
         },
         {
          "order": 2,
          "x": 5.5,
          "y": 9.6
         },
         {
          "order": 3,
          "x": 5.5,
          "y": 5.5
         },
         {
          "order": 4,
          "x": 18.385,
          "y": 5.5
         },
         {
          "order": 5,
          "x": 18.385,
          "y": 1.37
         },
         {
          "order": 6,
          "x": 18.385,
          "y": 9.6
         }
        ],
        "data-c7f556b3023ba28f4541479c1c31284f": [
         {
          "order": 1,
          "x": 23.78,
          "y": 9.6
         },
         {
          "order": 2,
          "x": 0,
          "y": 9.6
         }
        ],
        "data-ce27f3aa794d6d644dd2868ce4628bd6": [
         {
          "order": 1,
          "x": 0,
          "y": 0
         },
         {
          "order": 2,
          "x": 0,
          "y": 10.97
         },
         {
          "order": 3,
          "x": 23.78,
          "y": 10.97
         },
         {
          "order": 4,
          "x": 23.78,
          "y": 0
         },
         {
          "order": 5,
          "x": 0,
          "y": 0
         }
        ],
        "data-ee56faf1a6ed16551382ba3cd71e3835": [
         {
          "frameid": 71900,
          "hitter": "Nadal",
          "hitter_x": 8.14,
          "hitter_y": 27.07,
          "isserve": false,
          "rallyid": 3,
          "receiver": "Djokovic",
          "receiver_x": 3.12,
          "receiver_y": -0.94,
          "serve": "second",
          "stroke": "forehand",
          "strokeid": 4,
          "time": 40.92,
          "type": "topspin"
         },
         {
          "frameid": 76065,
          "hitter": "Nadal",
          "hitter_x": 2.72,
          "hitter_y": -1.83,
          "isserve": false,
          "rallyid": 8,
          "receiver": "Djokovic",
          "receiver_x": 4.42,
          "receiver_y": 25.61,
          "serve": "first",
          "stroke": "forehand",
          "strokeid": 7,
          "time": 207.52,
          "type": "topspin"
         },
         {
          "frameid": 81345,
          "hitter": "Nadal",
          "hitter_x": 9.3,
          "hitter_y": 2.77,
          "isserve": false,
          "rallyid": 14,
          "receiver": "Djokovic",
          "receiver_x": 3.12,
          "receiver_y": 25.37,
          "serve": "first",
          "stroke": "forehand",
          "strokeid": 3,
          "time": 418.72,
          "type": "topspin"
         },
         {
          "frameid": 82445,
          "hitter": "Nadal",
          "hitter_x": 7.38,
          "hitter_y": -2.53,
          "isserve": false,
          "rallyid": 15,
          "receiver": "Djokovic",
          "receiver_x": 3.92,
          "receiver_y": 21.45,
          "serve": "first",
          "stroke": "forehand",
          "strokeid": 2,
          "time": 462.72,
          "type": "topspin"
         },
         {
          "frameid": 83375,
          "hitter": "Nadal",
          "hitter_x": 2.51,
          "hitter_y": 0.97,
          "isserve": false,
          "rallyid": 17,
          "receiver": "Djokovic",
          "receiver_x": 5.15,
          "receiver_y": 30.93,
          "serve": "first",
          "stroke": "forehand",
          "strokeid": 4,
          "time": 499.92,
          "type": "topspin"
         },
         {
          "frameid": 84095,
          "hitter": "Nadal",
          "hitter_x": 7.15,
          "hitter_y": -0.22,
          "isserve": false,
          "rallyid": 18,
          "receiver": "__undefined__",
          "receiver_x": 4.24,
          "receiver_y": 21.96,
          "serve": "first",
          "stroke": "backhand",
          "strokeid": 6,
          "time": 528.72,
          "type": "slice"
         },
         {
          "frameid": 91769,
          "hitter": "Nadal",
          "hitter_x": 6.02,
          "hitter_y": 26.57,
          "isserve": false,
          "rallyid": 26,
          "receiver": "Djokovic",
          "receiver_x": 2.7,
          "receiver_y": 0.93,
          "serve": "first",
          "stroke": "backhand",
          "strokeid": 7,
          "time": 835.6800000000002,
          "type": "topspin"
         },
         {
          "frameid": 100674,
          "hitter": "Nadal",
          "hitter_x": 4.6,
          "hitter_y": -0.94,
          "isserve": false,
          "rallyid": 36,
          "receiver": "Djokovic",
          "receiver_x": 3.95,
          "receiver_y": 24.56,
          "serve": "first",
          "stroke": "forehand",
          "strokeid": 3,
          "time": 1191.88,
          "type": "topspin"
         },
         {
          "frameid": 103831,
          "hitter": "Nadal",
          "hitter_x": 0.73,
          "hitter_y": -1.06,
          "isserve": false,
          "rallyid": 40,
          "receiver": "__undefined__",
          "receiver_x": 8.18,
          "receiver_y": 23.67,
          "serve": "first",
          "stroke": "forehand",
          "strokeid": 11,
          "time": 1318.16,
          "type": "topspin"
         },
         {
          "frameid": 108815,
          "hitter": "Nadal",
          "hitter_x": 1.3,
          "hitter_y": -1.53,
          "isserve": false,
          "rallyid": 46,
          "receiver": "Djokovic",
          "receiver_x": 6.27,
          "receiver_y": 26.21,
          "serve": "first",
          "stroke": "forehand",
          "strokeid": 14,
          "time": 1517.52,
          "type": "topspin"
         },
         {
          "frameid": 121032,
          "hitter": "Nadal",
          "hitter_x": 2.9,
          "hitter_y": 24.22,
          "isserve": false,
          "rallyid": 60,
          "receiver": "Djokovic",
          "receiver_x": 6.28,
          "receiver_y": -2.81,
          "serve": "first",
          "stroke": "forehand",
          "strokeid": 6,
          "time": 2006.2,
          "type": "topspin"
         },
         {
          "frameid": 129906,
          "hitter": "Nadal",
          "hitter_x": 3.2,
          "hitter_y": 4.53,
          "isserve": false,
          "rallyid": 65,
          "receiver": "Djokovic",
          "receiver_x": 8.51,
          "receiver_y": 26.33,
          "serve": "first",
          "stroke": "forehand",
          "strokeid": 5,
          "time": 2361.1600000000008,
          "type": "volley"
         },
         {
          "frameid": 140958,
          "hitter": "Nadal",
          "hitter_x": 0.22,
          "hitter_y": 14.01,
          "isserve": false,
          "rallyid": 81,
          "receiver": "Djokovic",
          "receiver_x": 7.57,
          "receiver_y": -1.1,
          "serve": "first",
          "stroke": "backhand",
          "strokeid": 5,
          "time": 2803.24,
          "type": "topspin"
         },
         {
          "frameid": 150668,
          "hitter": "Nadal",
          "hitter_x": 6.23,
          "hitter_y": -2.13,
          "isserve": false,
          "rallyid": 92,
          "receiver": "Djokovic",
          "receiver_x": 3.38,
          "receiver_y": 21.85,
          "serve": "first",
          "stroke": "forehand",
          "strokeid": 2,
          "time": 3191.640000000001,
          "type": "return"
         },
         {
          "frameid": 151442,
          "hitter": "Nadal",
          "hitter_x": 5.01,
          "hitter_y": 3.1,
          "isserve": false,
          "rallyid": 93,
          "receiver": "Djokovic",
          "receiver_x": 3.76,
          "receiver_y": 29.27,
          "serve": "first",
          "stroke": "forehand",
          "strokeid": 6,
          "time": 3222.600000000001,
          "type": "topspin"
         },
         {
          "frameid": 154167,
          "hitter": "Nadal",
          "hitter_x": 8.9,
          "hitter_y": -0.78,
          "isserve": false,
          "rallyid": 96,
          "receiver": "Djokovic",
          "receiver_x": 3.62,
          "receiver_y": 25.37,
          "serve": "second",
          "stroke": "backhand",
          "strokeid": 15,
          "time": 3331.600000000001,
          "type": "topspin"
         },
         {
          "frameid": 155122,
          "hitter": "Nadal",
          "hitter_x": 9.4,
          "hitter_y": -1.13,
          "isserve": false,
          "rallyid": 97,
          "receiver": "Djokovic",
          "receiver_x": 2.72,
          "receiver_y": 27.32,
          "serve": "first",
          "stroke": "forehand",
          "strokeid": 5,
          "time": 3369.8,
          "type": "topspin"
         },
         {
          "frameid": 157982,
          "hitter": "Nadal",
          "hitter_x": 8.03,
          "hitter_y": 10.41,
          "isserve": false,
          "rallyid": 101,
          "receiver": "Djokovic",
          "receiver_x": 6.95,
          "receiver_y": 17.52,
          "serve": "first",
          "stroke": "backhand",
          "strokeid": 2,
          "time": 3484.2000000000007,
          "type": "volley"
         },
         {
          "frameid": 162365,
          "hitter": "Nadal",
          "hitter_x": -1.22,
          "hitter_y": 26.82,
          "isserve": false,
          "rallyid": 104,
          "receiver": "Djokovic",
          "receiver_x": 3.81,
          "receiver_y": 4.71,
          "serve": "first",
          "stroke": "backhand",
          "strokeid": 4,
          "time": 3659.52,
          "type": "topspin"
         },
         {
          "frameid": 165982,
          "hitter": "Nadal",
          "hitter_x": 2.44,
          "hitter_y": 27.19,
          "isserve": false,
          "rallyid": 109,
          "receiver": "Djokovic",
          "receiver_x": 2.44,
          "receiver_y": 0.26,
          "serve": "first",
          "stroke": "backhand",
          "strokeid": 14,
          "time": 3804.2,
          "type": "topspin"
         },
         {
          "frameid": 170979,
          "hitter": "Nadal",
          "hitter_x": 8.28,
          "hitter_y": 25.61,
          "isserve": false,
          "rallyid": 114,
          "receiver": "Djokovic",
          "receiver_x": 3.34,
          "receiver_y": -2.07,
          "serve": "second",
          "stroke": "forehand",
          "strokeid": 8,
          "time": 4004.08,
          "type": "topspin"
         },
         {
          "frameid": 201313,
          "hitter": "Nadal",
          "hitter_x": 4.12,
          "hitter_y": 26.94,
          "isserve": false,
          "rallyid": 141,
          "receiver": "Djokovic",
          "receiver_x": 4.29,
          "receiver_y": -1.25,
          "serve": "second",
          "stroke": "backhand",
          "strokeid": 4,
          "time": 5217.440000000001,
          "type": "topspin"
         },
         {
          "frameid": 202205,
          "hitter": "Nadal",
          "hitter_x": 2.57,
          "hitter_y": 24.79,
          "isserve": false,
          "rallyid": 143,
          "receiver": "Djokovic",
          "receiver_x": 5.84,
          "receiver_y": 0.15,
          "serve": "second",
          "stroke": "forehand",
          "strokeid": 2,
          "time": 5253.12,
          "type": "return"
         },
         {
          "frameid": 203411,
          "hitter": "Nadal",
          "hitter_x": 9.17,
          "hitter_y": 23.77,
          "isserve": false,
          "rallyid": 146,
          "receiver": "Djokovic",
          "receiver_x": 4.36,
          "receiver_y": -0.12,
          "serve": "first",
          "stroke": "forehand",
          "strokeid": 2,
          "time": 5301.3600000000015,
          "type": "return"
         },
         {
          "frameid": 207392,
          "hitter": "Nadal",
          "hitter_x": 9.42,
          "hitter_y": 23.23,
          "isserve": false,
          "rallyid": 152,
          "receiver": null,
          "receiver_x": null,
          "receiver_y": null,
          "serve": "first",
          "stroke": "forehand",
          "strokeid": 11,
          "time": 5460.6,
          "type": "topspin"
         },
         {
          "frameid": 215568,
          "hitter": "Nadal",
          "hitter_x": 10.8,
          "hitter_y": -0.94,
          "isserve": false,
          "rallyid": 158,
          "receiver": "Djokovic",
          "receiver_x": 3.27,
          "receiver_y": 23.45,
          "serve": "first",
          "stroke": "backhand",
          "strokeid": 2,
          "time": 5787.64,
          "type": "return"
         },
         {
          "frameid": 220548,
          "hitter": "Nadal",
          "hitter_x": 4.35,
          "hitter_y": 1.56,
          "isserve": false,
          "rallyid": 165,
          "receiver": "Djokovic",
          "receiver_x": 6.2,
          "receiver_y": 24.33,
          "serve": "first",
          "stroke": "forehand",
          "strokeid": 3,
          "time": 5986.84,
          "type": "topspin"
         },
         {
          "frameid": 243146,
          "hitter": "Nadal",
          "hitter_x": 6.4,
          "hitter_y": -1.22,
          "isserve": false,
          "rallyid": 190,
          "receiver": "Djokovic",
          "receiver_x": 3.13,
          "receiver_y": 22.27,
          "serve": "first",
          "stroke": "forehand",
          "strokeid": 2,
          "time": 6890.76,
          "type": "return"
         },
         {
          "frameid": 247601,
          "hitter": "Nadal",
          "hitter_x": 10.8,
          "hitter_y": -0.91,
          "isserve": false,
          "rallyid": 195,
          "receiver": "Djokovic",
          "receiver_x": 2.81,
          "receiver_y": 23.33,
          "serve": "first",
          "stroke": "backhand",
          "strokeid": 2,
          "time": 7068.96,
          "type": "topspin"
         },
         {
          "frameid": 256892,
          "hitter": "Nadal",
          "hitter_x": 7.52,
          "hitter_y": -1.69,
          "isserve": false,
          "rallyid": 206,
          "receiver": "Djokovic",
          "receiver_x": 3.26,
          "receiver_y": 26.24,
          "serve": "second",
          "stroke": "backhand",
          "strokeid": 5,
          "time": 7440.6,
          "type": "topspin"
         }
        ]
       },
       "layer": [
        {
         "data": {
          "name": "data-ce27f3aa794d6d644dd2868ce4628bd6"
         },
         "encoding": {
          "order": {
           "field": "order",
           "type": "quantitative"
          },
          "x": {
           "field": "x",
           "title": null,
           "type": "quantitative"
          },
          "y": {
           "field": "y",
           "title": null,
           "type": "quantitative"
          }
         },
         "mark": "line",
         "width": 500
        },
        {
         "data": {
          "name": "data-b2af84a32190dd8c28170de76900bcda"
         },
         "encoding": {
          "order": {
           "field": "order",
           "type": "quantitative"
          },
          "x": {
           "field": "x",
           "title": null,
           "type": "quantitative"
          },
          "y": {
           "field": "y",
           "title": null,
           "type": "quantitative"
          }
         },
         "mark": "line",
         "width": 500
        },
        {
         "data": {
          "name": "data-4797c0e744b0a9ac817bc1253269f191"
         },
         "encoding": {
          "order": {
           "field": "order",
           "type": "quantitative"
          },
          "x": {
           "field": "x",
           "title": null,
           "type": "quantitative"
          },
          "y": {
           "field": "y",
           "title": null,
           "type": "quantitative"
          }
         },
         "mark": "line",
         "width": 500
        },
        {
         "data": {
          "name": "data-c7f556b3023ba28f4541479c1c31284f"
         },
         "encoding": {
          "order": {
           "field": "order",
           "type": "quantitative"
          },
          "x": {
           "field": "x",
           "title": null,
           "type": "quantitative"
          },
          "y": {
           "field": "y",
           "title": null,
           "type": "quantitative"
          }
         },
         "mark": "line",
         "width": 500
        },
        {
         "data": {
          "name": "data-a3fc29de1d914850e8722e53400f185f"
         },
         "encoding": {
          "x": {
           "field": "x",
           "title": null,
           "type": "quantitative"
          },
          "y": {
           "field": "y",
           "title": null,
           "type": "quantitative"
          }
         },
         "mark": {
          "strokeDash": [
           10,
           10
          ],
          "type": "line"
         },
         "width": 500
        },
        {
         "data": {
          "name": "data-ee56faf1a6ed16551382ba3cd71e3835"
         },
         "encoding": {
          "color": {
           "field": "stroke",
           "type": "nominal"
          },
          "x": {
           "field": "hitter_y",
           "scale": {
            "domain": [
             -10,
             34
            ]
           },
           "title": null,
           "type": "quantitative"
          },
          "y": {
           "field": "hitter_x",
           "scale": {
            "domain": [
             -4,
             13.97
            ]
           },
           "title": null,
           "type": "quantitative"
          }
         },
         "mark": {
          "size": 50,
          "type": "point"
         },
         "title": "Nadal's Faults Locations"
        }
       ]
      },
      "image/png": "[encoded data removed]",
      "text/plain": [
       "<VegaLite 4 object>\n",
       "\n",
       "If you see this message, it means the renderer has not been properly enabled\n",
       "for the frontend that you are using. For more information, see\n",
       "https://altair-viz.github.io/user_guide/troubleshooting.html\n"
      ]
     },
     "execution_count": 67,
     "metadata": {},
     "output_type": "execute_result"
    }
   ],
   "source": [
    "court + Nadal_out"
   ]
  },
  {
   "cell_type": "code",
   "execution_count": 54,
   "metadata": {},
   "outputs": [],
   "source": [
    "Djokovic_out = alt.Chart(full_out.query('hitter == \"Djokovic\"')).mark_point(size = 50).encode(\n",
    "    x = alt.X('hitter_y:Q', title = None,  scale=alt.Scale(domain=[-10, 34])),\n",
    "    y = alt.Y('hitter_x:Q', title = None , scale=alt.Scale(domain=[-4, 13.97])),\n",
    "    color = \"stroke\"\n",
    ").properties(title = \"Djokovic's Faults Locations\")"
   ]
  },
  {
   "cell_type": "code",
   "execution_count": 68,
   "metadata": {},
   "outputs": [
    {
     "data": {
      "application/vnd.vegalite.v4+json": {
       "$schema": "https://vega.github.io/schema/vega-lite/v4.0.2.json",
       "config": {
        "view": {
         "continuousHeight": 300,
         "continuousWidth": 400
        }
       },
       "datasets": {
        "data-4797c0e744b0a9ac817bc1253269f191": [
         {
          "order": 1,
          "x": 23.78,
          "y": 1.37
         },
         {
          "order": 2,
          "x": 0,
          "y": 1.37
         }
        ],
        "data-972fc3faebafaa2f9e51077d3a4def5d": [
         {
          "frameid": 88936,
          "hitter": "Djokovic",
          "hitter_x": 0.97,
          "hitter_y": 0.61,
          "isserve": false,
          "rallyid": 22,
          "receiver": "Nadal",
          "receiver_x": 4.58,
          "receiver_y": 22.37,
          "serve": "first",
          "stroke": "forehand",
          "strokeid": 2,
          "time": 722.36,
          "type": "topspin"
         },
         {
          "frameid": 92935,
          "hitter": "Djokovic",
          "hitter_x": 0.76,
          "hitter_y": -0.02,
          "isserve": false,
          "rallyid": 28,
          "receiver": "Nadal",
          "receiver_x": 5.19,
          "receiver_y": 22.48,
          "serve": "first",
          "stroke": "forehand",
          "strokeid": 2,
          "time": 882.32,
          "type": "topspin"
         },
         {
          "frameid": 93642,
          "hitter": "Djokovic",
          "hitter_x": 8.98,
          "hitter_y": -1.95,
          "isserve": false,
          "rallyid": 29,
          "receiver": "Nadal",
          "receiver_x": 3.06,
          "receiver_y": 23.01,
          "serve": "first",
          "stroke": "forehand",
          "strokeid": 2,
          "time": 910.6,
          "type": "topspin"
         },
         {
          "frameid": 94403,
          "hitter": "Djokovic",
          "hitter_x": 6.37,
          "hitter_y": -1.56,
          "isserve": false,
          "rallyid": 30,
          "receiver": "Nadal",
          "receiver_x": 3.86,
          "receiver_y": 23.44,
          "serve": "first",
          "stroke": "forehand",
          "strokeid": 4,
          "time": 941.04,
          "type": "topspin"
         },
         {
          "frameid": 106150,
          "hitter": "Djokovic",
          "hitter_x": 9.5,
          "hitter_y": 25.37,
          "isserve": false,
          "rallyid": 43,
          "receiver": "Nadal",
          "receiver_x": 4.96,
          "receiver_y": 0.86,
          "serve": "first",
          "stroke": "backhand",
          "strokeid": 2,
          "time": 1410.92,
          "type": "return"
         },
         {
          "frameid": 131407,
          "hitter": "Djokovic",
          "hitter_x": 4.03,
          "hitter_y": 26.45,
          "isserve": false,
          "rallyid": 67,
          "receiver": "Nadal",
          "receiver_x": 5.7,
          "receiver_y": 1.07,
          "serve": "first",
          "stroke": "backhand",
          "strokeid": 2,
          "time": 2421.2000000000007,
          "type": "return"
         },
         {
          "frameid": 161617,
          "hitter": "Djokovic",
          "hitter_x": 10.16,
          "hitter_y": -0.19,
          "isserve": false,
          "rallyid": 103,
          "receiver": "Nadal",
          "receiver_x": -0.47,
          "receiver_y": 24.79,
          "serve": "second",
          "stroke": "forehand",
          "strokeid": 3,
          "time": 3629.6,
          "type": "topspin"
         },
         {
          "frameid": 163034,
          "hitter": "Djokovic",
          "hitter_x": 5.66,
          "hitter_y": -1.98,
          "isserve": false,
          "rallyid": 105,
          "receiver": "Nadal",
          "receiver_x": 1.27,
          "receiver_y": 25.14,
          "serve": "first",
          "stroke": "backhand",
          "strokeid": 3,
          "time": 3686.28,
          "type": "topspin"
         },
         {
          "frameid": 204508,
          "hitter": "Djokovic",
          "hitter_x": 5,
          "hitter_y": -1.22,
          "isserve": false,
          "rallyid": 147,
          "receiver": "Nadal",
          "receiver_x": 3.8,
          "receiver_y": 22.37,
          "serve": "first",
          "stroke": "backhand",
          "strokeid": 2,
          "time": 5345.240000000002,
          "type": "slice"
         },
         {
          "frameid": 219977,
          "hitter": "Djokovic",
          "hitter_x": 0.4,
          "hitter_y": 24.68,
          "isserve": false,
          "rallyid": 164,
          "receiver": "Nadal",
          "receiver_x": 5.76,
          "receiver_y": 1.59,
          "serve": "first",
          "stroke": "forehand",
          "strokeid": 2,
          "time": 5964,
          "type": "return"
         },
         {
          "frameid": 226416,
          "hitter": "Djokovic",
          "hitter_x": 1.13,
          "hitter_y": -0.25,
          "isserve": false,
          "rallyid": 170,
          "receiver": "Nadal",
          "receiver_x": 7.79,
          "receiver_y": 24.33,
          "serve": "first",
          "stroke": "backhand",
          "strokeid": 7,
          "time": 6221.56,
          "type": "topspin"
         },
         {
          "frameid": 228558,
          "hitter": "Djokovic",
          "hitter_x": 2.34,
          "hitter_y": -0.65,
          "isserve": false,
          "rallyid": 173,
          "receiver": "Nadal",
          "receiver_x": 6.12,
          "receiver_y": 25.73,
          "serve": "first",
          "stroke": "backhand",
          "strokeid": 11,
          "time": 6307.240000000002,
          "type": "topspin"
         },
         {
          "frameid": 235603,
          "hitter": "Djokovic",
          "hitter_x": 8.48,
          "hitter_y": 0.19,
          "isserve": false,
          "rallyid": 182,
          "receiver": "Nadal",
          "receiver_x": 3.67,
          "receiver_y": 23.12,
          "serve": "second",
          "stroke": "forehand",
          "strokeid": 2,
          "time": 6589.04,
          "type": "topspin"
         },
         {
          "frameid": 236250,
          "hitter": "Djokovic",
          "hitter_x": 3.69,
          "hitter_y": 0.02,
          "isserve": false,
          "rallyid": 183,
          "receiver": "Nadal",
          "receiver_x": 4.62,
          "receiver_y": 23.55,
          "serve": "first",
          "stroke": "forehand",
          "strokeid": 2,
          "time": 6614.92,
          "type": "return"
         },
         {
          "frameid": 241306,
          "hitter": "Djokovic",
          "hitter_x": 4.92,
          "hitter_y": 26.69,
          "isserve": false,
          "rallyid": 188,
          "receiver": "Nadal",
          "receiver_x": 7.72,
          "receiver_y": -1.56,
          "serve": "second",
          "stroke": "forehand",
          "strokeid": 3,
          "time": 6817.160000000002,
          "type": "topspin"
         },
         {
          "frameid": 243973,
          "hitter": "Djokovic",
          "hitter_x": -0.29,
          "hitter_y": 29.27,
          "isserve": false,
          "rallyid": 191,
          "receiver": "Nadal",
          "receiver_x": 7.28,
          "receiver_y": 0.71,
          "serve": "first",
          "stroke": "forehand",
          "strokeid": 7,
          "time": 6923.84,
          "type": "slice"
         },
         {
          "frameid": 246619,
          "hitter": "Djokovic",
          "hitter_x": 8.6,
          "hitter_y": 26.09,
          "isserve": false,
          "rallyid": 194,
          "receiver": "Nadal",
          "receiver_x": 5.69,
          "receiver_y": 0.97,
          "serve": "first",
          "stroke": "backhand",
          "strokeid": 17,
          "time": 7029.68,
          "type": "topspin"
         },
         {
          "frameid": 250576,
          "hitter": "Djokovic",
          "hitter_x": 3.41,
          "hitter_y": 25.84,
          "isserve": false,
          "rallyid": 198,
          "receiver": "Nadal",
          "receiver_x": 6.38,
          "receiver_y": 1.11,
          "serve": "first",
          "stroke": "backhand",
          "strokeid": 2,
          "time": 7187.96,
          "type": "return"
         },
         {
          "frameid": 255380,
          "hitter": "Djokovic",
          "hitter_x": 4.57,
          "hitter_y": 25.07,
          "isserve": false,
          "rallyid": 204,
          "receiver": "Nadal",
          "receiver_x": 5.79,
          "receiver_y": -1.93,
          "serve": "first",
          "stroke": "backhand",
          "strokeid": 12,
          "time": 7380.120000000001,
          "type": "topspin"
         }
        ],
        "data-a3fc29de1d914850e8722e53400f185f": [
         {
          "x": 11.89,
          "y": 0
         },
         {
          "x": 11.89,
          "y": 10.97
         }
        ],
        "data-b2af84a32190dd8c28170de76900bcda": [
         {
          "order": 1,
          "x": 5.5,
          "y": 1.37
         },
         {
          "order": 2,
          "x": 5.5,
          "y": 9.6
         },
         {
          "order": 3,
          "x": 5.5,
          "y": 5.5
         },
         {
          "order": 4,
          "x": 18.385,
          "y": 5.5
         },
         {
          "order": 5,
          "x": 18.385,
          "y": 1.37
         },
         {
          "order": 6,
          "x": 18.385,
          "y": 9.6
         }
        ],
        "data-c7f556b3023ba28f4541479c1c31284f": [
         {
          "order": 1,
          "x": 23.78,
          "y": 9.6
         },
         {
          "order": 2,
          "x": 0,
          "y": 9.6
         }
        ],
        "data-ce27f3aa794d6d644dd2868ce4628bd6": [
         {
          "order": 1,
          "x": 0,
          "y": 0
         },
         {
          "order": 2,
          "x": 0,
          "y": 10.97
         },
         {
          "order": 3,
          "x": 23.78,
          "y": 10.97
         },
         {
          "order": 4,
          "x": 23.78,
          "y": 0
         },
         {
          "order": 5,
          "x": 0,
          "y": 0
         }
        ]
       },
       "layer": [
        {
         "data": {
          "name": "data-ce27f3aa794d6d644dd2868ce4628bd6"
         },
         "encoding": {
          "order": {
           "field": "order",
           "type": "quantitative"
          },
          "x": {
           "field": "x",
           "title": null,
           "type": "quantitative"
          },
          "y": {
           "field": "y",
           "title": null,
           "type": "quantitative"
          }
         },
         "mark": "line",
         "width": 500
        },
        {
         "data": {
          "name": "data-b2af84a32190dd8c28170de76900bcda"
         },
         "encoding": {
          "order": {
           "field": "order",
           "type": "quantitative"
          },
          "x": {
           "field": "x",
           "title": null,
           "type": "quantitative"
          },
          "y": {
           "field": "y",
           "title": null,
           "type": "quantitative"
          }
         },
         "mark": "line",
         "width": 500
        },
        {
         "data": {
          "name": "data-4797c0e744b0a9ac817bc1253269f191"
         },
         "encoding": {
          "order": {
           "field": "order",
           "type": "quantitative"
          },
          "x": {
           "field": "x",
           "title": null,
           "type": "quantitative"
          },
          "y": {
           "field": "y",
           "title": null,
           "type": "quantitative"
          }
         },
         "mark": "line",
         "width": 500
        },
        {
         "data": {
          "name": "data-c7f556b3023ba28f4541479c1c31284f"
         },
         "encoding": {
          "order": {
           "field": "order",
           "type": "quantitative"
          },
          "x": {
           "field": "x",
           "title": null,
           "type": "quantitative"
          },
          "y": {
           "field": "y",
           "title": null,
           "type": "quantitative"
          }
         },
         "mark": "line",
         "width": 500
        },
        {
         "data": {
          "name": "data-a3fc29de1d914850e8722e53400f185f"
         },
         "encoding": {
          "x": {
           "field": "x",
           "title": null,
           "type": "quantitative"
          },
          "y": {
           "field": "y",
           "title": null,
           "type": "quantitative"
          }
         },
         "mark": {
          "strokeDash": [
           10,
           10
          ],
          "type": "line"
         },
         "width": 500
        },
        {
         "data": {
          "name": "data-972fc3faebafaa2f9e51077d3a4def5d"
         },
         "encoding": {
          "color": {
           "field": "stroke",
           "type": "nominal"
          },
          "x": {
           "field": "hitter_y",
           "scale": {
            "domain": [
             -10,
             34
            ]
           },
           "title": null,
           "type": "quantitative"
          },
          "y": {
           "field": "hitter_x",
           "scale": {
            "domain": [
             -4,
             13.97
            ]
           },
           "title": null,
           "type": "quantitative"
          }
         },
         "mark": {
          "size": 50,
          "type": "point"
         },
         "title": "Djokovic's Faults Locations"
        }
       ]
      },
      "image/png": "[encoded data removed]",
      "text/plain": [
       "<VegaLite 4 object>\n",
       "\n",
       "If you see this message, it means the renderer has not been properly enabled\n",
       "for the frontend that you are using. For more information, see\n",
       "https://altair-viz.github.io/user_guide/troubleshooting.html\n"
      ]
     },
     "execution_count": 68,
     "metadata": {},
     "output_type": "execute_result"
    }
   ],
   "source": [
    "court + Djokovic_out"
   ]
  },
  {
   "cell_type": "markdown",
   "metadata": {},
   "source": [
    "* Nadal made more faults closer to the baslines on forehand returns Compared to Djokovic who made all of his faults behind the baseline with both forhand and backhand returns."
   ]
  },
  {
   "cell_type": "markdown",
   "metadata": {},
   "source": [
    "## Conslusion \n",
    "\n",
    "> While we can say that the reason of Nadal's loss is his unusal defense locations in the court, we should also admit that Djokovic was able to push Nadal to make more faults from his Forehand."
   ]
  }
 ],
 "metadata": {
  "kernelspec": {
   "display_name": "Python 3",
   "language": "python",
   "name": "python3"
  },
  "language_info": {
   "codemirror_mode": {
    "name": "ipython",
    "version": 3
   },
   "file_extension": ".py",
   "mimetype": "text/x-python",
   "name": "python",
   "nbconvert_exporter": "python",
   "pygments_lexer": "ipython3",
   "version": "3.7.6"
  }
 },
 "nbformat": 4,
 "nbformat_minor": 4
}
